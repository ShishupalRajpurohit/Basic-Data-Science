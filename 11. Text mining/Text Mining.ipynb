{
 "cells": [
  {
   "cell_type": "markdown",
   "id": "600d716c",
   "metadata": {},
   "source": [
    "# Problem statement\n",
    "\n",
    "1) Perform sentimental analysis on the Elon-musk tweets (Exlon-musk.csv)"
   ]
  },
  {
   "cell_type": "code",
   "execution_count": 1,
   "id": "16c0a529",
   "metadata": {},
   "outputs": [],
   "source": [
    "#nltk.download('stopwords') \n",
    "#pip install -U textblob"
   ]
  },
  {
   "cell_type": "code",
   "execution_count": 2,
   "id": "af90e281",
   "metadata": {},
   "outputs": [],
   "source": [
    "# Import Libraries\n",
    "import numpy as np\n",
    "import pandas as pd\n",
    "import matplotlib.pyplot as plt\n",
    "import seaborn as sns\n",
    "import string\n",
    "import spacy\n",
    "import re\n",
    "from matplotlib.pyplot import imread\n",
    "from wordcloud import WordCloud, STOPWORDS\n",
    "from nltk.corpus import stopwords  \n",
    "from nltk.stem.porter import PorterStemmer \n",
    "import nltk\n",
    "from textblob import TextBlob\n",
    "import warnings\n",
    "warnings.filterwarnings('ignore')"
   ]
  },
  {
   "cell_type": "code",
   "execution_count": 3,
   "id": "e1b9b882",
   "metadata": {},
   "outputs": [],
   "source": [
    "# load the dataset\n",
    "elon=pd.read_csv(\"Elon_musk.csv\",encoding='cp1252')"
   ]
  },
  {
   "cell_type": "markdown",
   "id": "42d905fc",
   "metadata": {},
   "source": [
    "# EDA"
   ]
  },
  {
   "cell_type": "code",
   "execution_count": 4,
   "id": "0edad7f9",
   "metadata": {},
   "outputs": [
    {
     "data": {
      "text/html": [
       "<div>\n",
       "<style scoped>\n",
       "    .dataframe tbody tr th:only-of-type {\n",
       "        vertical-align: middle;\n",
       "    }\n",
       "\n",
       "    .dataframe tbody tr th {\n",
       "        vertical-align: top;\n",
       "    }\n",
       "\n",
       "    .dataframe thead th {\n",
       "        text-align: right;\n",
       "    }\n",
       "</style>\n",
       "<table border=\"1\" class=\"dataframe\">\n",
       "  <thead>\n",
       "    <tr style=\"text-align: right;\">\n",
       "      <th></th>\n",
       "      <th>Unnamed: 0</th>\n",
       "      <th>Text</th>\n",
       "    </tr>\n",
       "  </thead>\n",
       "  <tbody>\n",
       "    <tr>\n",
       "      <th>0</th>\n",
       "      <td>1</td>\n",
       "      <td>@kunalb11 I’m an alien</td>\n",
       "    </tr>\n",
       "    <tr>\n",
       "      <th>1</th>\n",
       "      <td>2</td>\n",
       "      <td>@ID_AA_Carmack Ray tracing on Cyberpunk with H...</td>\n",
       "    </tr>\n",
       "    <tr>\n",
       "      <th>2</th>\n",
       "      <td>3</td>\n",
       "      <td>@joerogan @Spotify Great interview!</td>\n",
       "    </tr>\n",
       "    <tr>\n",
       "      <th>3</th>\n",
       "      <td>4</td>\n",
       "      <td>@gtera27 Doge is underestimated</td>\n",
       "    </tr>\n",
       "    <tr>\n",
       "      <th>4</th>\n",
       "      <td>5</td>\n",
       "      <td>@teslacn Congratulations Tesla China for amazi...</td>\n",
       "    </tr>\n",
       "  </tbody>\n",
       "</table>\n",
       "</div>"
      ],
      "text/plain": [
       "   Unnamed: 0                                               Text\n",
       "0           1                             @kunalb11 I’m an alien\n",
       "1           2  @ID_AA_Carmack Ray tracing on Cyberpunk with H...\n",
       "2           3                @joerogan @Spotify Great interview!\n",
       "3           4                    @gtera27 Doge is underestimated\n",
       "4           5  @teslacn Congratulations Tesla China for amazi..."
      ]
     },
     "execution_count": 4,
     "metadata": {},
     "output_type": "execute_result"
    }
   ],
   "source": [
    "elon.head()"
   ]
  },
  {
   "cell_type": "code",
   "execution_count": 5,
   "id": "933582e5",
   "metadata": {},
   "outputs": [
    {
     "name": "stdout",
     "output_type": "stream",
     "text": [
      "<class 'pandas.core.frame.DataFrame'>\n",
      "RangeIndex: 1999 entries, 0 to 1998\n",
      "Data columns (total 2 columns):\n",
      " #   Column      Non-Null Count  Dtype \n",
      "---  ------      --------------  ----- \n",
      " 0   Unnamed: 0  1999 non-null   int64 \n",
      " 1   Text        1999 non-null   object\n",
      "dtypes: int64(1), object(1)\n",
      "memory usage: 31.4+ KB\n"
     ]
    }
   ],
   "source": [
    "elon.info()"
   ]
  },
  {
   "cell_type": "markdown",
   "id": "a5612410",
   "metadata": {},
   "source": [
    "#### Removing spaces and symbol"
   ]
  },
  {
   "cell_type": "code",
   "execution_count": 6,
   "id": "c8fd04fb",
   "metadata": {},
   "outputs": [],
   "source": [
    " # to remoce space and symbols\n",
    "elon.Text=elon.Text.apply(lambda x: re.sub('[^a-zA-Z ]', \"\", x))"
   ]
  },
  {
   "cell_type": "code",
   "execution_count": 7,
   "id": "50d3252e",
   "metadata": {},
   "outputs": [
    {
     "data": {
      "text/plain": [
       "0                                      kunalb Im an alien\n",
       "1       IDAACarmack Ray tracing on Cyberpunk with HDR ...\n",
       "2                        joerogan Spotify Great interview\n",
       "3                            gtera Doge is underestimated\n",
       "4       teslacn Congratulations Tesla China for amazin...\n",
       "                              ...                        \n",
       "1994    flcnhvy True it sounds so surreal but the nega...\n",
       "1995    PPathole Make sure to read ur terms amp condit...\n",
       "1996                    TeslaGong PPathole Samwise Gamgee\n",
       "1997               PPathole Altho Dumb and Dumber is UFUF\n",
       "1998                              Progress update August \n",
       "Name: Text, Length: 1999, dtype: object"
      ]
     },
     "execution_count": 7,
     "metadata": {},
     "output_type": "execute_result"
    }
   ],
   "source": [
    "elon.Text"
   ]
  },
  {
   "cell_type": "code",
   "execution_count": 8,
   "id": "a69d2032",
   "metadata": {},
   "outputs": [
    {
     "data": {
      "text/plain": [
       "'I am cool you know  '"
      ]
     },
     "execution_count": 8,
     "metadata": {},
     "output_type": "execute_result"
    }
   ],
   "source": [
    "re.sub('[^a-zA-Z ]', \"\", \"I am cool you know $$$$ ;\") # for checking purpose that how the code works"
   ]
  },
  {
   "cell_type": "code",
   "execution_count": 9,
   "id": "8bd4a91b",
   "metadata": {},
   "outputs": [
    {
     "data": {
      "text/html": [
       "<div>\n",
       "<style scoped>\n",
       "    .dataframe tbody tr th:only-of-type {\n",
       "        vertical-align: middle;\n",
       "    }\n",
       "\n",
       "    .dataframe tbody tr th {\n",
       "        vertical-align: top;\n",
       "    }\n",
       "\n",
       "    .dataframe thead th {\n",
       "        text-align: right;\n",
       "    }\n",
       "</style>\n",
       "<table border=\"1\" class=\"dataframe\">\n",
       "  <thead>\n",
       "    <tr style=\"text-align: right;\">\n",
       "      <th></th>\n",
       "      <th>Unnamed: 0</th>\n",
       "      <th>Text</th>\n",
       "    </tr>\n",
       "  </thead>\n",
       "  <tbody>\n",
       "    <tr>\n",
       "      <th>0</th>\n",
       "      <td>1</td>\n",
       "      <td>kunalb Im an alien</td>\n",
       "    </tr>\n",
       "    <tr>\n",
       "      <th>1</th>\n",
       "      <td>2</td>\n",
       "      <td>IDAACarmack Ray tracing on Cyberpunk with HDR ...</td>\n",
       "    </tr>\n",
       "    <tr>\n",
       "      <th>2</th>\n",
       "      <td>3</td>\n",
       "      <td>joerogan Spotify Great interview</td>\n",
       "    </tr>\n",
       "    <tr>\n",
       "      <th>3</th>\n",
       "      <td>4</td>\n",
       "      <td>gtera Doge is underestimated</td>\n",
       "    </tr>\n",
       "    <tr>\n",
       "      <th>4</th>\n",
       "      <td>5</td>\n",
       "      <td>teslacn Congratulations Tesla China for amazin...</td>\n",
       "    </tr>\n",
       "  </tbody>\n",
       "</table>\n",
       "</div>"
      ],
      "text/plain": [
       "   Unnamed: 0                                               Text\n",
       "0           1                                 kunalb Im an alien\n",
       "1           2  IDAACarmack Ray tracing on Cyberpunk with HDR ...\n",
       "2           3                   joerogan Spotify Great interview\n",
       "3           4                       gtera Doge is underestimated\n",
       "4           5  teslacn Congratulations Tesla China for amazin..."
      ]
     },
     "execution_count": 9,
     "metadata": {},
     "output_type": "execute_result"
    }
   ],
   "source": [
    "elon.head()"
   ]
  },
  {
   "cell_type": "markdown",
   "id": "b6852c38",
   "metadata": {},
   "source": [
    "#### Making text to lower"
   ]
  },
  {
   "cell_type": "code",
   "execution_count": 10,
   "id": "97dfe5cf",
   "metadata": {},
   "outputs": [],
   "source": [
    "elon.Text=elon.Text.apply(lambda x: x.lower()) # used to make text into lower case"
   ]
  },
  {
   "cell_type": "code",
   "execution_count": 11,
   "id": "b6281ebe",
   "metadata": {},
   "outputs": [
    {
     "data": {
      "text/html": [
       "<div>\n",
       "<style scoped>\n",
       "    .dataframe tbody tr th:only-of-type {\n",
       "        vertical-align: middle;\n",
       "    }\n",
       "\n",
       "    .dataframe tbody tr th {\n",
       "        vertical-align: top;\n",
       "    }\n",
       "\n",
       "    .dataframe thead th {\n",
       "        text-align: right;\n",
       "    }\n",
       "</style>\n",
       "<table border=\"1\" class=\"dataframe\">\n",
       "  <thead>\n",
       "    <tr style=\"text-align: right;\">\n",
       "      <th></th>\n",
       "      <th>Unnamed: 0</th>\n",
       "      <th>Text</th>\n",
       "    </tr>\n",
       "  </thead>\n",
       "  <tbody>\n",
       "    <tr>\n",
       "      <th>0</th>\n",
       "      <td>1</td>\n",
       "      <td>kunalb im an alien</td>\n",
       "    </tr>\n",
       "    <tr>\n",
       "      <th>1</th>\n",
       "      <td>2</td>\n",
       "      <td>idaacarmack ray tracing on cyberpunk with hdr ...</td>\n",
       "    </tr>\n",
       "    <tr>\n",
       "      <th>2</th>\n",
       "      <td>3</td>\n",
       "      <td>joerogan spotify great interview</td>\n",
       "    </tr>\n",
       "    <tr>\n",
       "      <th>3</th>\n",
       "      <td>4</td>\n",
       "      <td>gtera doge is underestimated</td>\n",
       "    </tr>\n",
       "    <tr>\n",
       "      <th>4</th>\n",
       "      <td>5</td>\n",
       "      <td>teslacn congratulations tesla china for amazin...</td>\n",
       "    </tr>\n",
       "  </tbody>\n",
       "</table>\n",
       "</div>"
      ],
      "text/plain": [
       "   Unnamed: 0                                               Text\n",
       "0           1                                 kunalb im an alien\n",
       "1           2  idaacarmack ray tracing on cyberpunk with hdr ...\n",
       "2           3                   joerogan spotify great interview\n",
       "3           4                       gtera doge is underestimated\n",
       "4           5  teslacn congratulations tesla china for amazin..."
      ]
     },
     "execution_count": 11,
     "metadata": {},
     "output_type": "execute_result"
    }
   ],
   "source": [
    "elon.head()"
   ]
  },
  {
   "cell_type": "code",
   "execution_count": 12,
   "id": "a8db82f4",
   "metadata": {},
   "outputs": [
    {
     "name": "stderr",
     "output_type": "stream",
     "text": [
      "[nltk_data] Downloading package stopwords to\n",
      "[nltk_data]     C:\\Users\\user\\AppData\\Roaming\\nltk_data...\n",
      "[nltk_data]   Package stopwords is already up-to-date!\n"
     ]
    },
    {
     "data": {
      "text/plain": [
       "True"
      ]
     },
     "execution_count": 12,
     "metadata": {},
     "output_type": "execute_result"
    }
   ],
   "source": [
    "nltk.download('stopwords')"
   ]
  },
  {
   "cell_type": "markdown",
   "id": "e64a874d",
   "metadata": {},
   "source": [
    "#### Splitting the words from line"
   ]
  },
  {
   "cell_type": "code",
   "execution_count": 13,
   "id": "37af3fb6",
   "metadata": {},
   "outputs": [],
   "source": [
    "elon.Text=elon.Text.apply(lambda x: x.split())"
   ]
  },
  {
   "cell_type": "code",
   "execution_count": 14,
   "id": "982e80e8",
   "metadata": {},
   "outputs": [
    {
     "data": {
      "text/html": [
       "<div>\n",
       "<style scoped>\n",
       "    .dataframe tbody tr th:only-of-type {\n",
       "        vertical-align: middle;\n",
       "    }\n",
       "\n",
       "    .dataframe tbody tr th {\n",
       "        vertical-align: top;\n",
       "    }\n",
       "\n",
       "    .dataframe thead th {\n",
       "        text-align: right;\n",
       "    }\n",
       "</style>\n",
       "<table border=\"1\" class=\"dataframe\">\n",
       "  <thead>\n",
       "    <tr style=\"text-align: right;\">\n",
       "      <th></th>\n",
       "      <th>Unnamed: 0</th>\n",
       "      <th>Text</th>\n",
       "    </tr>\n",
       "  </thead>\n",
       "  <tbody>\n",
       "    <tr>\n",
       "      <th>0</th>\n",
       "      <td>1</td>\n",
       "      <td>[kunalb, im, an, alien]</td>\n",
       "    </tr>\n",
       "    <tr>\n",
       "      <th>1</th>\n",
       "      <td>2</td>\n",
       "      <td>[idaacarmack, ray, tracing, on, cyberpunk, wit...</td>\n",
       "    </tr>\n",
       "    <tr>\n",
       "      <th>2</th>\n",
       "      <td>3</td>\n",
       "      <td>[joerogan, spotify, great, interview]</td>\n",
       "    </tr>\n",
       "    <tr>\n",
       "      <th>3</th>\n",
       "      <td>4</td>\n",
       "      <td>[gtera, doge, is, underestimated]</td>\n",
       "    </tr>\n",
       "    <tr>\n",
       "      <th>4</th>\n",
       "      <td>5</td>\n",
       "      <td>[teslacn, congratulations, tesla, china, for, ...</td>\n",
       "    </tr>\n",
       "  </tbody>\n",
       "</table>\n",
       "</div>"
      ],
      "text/plain": [
       "   Unnamed: 0                                               Text\n",
       "0           1                            [kunalb, im, an, alien]\n",
       "1           2  [idaacarmack, ray, tracing, on, cyberpunk, wit...\n",
       "2           3              [joerogan, spotify, great, interview]\n",
       "3           4                  [gtera, doge, is, underestimated]\n",
       "4           5  [teslacn, congratulations, tesla, china, for, ..."
      ]
     },
     "execution_count": 14,
     "metadata": {},
     "output_type": "execute_result"
    }
   ],
   "source": [
    "elon.head()"
   ]
  },
  {
   "cell_type": "markdown",
   "id": "2f710fae",
   "metadata": {},
   "source": [
    "#### Removing Stopwords"
   ]
  },
  {
   "cell_type": "code",
   "execution_count": 15,
   "id": "3ce9a69d",
   "metadata": {},
   "outputs": [],
   "source": [
    "elon.Text=elon.Text.apply(lambda x: [word  for word in x if word not in set(stopwords.words('english'))])"
   ]
  },
  {
   "cell_type": "code",
   "execution_count": 16,
   "id": "031f9fb9",
   "metadata": {},
   "outputs": [
    {
     "data": {
      "text/html": [
       "<div>\n",
       "<style scoped>\n",
       "    .dataframe tbody tr th:only-of-type {\n",
       "        vertical-align: middle;\n",
       "    }\n",
       "\n",
       "    .dataframe tbody tr th {\n",
       "        vertical-align: top;\n",
       "    }\n",
       "\n",
       "    .dataframe thead th {\n",
       "        text-align: right;\n",
       "    }\n",
       "</style>\n",
       "<table border=\"1\" class=\"dataframe\">\n",
       "  <thead>\n",
       "    <tr style=\"text-align: right;\">\n",
       "      <th></th>\n",
       "      <th>Unnamed: 0</th>\n",
       "      <th>Text</th>\n",
       "    </tr>\n",
       "  </thead>\n",
       "  <tbody>\n",
       "    <tr>\n",
       "      <th>0</th>\n",
       "      <td>1</td>\n",
       "      <td>[kunalb, im, alien]</td>\n",
       "    </tr>\n",
       "    <tr>\n",
       "      <th>1</th>\n",
       "      <td>2</td>\n",
       "      <td>[idaacarmack, ray, tracing, cyberpunk, hdr, ne...</td>\n",
       "    </tr>\n",
       "    <tr>\n",
       "      <th>2</th>\n",
       "      <td>3</td>\n",
       "      <td>[joerogan, spotify, great, interview]</td>\n",
       "    </tr>\n",
       "    <tr>\n",
       "      <th>3</th>\n",
       "      <td>4</td>\n",
       "      <td>[gtera, doge, underestimated]</td>\n",
       "    </tr>\n",
       "    <tr>\n",
       "      <th>4</th>\n",
       "      <td>5</td>\n",
       "      <td>[teslacn, congratulations, tesla, china, amazi...</td>\n",
       "    </tr>\n",
       "  </tbody>\n",
       "</table>\n",
       "</div>"
      ],
      "text/plain": [
       "   Unnamed: 0                                               Text\n",
       "0           1                                [kunalb, im, alien]\n",
       "1           2  [idaacarmack, ray, tracing, cyberpunk, hdr, ne...\n",
       "2           3              [joerogan, spotify, great, interview]\n",
       "3           4                      [gtera, doge, underestimated]\n",
       "4           5  [teslacn, congratulations, tesla, china, amazi..."
      ]
     },
     "execution_count": 16,
     "metadata": {},
     "output_type": "execute_result"
    }
   ],
   "source": [
    "elon.head()"
   ]
  },
  {
   "cell_type": "code",
   "execution_count": 17,
   "id": "de5f37c4",
   "metadata": {},
   "outputs": [
    {
     "data": {
      "text/plain": [
       "['i',\n",
       " 'me',\n",
       " 'my',\n",
       " 'myself',\n",
       " 'we',\n",
       " 'our',\n",
       " 'ours',\n",
       " 'ourselves',\n",
       " 'you',\n",
       " \"you're\",\n",
       " \"you've\",\n",
       " \"you'll\",\n",
       " \"you'd\",\n",
       " 'your',\n",
       " 'yours',\n",
       " 'yourself',\n",
       " 'yourselves',\n",
       " 'he',\n",
       " 'him',\n",
       " 'his',\n",
       " 'himself',\n",
       " 'she',\n",
       " \"she's\",\n",
       " 'her',\n",
       " 'hers',\n",
       " 'herself',\n",
       " 'it',\n",
       " \"it's\",\n",
       " 'its',\n",
       " 'itself',\n",
       " 'they',\n",
       " 'them',\n",
       " 'their',\n",
       " 'theirs',\n",
       " 'themselves',\n",
       " 'what',\n",
       " 'which',\n",
       " 'who',\n",
       " 'whom',\n",
       " 'this',\n",
       " 'that',\n",
       " \"that'll\",\n",
       " 'these',\n",
       " 'those',\n",
       " 'am',\n",
       " 'is',\n",
       " 'are',\n",
       " 'was',\n",
       " 'were',\n",
       " 'be',\n",
       " 'been',\n",
       " 'being',\n",
       " 'have',\n",
       " 'has',\n",
       " 'had',\n",
       " 'having',\n",
       " 'do',\n",
       " 'does',\n",
       " 'did',\n",
       " 'doing',\n",
       " 'a',\n",
       " 'an',\n",
       " 'the',\n",
       " 'and',\n",
       " 'but',\n",
       " 'if',\n",
       " 'or',\n",
       " 'because',\n",
       " 'as',\n",
       " 'until',\n",
       " 'while',\n",
       " 'of',\n",
       " 'at',\n",
       " 'by',\n",
       " 'for',\n",
       " 'with',\n",
       " 'about',\n",
       " 'against',\n",
       " 'between',\n",
       " 'into',\n",
       " 'through',\n",
       " 'during',\n",
       " 'before',\n",
       " 'after',\n",
       " 'above',\n",
       " 'below',\n",
       " 'to',\n",
       " 'from',\n",
       " 'up',\n",
       " 'down',\n",
       " 'in',\n",
       " 'out',\n",
       " 'on',\n",
       " 'off',\n",
       " 'over',\n",
       " 'under',\n",
       " 'again',\n",
       " 'further',\n",
       " 'then',\n",
       " 'once',\n",
       " 'here',\n",
       " 'there',\n",
       " 'when',\n",
       " 'where',\n",
       " 'why',\n",
       " 'how',\n",
       " 'all',\n",
       " 'any',\n",
       " 'both',\n",
       " 'each',\n",
       " 'few',\n",
       " 'more',\n",
       " 'most',\n",
       " 'other',\n",
       " 'some',\n",
       " 'such',\n",
       " 'no',\n",
       " 'nor',\n",
       " 'not',\n",
       " 'only',\n",
       " 'own',\n",
       " 'same',\n",
       " 'so',\n",
       " 'than',\n",
       " 'too',\n",
       " 'very',\n",
       " 's',\n",
       " 't',\n",
       " 'can',\n",
       " 'will',\n",
       " 'just',\n",
       " 'don',\n",
       " \"don't\",\n",
       " 'should',\n",
       " \"should've\",\n",
       " 'now',\n",
       " 'd',\n",
       " 'll',\n",
       " 'm',\n",
       " 'o',\n",
       " 're',\n",
       " 've',\n",
       " 'y',\n",
       " 'ain',\n",
       " 'aren',\n",
       " \"aren't\",\n",
       " 'couldn',\n",
       " \"couldn't\",\n",
       " 'didn',\n",
       " \"didn't\",\n",
       " 'doesn',\n",
       " \"doesn't\",\n",
       " 'hadn',\n",
       " \"hadn't\",\n",
       " 'hasn',\n",
       " \"hasn't\",\n",
       " 'haven',\n",
       " \"haven't\",\n",
       " 'isn',\n",
       " \"isn't\",\n",
       " 'ma',\n",
       " 'mightn',\n",
       " \"mightn't\",\n",
       " 'mustn',\n",
       " \"mustn't\",\n",
       " 'needn',\n",
       " \"needn't\",\n",
       " 'shan',\n",
       " \"shan't\",\n",
       " 'shouldn',\n",
       " \"shouldn't\",\n",
       " 'wasn',\n",
       " \"wasn't\",\n",
       " 'weren',\n",
       " \"weren't\",\n",
       " 'won',\n",
       " \"won't\",\n",
       " 'wouldn',\n",
       " \"wouldn't\"]"
      ]
     },
     "execution_count": 17,
     "metadata": {},
     "output_type": "execute_result"
    }
   ],
   "source": [
    "stopwords.words(\"english\")"
   ]
  },
  {
   "cell_type": "markdown",
   "id": "b421d63d",
   "metadata": {},
   "source": [
    "#### Stemming"
   ]
  },
  {
   "cell_type": "code",
   "execution_count": 18,
   "id": "8e49e098",
   "metadata": {},
   "outputs": [],
   "source": [
    "ps = PorterStemmer()  \n",
    "elon.Text=elon.Text.apply(lambda x: [ps.stem(word) for word in x])"
   ]
  },
  {
   "cell_type": "code",
   "execution_count": 19,
   "id": "ff35a219",
   "metadata": {},
   "outputs": [
    {
     "data": {
      "text/plain": [
       "0                                  [kunalb, im, alien]\n",
       "1    [idaacarmack, ray, trace, cyberpunk, hdr, next...\n",
       "2                [joerogan, spotifi, great, interview]\n",
       "3                            [gtera, doge, underestim]\n",
       "4    [teslacn, congratul, tesla, china, amaz, execu...\n",
       "Name: Text, dtype: object"
      ]
     },
     "execution_count": 19,
     "metadata": {},
     "output_type": "execute_result"
    }
   ],
   "source": [
    "elon.Text.head()"
   ]
  },
  {
   "cell_type": "markdown",
   "id": "bf448448",
   "metadata": {},
   "source": [
    "#### Rejoining"
   ]
  },
  {
   "cell_type": "code",
   "execution_count": 20,
   "id": "d2d02e55",
   "metadata": {},
   "outputs": [],
   "source": [
    "elon.Text=elon.Text.apply(lambda x: \" \".join(x))"
   ]
  },
  {
   "cell_type": "code",
   "execution_count": 21,
   "id": "ae1d3901",
   "metadata": {},
   "outputs": [
    {
     "data": {
      "text/plain": [
       "0                                         kunalb im alien\n",
       "1       idaacarmack ray trace cyberpunk hdr nextlevel tri\n",
       "2                        joerogan spotifi great interview\n",
       "3                                   gtera doge underestim\n",
       "4       teslacn congratul tesla china amaz execut last...\n",
       "                              ...                        \n",
       "1994    flcnhvi true sound surreal neg propaganda stil...\n",
       "1995    ppathol make sure read ur term amp condit clic...\n",
       "1996                       teslagong ppathol samwis gamge\n",
       "1997                       ppathol altho dumb dumber ufuf\n",
       "1998                                progress updat august\n",
       "Name: Text, Length: 1999, dtype: object"
      ]
     },
     "execution_count": 21,
     "metadata": {},
     "output_type": "execute_result"
    }
   ],
   "source": [
    "elon.Text"
   ]
  },
  {
   "cell_type": "markdown",
   "id": "b89894e5",
   "metadata": {},
   "source": [
    "# Sentiment Analysis"
   ]
  },
  {
   "cell_type": "code",
   "execution_count": 22,
   "id": "1b0d2abc",
   "metadata": {},
   "outputs": [
    {
     "data": {
      "text/html": [
       "<div>\n",
       "<style scoped>\n",
       "    .dataframe tbody tr th:only-of-type {\n",
       "        vertical-align: middle;\n",
       "    }\n",
       "\n",
       "    .dataframe tbody tr th {\n",
       "        vertical-align: top;\n",
       "    }\n",
       "\n",
       "    .dataframe thead th {\n",
       "        text-align: right;\n",
       "    }\n",
       "</style>\n",
       "<table border=\"1\" class=\"dataframe\">\n",
       "  <thead>\n",
       "    <tr style=\"text-align: right;\">\n",
       "      <th></th>\n",
       "      <th>Text</th>\n",
       "      <th>sentiment</th>\n",
       "    </tr>\n",
       "  </thead>\n",
       "  <tbody>\n",
       "    <tr>\n",
       "      <th>0</th>\n",
       "      <td>kunalb im alien</td>\n",
       "      <td>-0.25</td>\n",
       "    </tr>\n",
       "    <tr>\n",
       "      <th>1</th>\n",
       "      <td>idaacarmack ray trace cyberpunk hdr nextlevel tri</td>\n",
       "      <td>0.00</td>\n",
       "    </tr>\n",
       "    <tr>\n",
       "      <th>2</th>\n",
       "      <td>joerogan spotifi great interview</td>\n",
       "      <td>0.80</td>\n",
       "    </tr>\n",
       "    <tr>\n",
       "      <th>3</th>\n",
       "      <td>gtera doge underestim</td>\n",
       "      <td>0.00</td>\n",
       "    </tr>\n",
       "    <tr>\n",
       "      <th>4</th>\n",
       "      <td>teslacn congratul tesla china amaz execut last...</td>\n",
       "      <td>0.00</td>\n",
       "    </tr>\n",
       "  </tbody>\n",
       "</table>\n",
       "</div>"
      ],
      "text/plain": [
       "                                                Text  sentiment\n",
       "0                                    kunalb im alien      -0.25\n",
       "1  idaacarmack ray trace cyberpunk hdr nextlevel tri       0.00\n",
       "2                   joerogan spotifi great interview       0.80\n",
       "3                              gtera doge underestim       0.00\n",
       "4  teslacn congratul tesla china amaz execut last...       0.00"
      ]
     },
     "execution_count": 22,
     "metadata": {},
     "output_type": "execute_result"
    }
   ],
   "source": [
    "elon['sentiment'] = elon['Text'].apply(lambda x:TextBlob(x).sentiment[0] )\n",
    "elon[['Text','sentiment']].head()\n",
    "# TextBlob(x).sentiment[1] = sentiment[1]= negative and positive [0], only positive=[1]"
   ]
  },
  {
   "cell_type": "code",
   "execution_count": 23,
   "id": "28c55a69",
   "metadata": {
    "scrolled": true
   },
   "outputs": [
    {
     "data": {
      "text/plain": [
       "0      -0.250000\n",
       "1       0.000000\n",
       "2       0.800000\n",
       "3       0.000000\n",
       "4       0.000000\n",
       "          ...   \n",
       "1994    0.186667\n",
       "1995    0.500000\n",
       "1996    0.000000\n",
       "1997   -0.375000\n",
       "1998    0.000000\n",
       "Name: sentiment, Length: 1999, dtype: float64"
      ]
     },
     "execution_count": 23,
     "metadata": {},
     "output_type": "execute_result"
    }
   ],
   "source": [
    "elon.sentiment"
   ]
  },
  {
   "cell_type": "code",
   "execution_count": 24,
   "id": "14f389f4",
   "metadata": {},
   "outputs": [
    {
     "data": {
      "text/plain": [
       "[<matplotlib.lines.Line2D at 0x2b588f066d0>]"
      ]
     },
     "execution_count": 24,
     "metadata": {},
     "output_type": "execute_result"
    },
    {
     "data": {
      "image/png": "[encoded data removed]",
      "text/plain": [
       "<Figure size 640x480 with 1 Axes>"
      ]
     },
     "metadata": {},
     "output_type": "display_data"
    }
   ],
   "source": [
    "plt.plot(elon.sentiment)"
   ]
  },
  {
   "cell_type": "code",
   "execution_count": 25,
   "id": "7e201a6c",
   "metadata": {},
   "outputs": [
    {
     "data": {
      "text/html": [
       "<div>\n",
       "<style scoped>\n",
       "    .dataframe tbody tr th:only-of-type {\n",
       "        vertical-align: middle;\n",
       "    }\n",
       "\n",
       "    .dataframe tbody tr th {\n",
       "        vertical-align: top;\n",
       "    }\n",
       "\n",
       "    .dataframe thead th {\n",
       "        text-align: right;\n",
       "    }\n",
       "</style>\n",
       "<table border=\"1\" class=\"dataframe\">\n",
       "  <thead>\n",
       "    <tr style=\"text-align: right;\">\n",
       "      <th></th>\n",
       "      <th>Unnamed: 0</th>\n",
       "      <th>Text</th>\n",
       "      <th>sentiment</th>\n",
       "    </tr>\n",
       "  </thead>\n",
       "  <tbody>\n",
       "    <tr>\n",
       "      <th>0</th>\n",
       "      <td>1</td>\n",
       "      <td>kunalb im alien</td>\n",
       "      <td>-0.250000</td>\n",
       "    </tr>\n",
       "    <tr>\n",
       "      <th>1</th>\n",
       "      <td>2</td>\n",
       "      <td>idaacarmack ray trace cyberpunk hdr nextlevel tri</td>\n",
       "      <td>0.000000</td>\n",
       "    </tr>\n",
       "    <tr>\n",
       "      <th>2</th>\n",
       "      <td>3</td>\n",
       "      <td>joerogan spotifi great interview</td>\n",
       "      <td>0.800000</td>\n",
       "    </tr>\n",
       "    <tr>\n",
       "      <th>3</th>\n",
       "      <td>4</td>\n",
       "      <td>gtera doge underestim</td>\n",
       "      <td>0.000000</td>\n",
       "    </tr>\n",
       "    <tr>\n",
       "      <th>4</th>\n",
       "      <td>5</td>\n",
       "      <td>teslacn congratul tesla china amaz execut last...</td>\n",
       "      <td>0.000000</td>\n",
       "    </tr>\n",
       "    <tr>\n",
       "      <th>...</th>\n",
       "      <td>...</td>\n",
       "      <td>...</td>\n",
       "      <td>...</td>\n",
       "    </tr>\n",
       "    <tr>\n",
       "      <th>1994</th>\n",
       "      <td>1995</td>\n",
       "      <td>flcnhvi true sound surreal neg propaganda stil...</td>\n",
       "      <td>0.186667</td>\n",
       "    </tr>\n",
       "    <tr>\n",
       "      <th>1995</th>\n",
       "      <td>1996</td>\n",
       "      <td>ppathol make sure read ur term amp condit clic...</td>\n",
       "      <td>0.500000</td>\n",
       "    </tr>\n",
       "    <tr>\n",
       "      <th>1996</th>\n",
       "      <td>1997</td>\n",
       "      <td>teslagong ppathol samwis gamge</td>\n",
       "      <td>0.000000</td>\n",
       "    </tr>\n",
       "    <tr>\n",
       "      <th>1997</th>\n",
       "      <td>1998</td>\n",
       "      <td>ppathol altho dumb dumber ufuf</td>\n",
       "      <td>-0.375000</td>\n",
       "    </tr>\n",
       "    <tr>\n",
       "      <th>1998</th>\n",
       "      <td>1999</td>\n",
       "      <td>progress updat august</td>\n",
       "      <td>0.000000</td>\n",
       "    </tr>\n",
       "  </tbody>\n",
       "</table>\n",
       "<p>1999 rows × 3 columns</p>\n",
       "</div>"
      ],
      "text/plain": [
       "      Unnamed: 0                                               Text  sentiment\n",
       "0              1                                    kunalb im alien  -0.250000\n",
       "1              2  idaacarmack ray trace cyberpunk hdr nextlevel tri   0.000000\n",
       "2              3                   joerogan spotifi great interview   0.800000\n",
       "3              4                              gtera doge underestim   0.000000\n",
       "4              5  teslacn congratul tesla china amaz execut last...   0.000000\n",
       "...          ...                                                ...        ...\n",
       "1994        1995  flcnhvi true sound surreal neg propaganda stil...   0.186667\n",
       "1995        1996  ppathol make sure read ur term amp condit clic...   0.500000\n",
       "1996        1997                     teslagong ppathol samwis gamge   0.000000\n",
       "1997        1998                     ppathol altho dumb dumber ufuf  -0.375000\n",
       "1998        1999                              progress updat august   0.000000\n",
       "\n",
       "[1999 rows x 3 columns]"
      ]
     },
     "execution_count": 25,
     "metadata": {},
     "output_type": "execute_result"
    }
   ],
   "source": [
    "elon"
   ]
  },
  {
   "cell_type": "code",
   "execution_count": 26,
   "id": "59bf25d5",
   "metadata": {},
   "outputs": [
    {
     "name": "stdout",
     "output_type": "stream",
     "text": [
      "<class 'pandas.core.frame.DataFrame'>\n",
      "RangeIndex: 1999 entries, 0 to 1998\n",
      "Data columns (total 3 columns):\n",
      " #   Column      Non-Null Count  Dtype  \n",
      "---  ------      --------------  -----  \n",
      " 0   Unnamed: 0  1999 non-null   int64  \n",
      " 1   Text        1999 non-null   object \n",
      " 2   sentiment   1999 non-null   float64\n",
      "dtypes: float64(1), int64(1), object(1)\n",
      "memory usage: 47.0+ KB\n"
     ]
    }
   ],
   "source": [
    "elon.info()"
   ]
  },
  {
   "cell_type": "code",
   "execution_count": 27,
   "id": "d4aa8c6f",
   "metadata": {},
   "outputs": [],
   "source": [
    "# Convert SentimentScore column to float\n",
    "elon['sentiment'] = elon['sentiment'].astype(float)\n",
    "\n",
    "# Create SentimentCategory column\n",
    "elon['SentimentCategory'] = 'Neutral'\n",
    "# dividing the values as per sentiment \n",
    "for index, row in elon.iterrows():\n",
    "    if row['sentiment'] > 0.25:\n",
    "        elon.at[index, 'SentimentCategory'] = 'Positive'\n",
    "    elif row['sentiment'] < -0.25:\n",
    "        elon.at[index, 'SentimentCategory'] = 'Negative'\n",
    "\n"
   ]
  },
  {
   "cell_type": "code",
   "execution_count": 28,
   "id": "49c5b573",
   "metadata": {},
   "outputs": [
    {
     "data": {
      "text/plain": [
       "<AxesSubplot:xlabel='SentimentCategory', ylabel='count'>"
      ]
     },
     "execution_count": 28,
     "metadata": {},
     "output_type": "execute_result"
    },
    {
     "data": {
      "image/png": "[encoded data removed]",
      "text/plain": [
       "<Figure size 640x480 with 1 Axes>"
      ]
     },
     "metadata": {},
     "output_type": "display_data"
    }
   ],
   "source": [
    "sns.countplot(x=elon.SentimentCategory)"
   ]
  },
  {
   "cell_type": "markdown",
   "id": "a2304d8e",
   "metadata": {},
   "source": [
    "# Inference \n",
    "as we can see that the neutral count is very high and positive count is the second. the negative sentiments are low"
   ]
  },
  {
   "cell_type": "code",
   "execution_count": null,
   "id": "6346e682",
   "metadata": {},
   "outputs": [],
   "source": []
  },
  {
   "cell_type": "code",
   "execution_count": null,
   "id": "8a402f92",
   "metadata": {},
   "outputs": [],
   "source": []
  },
  {
   "cell_type": "markdown",
   "id": "7cbe479e",
   "metadata": {},
   "source": [
    "# problem statement\n",
    "#### 1) Extract reviews of any product from ecommerce website like amazon\n",
    "#### 2) Perform emotion mining\n"
   ]
  },
  {
   "cell_type": "code",
   "execution_count": 29,
   "id": "f701d513",
   "metadata": {},
   "outputs": [],
   "source": [
    "import requests\n",
    "from bs4 import BeautifulSoup"
   ]
  },
  {
   "cell_type": "markdown",
   "id": "ddd6b29a",
   "metadata": {},
   "source": [
    "# Scraping reviews using BeautifulSoup"
   ]
  },
  {
   "cell_type": "code",
   "execution_count": 57,
   "id": "a66ca6e8",
   "metadata": {},
   "outputs": [],
   "source": [
    "link=\"https://www.amazon.in/Airdopes-141-Playtime-Resistance-Bluetooth/product-reviews/B09N3ZNHTY/ref=cm_cr_dp_d_show_all_btm?ie=UTF8&reviewerType=all_reviews\""
   ]
  },
  {
   "cell_type": "code",
   "execution_count": 58,
   "id": "73666462",
   "metadata": {},
   "outputs": [
    {
     "name": "stdout",
     "output_type": "stream",
     "text": [
      "https://www.amazon.in/Airdopes-141-Playtime-Resistance-Bluetooth/product-reviews/B09N3ZNHTY/ref=cm_cr_dp_d_show_all_btm?ie=UTF8&reviewerType=all_reviews&pageNumber=0\n",
      "https://www.amazon.in/Airdopes-141-Playtime-Resistance-Bluetooth/product-reviews/B09N3ZNHTY/ref=cm_cr_dp_d_show_all_btm?ie=UTF8&reviewerType=all_reviews&pageNumber=1\n",
      "https://www.amazon.in/Airdopes-141-Playtime-Resistance-Bluetooth/product-reviews/B09N3ZNHTY/ref=cm_cr_dp_d_show_all_btm?ie=UTF8&reviewerType=all_reviews&pageNumber=2\n",
      "https://www.amazon.in/Airdopes-141-Playtime-Resistance-Bluetooth/product-reviews/B09N3ZNHTY/ref=cm_cr_dp_d_show_all_btm?ie=UTF8&reviewerType=all_reviews&pageNumber=3\n",
      "https://www.amazon.in/Airdopes-141-Playtime-Resistance-Bluetooth/product-reviews/B09N3ZNHTY/ref=cm_cr_dp_d_show_all_btm?ie=UTF8&reviewerType=all_reviews&pageNumber=4\n",
      "https://www.amazon.in/Airdopes-141-Playtime-Resistance-Bluetooth/product-reviews/B09N3ZNHTY/ref=cm_cr_dp_d_show_all_btm?ie=UTF8&reviewerType=all_reviews&pageNumber=5\n"
     ]
    }
   ],
   "source": [
    "\n",
    "review_list=[]\n",
    "\n",
    "for k in range(0,6):\n",
    "    review_link=link+'&pageNumber='+str(k)\n",
    "    print(review_link)\n",
    "    page=requests.get(review_link)\n",
    "    soup=BeautifulSoup(page.content,'html.parser')\n",
    "    reviews=soup.find_all('span',class_='review-text-content')\n",
    "    \n",
    "    for i in range(0,len(reviews)):\n",
    "        \n",
    "        review_list.append(reviews[i].get_text().strip())\n",
    "        "
   ]
  },
  {
   "cell_type": "code",
   "execution_count": 59,
   "id": "1d75e198",
   "metadata": {},
   "outputs": [
    {
     "data": {
      "text/plain": [
       "['Pros:1. The level of volume it gets to, is just awesome, it can get incredibly loud so if you\\'re at the gym, these are perfect.2. Awesome Bass!3. Noise cancellation is just great, if you simply put them on without even any music playing, u won\\'t be able to hear things around u very well, it\\'s great for places like Gym.4. Lovely battery life, I\\'ve had them a week and only had to charge the case once, that too for just a few minutes. And the earbuds themselves, leave them in case for just five min and you\\'ll be getting battery for a long long while.5. They are very comfortable, can be used for long periods of time.6. Affordable!7. The touch controls are very responsive, tap to pause, double tap right one for next song, double tap left one for either rewind or previous song. Can also pick up calls just by tapping.8. Multiple ear coverings are provided with it.9. Type C portCons:1. The sound quality is not bad or anything but it is slightly muffled as compared to good quality headphones etc. The bass is the highlight so it\\'s great for music, but for movies or gaming, you won\\'t get the most crisp audio.2. Some connectivity issues, sometimes i have to turn my Bluetooth on and off many times for it to work (this is occasional, not a daily or frequent occurrence) [Edit after 1 month use: it\\'s now a very frequent issue]3. The mic quality is good if you are using your phone, but for some reason the quality is really bad if you are on PC4. Sometimes on WhatsApp, the mic will not be detected if you are on call with these earbuds, so you will end up having to take them off to accept a call sometimes. (Not an issue if you are the one dialing) i hope it\\'s just a whatsapp issue rather than earbuds issue.Overall, I needed these for my gym since they play horrible music there (lol) so I\\'m very very happy with themHighly recommended for music and/or as a more affordable option as compared to JBL etc.edit:I still stand by everything i said but after a month of using these I\\'m facing a lot of annoying issues.1. They pause music at the slightest of touch when you try to adjust them, but then other times they will ignore the hardest of touch when you are ACTUALLY trying to pause your music. And double tap for next song gesture doesn\\'t work anymore idk why.2. Biggest issue, left ear bud stops charging constantly. My earbuds case is totally clean, but it keeps showing me \"10% battery remaining\" warning on my phone even if i leave this to charge for hours. Right one is just fine but left one just stops charging very often now and it doesn\\'t get fixed for days, i have to hold the earbud down into the case for a long while and even then it can only MAYBE work.3. All the factory reset and all stuff to sort these issues don\\'t work when one of the earbuds is totally dead and unable to charge.4. They are too soft and can easily fall out of ears if you make facial expressions for a minute or two. Only good for gym, bad for content viewing because you might laugh or smile.That\\'s about it but this left earbud not working issue that i keep having is just really annoying. I don\\'t know if this is just my issue with my specific unit though.',\n",
       " \"So, it’s been a month since I bought it in March 2023, here to give an honest review on boAt Airdopes 141. Bought this for 999 INR. This review is long, and will help you decide whether to buy this or not.Features of these earbuds:1. ENx technology for better call quality.2. Beast Mode for low latency during gaming.3. boAt Signature Sound for good sound quality with 8mm dynamic drivers.4. SBC, AAC and Codec support available.5. ASAP (As Soon As Possible) Charge (5 min = 75 min)6. 5 hours battery in earbuds + 42 hours with case.7. IPX4, sweat and water splash resistant (Don’t immerse in water!!)8. IWP (Insta Wake’n Pair) technology for faster connectivity.9. Touch controls.10. Magnetic snap attach for both earbuds to the charging pins in the case.So, for this price, I was not expecting these many features! Lovely!Coming to my experience,1. ENx Technology: That works, the call quality is very good when inside, it cancels maximum noise from the environment including noise from fans. For outdoor calling where there is too much noise, yeah you may have some noise not cancelled.2. Synchronization: Even that is up to the mark. Used it many times and almost felt that there is no latency at all. All the dialogues and the person speaking in the video perfectly syncs with the earbuds. It has Beast Mode for gaming, but I haven’t tried games.3.  Sound Quality: It has 8mm dynamic drivers and equipped with boAt Signature Sound. Absolutely amazing! The sound is very crisp and clear, you can hear all the instruments played in the music, and with 8mm drivers, the level of volume it gets to, its really amazing. I actually never used it more than 50% volume. The treble, highs, lows are spot on, Sometimes I feel which expensive earbuds can sound more better than boAt Airdopes 141. If you are a bass lover, then definitely you can go with these, my head was literally vibrating when I was listening to bass boosted songs on YouTube. It Is too good. And obviously with Codecs like SBC, AAC support, sound quality is even better.4. ASAP Charging and Battery: It charges really fast, and lasts long. I easily get 5-6 hours with 30% volume, because I never go above 50% volume. However, with the case, it is actually not 42 hours, but definitely get around 35-36 hours. I use the earbuds only for 1 – 1.5 hours per day and turn it off when not required, so calculated, I get around 5-6 days battery on earbuds, which is amazing. I only charge them to 90% and don’t discharge it below 30% to keep the battery healthy. With the case, I charge it every 2 weeks.5. IWP Technology: It connects quickly to previously connected device, just open the case and it automatically connects.6. Touch controls: Let me explain that:A. Tap 3 times on any earbud to activate Beast Mode.B. Long press both earbuds for 5 sec to turn off both.C. Long press any earbud for 8 sec to turn one bud off.D. Tap 2 times on right earbud to play next music.E. Tap 2 times on left earbud to play previous music.F. Tap 1 time on any earbud to pause/play the music.G. Long press any earbud for 3 sec to activate voice assistant (Siri and Google Assistant)When firstly it was delivered, I was confused about touch controls. Because of the placement of the touch sensors, while removing earbuds, accidentally if they get touched, it will play the music/video, but surely you will get used to it and avoid that in future.7. Magnetic snap attachment: Your earbuds are safe inside, it won’t fall.8. Noise Cancellation: Even though it does not have ANC, but it cancels out about 90-95% outside noise, you can enjoy your music even at the lowest volume.9. Comfort and Fit: It is very comfortable fits properly into my ear, if you put the correct ear tip given in the box, then you can have snug fit into your ears. I don’t feel tired when I listen for 1 hour, but after like 2 hours or so, I feel like removing it and putting back after a minute or so.Problem 1: After about 15 days on using this, for some reason, the audio was cracking badly and both earbuds were not properly syncing, this only happened with my laptop, whereas, it was totally fine with my iPad and mobile. Later I found out that it was an issue with my laptop’s Bluetooth driver, that caused this.To sum up things, it is a very nice product by boAt, especially the sound quality and the battery, you would absolutely love listening to music with these earbuds. They are worth it, surely you can buy!! #IamaboAthead.Edit: Just keep in mind that after some months, the charging pins of both earbuds accumulate dust and may interupt charging, so you have to clean the pins of the case and earbuds, wiping with a drop of alcohol.Still after two and half months, it's performing like a charm!\",\n",
       " \"The boAt Airdopes 141 Bluetooth Truly Wireless In-Ear Headphones with 42H Playtime and Beast Mode have completely transformed my music listening experience. These earphones are designed to deliver exceptional sound quality, long-lasting battery life, and a comfortable fit. Here's my detailed review of the boAt Airdopes 141:Design and Comfort:The sleek and compact design of the boAt Airdopes 141 earphones caught my attention right away. They are lightweight and come with ergonomic ear tips that fit comfortably in my ears, even during extended listening sessions. The snug fit ensures excellent noise isolation, allowing me to immerse myself fully in the music.Sound Quality:The sound quality of the boAt Airdopes 141 is impressive. The earphones produce clear and well-balanced audio across different genres. The bass response is punchy and impactful, adding depth to my favorite tracks. The mids and highs are well-defined, ensuring a pleasant listening experience.Beast Mode:The highlight of the boAt Airdopes 141 is the Beast Mode feature. With a single tap, I can activate the Beast Mode, which enhances the bass for an intense and energetic sound output. It's perfect for genres like EDM, hip-hop, and rock, where powerful bass is essential. The difference in sound when Beast Mode is enabled is remarkable and adds an extra layer of enjoyment to my music.Battery Life:The 42-hour playtime on a single charge is a game-changer. I no longer have to worry about constantly recharging my earphones. The charging case provides multiple additional charges, ensuring that I have enough power for days of uninterrupted music playback. The quick charging feature is also convenient, as a short 10-minute charge gives me up to 2 hours of playtime.Bluetooth Connectivity:The Bluetooth 5.0 technology in the boAt Airdopes 141 ensures a stable and seamless connection with my devices. I have experienced minimal dropouts, and the wireless range is impressive. I can move around my home without my music skipping a beat.Controls and Voice Assistant Support:The intuitive touch controls on the earphones allow me to effortlessly manage my music playback, adjust the volume, and answer calls. The voice assistant support is a convenient feature, as I can access my phone's voice assistant (such as Google Assistant or Siri) with a simple tap, allowing hands-free control.Durability:The build quality of the boAt Airdopes 141 is commendable. The earphones feel sturdy and durable, capable of withstanding daily use and minor accidental drops. The charging case is also well-designed, providing adequate protection for the earphones when not in use.Conclusion:The boAt Airdopes 141 Bluetooth Truly Wireless In-Ear Headphones with 42H Playtime and Beast Mode have surpassed my expectations in terms of sound quality, comfort, and battery life. The Beast Mode feature adds an extra layer of excitement to my music, and the long-lasting battery ensures that I can enjoy uninterrupted playback for extended periods. If you're seeking wireless earphones that offer excellent sound performance, comfort, and durability, the boAt Airdopes 141 is definitely worth considering.\",\n",
       " \"Pros:1. The level of volume it gets to, is just awesome, it can get incredibly loud so if you're at the gym, these are perfect.2. Awesome Bass!3. Noise cancellation is just great, if you simply put them on without even any music playing, u won't be able to hear things around u very well, it's great for places like Gym.4. Lovely battery life, I've had them a week and only had to charge the case once, that too for just a few minutes. And the earbuds themselves, leave them in case for just five min and you'll be getting battery for a long long while.5. They are very comfortable, can be used for long periods of time.6. Affordable!7. The touch controls are very responsive, tap to pause, double tap right one for next song, double tap left one for either rewind or previous song. Can also pick up calls just by tapping.8. Multiple ear coverings are provided with it.9. Type C portCons:1. The sound quality is not bad or anything but it is slightly muffled as compared to good quality headphones etc. The bass is the highlight so it's great for music, but for movies or gaming, you won't get the most crisp audio.2. Some connectivity issues, sometimes i have to turn my Bluetooth on and off many times for it to work (this is occasional, not a daily or frequent occurrence) [Edit after 1 month use: it's now a very frequent issue]3. The mic quality is good if you are using your phone, but for some reason the quality is really bad if you are on PC4. Sometimes on WhatsApp, the mic will not be detected if you are on call with these earbuds, so you will end up having to take them off to accept a call sometimes. (Not an issue if you are the one dialing) i hope it's just a whatsapp issue rather than earbuds issue.Overall, I needed these for my gym since they play horrible music there (lol) so I'm very very happy with themHighly recommended for music and/or as a more affordable option as compared to JBL etc.\",\n",
       " 'Writing this review after using it for 6 months. The build quality and the material are good as per the price. The availability of good colors makes it cooler. The noise cancellation is not up to mark as mentioned. The bass is justified for the price. The battery lasts for an average of 3 - 4 days with daily use of 6-8 hours.  Overall a good product for the price, but one can search for better options as per their budget.',\n",
       " \"Buy this TWS only if it's in the range of Rs.1100.I bought it for Rs.1099, and it is a value-for-money product.Sound Quality:1> Loudness: Very good but if BASS comes in, the volume decreases to 85% automatically.2> Bass: It provides a V-type sound so bass and treble are a little boosted and crispy. VOCALS are not that good.3> Mic: Doesn't catch the voice properly even after talking loudly.4> Connectivity: Approx 9meters if there is nothing between TWS and Device.5> Battery: 50% - 4hours AND 100%-2hours.6> Beast MODE: if you don't know it comes with a BEAST-MODE(just tap 4 times in the left TWS to activate it), as such I don't see any difference in the beast mode but it consumes more battery.\",\n",
       " \"Overall good product. Good sound quality. In this price range call quality is ok. But we cannot attend call from outside, in bus, train ,it's not clear. Continuously if we place in our ear we may feel some pain after 1 hour, so remove it for some time and replace. Overall in this price range it's good👍. Don't expect or compare with 2k or 3k budget product\",\n",
       " \"I think my earbuds are giving some charging issues because when i put my buds in case the red signal of charging is not showing and when i wait for charging and i remove my ear bud they don't have charged if anybody give me this solution then i can appreciate this so please give me some solution to solve this problem that i am facing..!!\",\n",
       " \"There are some lagging issues sometimes with gaming and sometimes 1 bud will suddenly stop working so we have to put both of them in the case and turn it on again, which is frustrating at important times. Otherwise the product is a great value for money, I bought it at Rs.1199 which feels little sadistic to me considering just after a week the price dropped off to Rs.1099. 😅But it's okay👍\",\n",
       " \"Worth the money gadget ! . Sound quality & bass is up to the mark , but the problem is we can hear external noise when kept in loud audio too . The battery life is more than enough for light users . Fits correctly in one ear and it's bit loose , idk what the problem is ear or buds fitting\"]"
      ]
     },
     "execution_count": 59,
     "metadata": {},
     "output_type": "execute_result"
    }
   ],
   "source": [
    "review_list"
   ]
  },
  {
   "cell_type": "code",
   "execution_count": 60,
   "id": "8d224bfb",
   "metadata": {},
   "outputs": [
    {
     "data": {
      "text/plain": [
       "10"
      ]
     },
     "execution_count": 60,
     "metadata": {},
     "output_type": "execute_result"
    }
   ],
   "source": [
    "len(review_list)"
   ]
  },
  {
   "cell_type": "code",
   "execution_count": 61,
   "id": "b3a40448",
   "metadata": {},
   "outputs": [
    {
     "data": {
      "text/html": [
       "<div>\n",
       "<style scoped>\n",
       "    .dataframe tbody tr th:only-of-type {\n",
       "        vertical-align: middle;\n",
       "    }\n",
       "\n",
       "    .dataframe tbody tr th {\n",
       "        vertical-align: top;\n",
       "    }\n",
       "\n",
       "    .dataframe thead th {\n",
       "        text-align: right;\n",
       "    }\n",
       "</style>\n",
       "<table border=\"1\" class=\"dataframe\">\n",
       "  <thead>\n",
       "    <tr style=\"text-align: right;\">\n",
       "      <th></th>\n",
       "      <th>Reviews</th>\n",
       "    </tr>\n",
       "  </thead>\n",
       "  <tbody>\n",
       "    <tr>\n",
       "      <th>0</th>\n",
       "      <td>Pros:1. The level of volume it gets to, is just awesome, it can get incredibly loud so if you're at the gym, these are perfect.2. Awesome Bass!3. Noise cancellation is just great, if you simply put them on without even any music playing, u won't be able to hear things around u very well, it's great for places like Gym.4. Lovely battery life, I've had them a week and only had to charge the case once, that too for just a few minutes. And the earbuds themselves, leave them in case for just five min and you'll be getting battery for a long long while.5. They are very comfortable, can be used for long periods of time.6. Affordable!7. The touch controls are very responsive, tap to pause, double tap right one for next song, double tap left one for either rewind or previous song. Can also pick...</td>\n",
       "    </tr>\n",
       "    <tr>\n",
       "      <th>1</th>\n",
       "      <td>So, it’s been a month since I bought it in March 2023, here to give an honest review on boAt Airdopes 141. Bought this for 999 INR. This review is long, and will help you decide whether to buy this or not.Features of these earbuds:1. ENx technology for better call quality.2. Beast Mode for low latency during gaming.3. boAt Signature Sound for good sound quality with 8mm dynamic drivers.4. SBC, AAC and Codec support available.5. ASAP (As Soon As Possible) Charge (5 min = 75 min)6. 5 hours battery in earbuds + 42 hours with case.7. IPX4, sweat and water splash resistant (Don’t immerse in water!!)8. IWP (Insta Wake’n Pair) technology for faster connectivity.9. Touch controls.10. Magnetic snap attach for both earbuds to the charging pins in the case.So, for this price, I was not expecting ...</td>\n",
       "    </tr>\n",
       "    <tr>\n",
       "      <th>2</th>\n",
       "      <td>The boAt Airdopes 141 Bluetooth Truly Wireless In-Ear Headphones with 42H Playtime and Beast Mode have completely transformed my music listening experience. These earphones are designed to deliver exceptional sound quality, long-lasting battery life, and a comfortable fit. Here's my detailed review of the boAt Airdopes 141:Design and Comfort:The sleek and compact design of the boAt Airdopes 141 earphones caught my attention right away. They are lightweight and come with ergonomic ear tips that fit comfortably in my ears, even during extended listening sessions. The snug fit ensures excellent noise isolation, allowing me to immerse myself fully in the music.Sound Quality:The sound quality of the boAt Airdopes 141 is impressive. The earphones produce clear and well-balanced audio across ...</td>\n",
       "    </tr>\n",
       "    <tr>\n",
       "      <th>3</th>\n",
       "      <td>Pros:1. The level of volume it gets to, is just awesome, it can get incredibly loud so if you're at the gym, these are perfect.2. Awesome Bass!3. Noise cancellation is just great, if you simply put them on without even any music playing, u won't be able to hear things around u very well, it's great for places like Gym.4. Lovely battery life, I've had them a week and only had to charge the case once, that too for just a few minutes. And the earbuds themselves, leave them in case for just five min and you'll be getting battery for a long long while.5. They are very comfortable, can be used for long periods of time.6. Affordable!7. The touch controls are very responsive, tap to pause, double tap right one for next song, double tap left one for either rewind or previous song. Can also pick...</td>\n",
       "    </tr>\n",
       "    <tr>\n",
       "      <th>4</th>\n",
       "      <td>Writing this review after using it for 6 months. The build quality and the material are good as per the price. The availability of good colors makes it cooler. The noise cancellation is not up to mark as mentioned. The bass is justified for the price. The battery lasts for an average of 3 - 4 days with daily use of 6-8 hours.  Overall a good product for the price, but one can search for better options as per their budget.</td>\n",
       "    </tr>\n",
       "    <tr>\n",
       "      <th>5</th>\n",
       "      <td>Buy this TWS only if it's in the range of Rs.1100.I bought it for Rs.1099, and it is a value-for-money product.Sound Quality:1&gt; Loudness: Very good but if BASS comes in, the volume decreases to 85% automatically.2&gt; Bass: It provides a V-type sound so bass and treble are a little boosted and crispy. VOCALS are not that good.3&gt; Mic: Doesn't catch the voice properly even after talking loudly.4&gt; Connectivity: Approx 9meters if there is nothing between TWS and Device.5&gt; Battery: 50% - 4hours AND 100%-2hours.6&gt; Beast MODE: if you don't know it comes with a BEAST-MODE(just tap 4 times in the left TWS to activate it), as such I don't see any difference in the beast mode but it consumes more battery.</td>\n",
       "    </tr>\n",
       "    <tr>\n",
       "      <th>6</th>\n",
       "      <td>Overall good product. Good sound quality. In this price range call quality is ok. But we cannot attend call from outside, in bus, train ,it's not clear. Continuously if we place in our ear we may feel some pain after 1 hour, so remove it for some time and replace. Overall in this price range it's good👍. Don't expect or compare with 2k or 3k budget product</td>\n",
       "    </tr>\n",
       "    <tr>\n",
       "      <th>7</th>\n",
       "      <td>I think my earbuds are giving some charging issues because when i put my buds in case the red signal of charging is not showing and when i wait for charging and i remove my ear bud they don't have charged if anybody give me this solution then i can appreciate this so please give me some solution to solve this problem that i am facing..!!</td>\n",
       "    </tr>\n",
       "    <tr>\n",
       "      <th>8</th>\n",
       "      <td>There are some lagging issues sometimes with gaming and sometimes 1 bud will suddenly stop working so we have to put both of them in the case and turn it on again, which is frustrating at important times. Otherwise the product is a great value for money, I bought it at Rs.1199 which feels little sadistic to me considering just after a week the price dropped off to Rs.1099. 😅But it's okay👍</td>\n",
       "    </tr>\n",
       "    <tr>\n",
       "      <th>9</th>\n",
       "      <td>Worth the money gadget ! . Sound quality &amp; bass is up to the mark , but the problem is we can hear external noise when kept in loud audio too . The battery life is more than enough for light users . Fits correctly in one ear and it's bit loose , idk what the problem is ear or buds fitting</td>\n",
       "    </tr>\n",
       "  </tbody>\n",
       "</table>\n",
       "</div>"
      ],
      "text/plain": [
       "                                                                                                                                                                                                                                                                                                                                                                                                                                                                                                                                                                                                                                                                                                                                                                                                                           Reviews\n",
       "0  Pros:1. The level of volume it gets to, is just awesome, it can get incredibly loud so if you're at the gym, these are perfect.2. Awesome Bass!3. Noise cancellation is just great, if you simply put them on without even any music playing, u won't be able to hear things around u very well, it's great for places like Gym.4. Lovely battery life, I've had them a week and only had to charge the case once, that too for just a few minutes. And the earbuds themselves, leave them in case for just five min and you'll be getting battery for a long long while.5. They are very comfortable, can be used for long periods of time.6. Affordable!7. The touch controls are very responsive, tap to pause, double tap right one for next song, double tap left one for either rewind or previous song. Can also pick...\n",
       "1  So, it’s been a month since I bought it in March 2023, here to give an honest review on boAt Airdopes 141. Bought this for 999 INR. This review is long, and will help you decide whether to buy this or not.Features of these earbuds:1. ENx technology for better call quality.2. Beast Mode for low latency during gaming.3. boAt Signature Sound for good sound quality with 8mm dynamic drivers.4. SBC, AAC and Codec support available.5. ASAP (As Soon As Possible) Charge (5 min = 75 min)6. 5 hours battery in earbuds + 42 hours with case.7. IPX4, sweat and water splash resistant (Don’t immerse in water!!)8. IWP (Insta Wake’n Pair) technology for faster connectivity.9. Touch controls.10. Magnetic snap attach for both earbuds to the charging pins in the case.So, for this price, I was not expecting ...\n",
       "2  The boAt Airdopes 141 Bluetooth Truly Wireless In-Ear Headphones with 42H Playtime and Beast Mode have completely transformed my music listening experience. These earphones are designed to deliver exceptional sound quality, long-lasting battery life, and a comfortable fit. Here's my detailed review of the boAt Airdopes 141:Design and Comfort:The sleek and compact design of the boAt Airdopes 141 earphones caught my attention right away. They are lightweight and come with ergonomic ear tips that fit comfortably in my ears, even during extended listening sessions. The snug fit ensures excellent noise isolation, allowing me to immerse myself fully in the music.Sound Quality:The sound quality of the boAt Airdopes 141 is impressive. The earphones produce clear and well-balanced audio across ...\n",
       "3  Pros:1. The level of volume it gets to, is just awesome, it can get incredibly loud so if you're at the gym, these are perfect.2. Awesome Bass!3. Noise cancellation is just great, if you simply put them on without even any music playing, u won't be able to hear things around u very well, it's great for places like Gym.4. Lovely battery life, I've had them a week and only had to charge the case once, that too for just a few minutes. And the earbuds themselves, leave them in case for just five min and you'll be getting battery for a long long while.5. They are very comfortable, can be used for long periods of time.6. Affordable!7. The touch controls are very responsive, tap to pause, double tap right one for next song, double tap left one for either rewind or previous song. Can also pick...\n",
       "4                                                                                                                                                                                                                                                                                                                                                                                        Writing this review after using it for 6 months. The build quality and the material are good as per the price. The availability of good colors makes it cooler. The noise cancellation is not up to mark as mentioned. The bass is justified for the price. The battery lasts for an average of 3 - 4 days with daily use of 6-8 hours.  Overall a good product for the price, but one can search for better options as per their budget.\n",
       "5                                                                                                     Buy this TWS only if it's in the range of Rs.1100.I bought it for Rs.1099, and it is a value-for-money product.Sound Quality:1> Loudness: Very good but if BASS comes in, the volume decreases to 85% automatically.2> Bass: It provides a V-type sound so bass and treble are a little boosted and crispy. VOCALS are not that good.3> Mic: Doesn't catch the voice properly even after talking loudly.4> Connectivity: Approx 9meters if there is nothing between TWS and Device.5> Battery: 50% - 4hours AND 100%-2hours.6> Beast MODE: if you don't know it comes with a BEAST-MODE(just tap 4 times in the left TWS to activate it), as such I don't see any difference in the beast mode but it consumes more battery.\n",
       "6                                                                                                                                                                                                                                                                                                                                                                                                                                                            Overall good product. Good sound quality. In this price range call quality is ok. But we cannot attend call from outside, in bus, train ,it's not clear. Continuously if we place in our ear we may feel some pain after 1 hour, so remove it for some time and replace. Overall in this price range it's good👍. Don't expect or compare with 2k or 3k budget product\n",
       "7                                                                                                                                                                                                                                                                                                                                                                                                                                                                              I think my earbuds are giving some charging issues because when i put my buds in case the red signal of charging is not showing and when i wait for charging and i remove my ear bud they don't have charged if anybody give me this solution then i can appreciate this so please give me some solution to solve this problem that i am facing..!!\n",
       "8                                                                                                                                                                                                                                                                                                                                                                                                                          There are some lagging issues sometimes with gaming and sometimes 1 bud will suddenly stop working so we have to put both of them in the case and turn it on again, which is frustrating at important times. Otherwise the product is a great value for money, I bought it at Rs.1199 which feels little sadistic to me considering just after a week the price dropped off to Rs.1099. 😅But it's okay👍\n",
       "9                                                                                                                                                                                                                                                                                                                                                                                                                                                                                                                                Worth the money gadget ! . Sound quality & bass is up to the mark , but the problem is we can hear external noise when kept in loud audio too . The battery life is more than enough for light users . Fits correctly in one ear and it's bit loose , idk what the problem is ear or buds fitting"
      ]
     },
     "execution_count": 61,
     "metadata": {},
     "output_type": "execute_result"
    }
   ],
   "source": [
    "df=pd.DataFrame({'Reviews':review_list})\n",
    "pd.set_option('max_colwidth', 800)\n",
    "df"
   ]
  },
  {
   "cell_type": "markdown",
   "id": "41fab836",
   "metadata": {},
   "source": [
    "# Pre-processing"
   ]
  },
  {
   "cell_type": "code",
   "execution_count": 62,
   "id": "cb6a9fd6",
   "metadata": {},
   "outputs": [],
   "source": [
    "df.Reviews=df.Reviews.apply(lambda x: re.sub('[^a-zA-Z ]', \"\", x))"
   ]
  },
  {
   "cell_type": "code",
   "execution_count": 63,
   "id": "53926698",
   "metadata": {},
   "outputs": [
    {
     "data": {
      "text/html": [
       "<div>\n",
       "<style scoped>\n",
       "    .dataframe tbody tr th:only-of-type {\n",
       "        vertical-align: middle;\n",
       "    }\n",
       "\n",
       "    .dataframe tbody tr th {\n",
       "        vertical-align: top;\n",
       "    }\n",
       "\n",
       "    .dataframe thead th {\n",
       "        text-align: right;\n",
       "    }\n",
       "</style>\n",
       "<table border=\"1\" class=\"dataframe\">\n",
       "  <thead>\n",
       "    <tr style=\"text-align: right;\">\n",
       "      <th></th>\n",
       "      <th>Reviews</th>\n",
       "    </tr>\n",
       "  </thead>\n",
       "  <tbody>\n",
       "    <tr>\n",
       "      <th>0</th>\n",
       "      <td>Pros The level of volume it gets to is just awesome it can get incredibly loud so if youre at the gym these are perfect Awesome Bass Noise cancellation is just great if you simply put them on without even any music playing u wont be able to hear things around u very well its great for places like Gym Lovely battery life Ive had them a week and only had to charge the case once that too for just a few minutes And the earbuds themselves leave them in case for just five min and youll be getting battery for a long long while They are very comfortable can be used for long periods of time Affordable The touch controls are very responsive tap to pause double tap right one for next song double tap left one for either rewind or previous song Can also pick up calls just by tapping Multiple ear co...</td>\n",
       "    </tr>\n",
       "    <tr>\n",
       "      <th>1</th>\n",
       "      <td>So its been a month since I bought it in March  here to give an honest review on boAt Airdopes  Bought this for  INR This review is long and will help you decide whether to buy this or notFeatures of these earbuds ENx technology for better call quality Beast Mode for low latency during gaming boAt Signature Sound for good sound quality with mm dynamic drivers SBC AAC and Codec support available ASAP As Soon As Possible Charge  min   min  hours battery in earbuds   hours with case IPX sweat and water splash resistant Dont immerse in water IWP Insta Waken Pair technology for faster connectivity Touch controls Magnetic snap attach for both earbuds to the charging pins in the caseSo for this price I was not expecting these many features LovelyComing to my experience ENx Technology That wor...</td>\n",
       "    </tr>\n",
       "    <tr>\n",
       "      <th>2</th>\n",
       "      <td>The boAt Airdopes  Bluetooth Truly Wireless InEar Headphones with H Playtime and Beast Mode have completely transformed my music listening experience These earphones are designed to deliver exceptional sound quality longlasting battery life and a comfortable fit Heres my detailed review of the boAt Airdopes Design and ComfortThe sleek and compact design of the boAt Airdopes  earphones caught my attention right away They are lightweight and come with ergonomic ear tips that fit comfortably in my ears even during extended listening sessions The snug fit ensures excellent noise isolation allowing me to immerse myself fully in the musicSound QualityThe sound quality of the boAt Airdopes  is impressive The earphones produce clear and wellbalanced audio across different genres The bass respo...</td>\n",
       "    </tr>\n",
       "    <tr>\n",
       "      <th>3</th>\n",
       "      <td>Pros The level of volume it gets to is just awesome it can get incredibly loud so if youre at the gym these are perfect Awesome Bass Noise cancellation is just great if you simply put them on without even any music playing u wont be able to hear things around u very well its great for places like Gym Lovely battery life Ive had them a week and only had to charge the case once that too for just a few minutes And the earbuds themselves leave them in case for just five min and youll be getting battery for a long long while They are very comfortable can be used for long periods of time Affordable The touch controls are very responsive tap to pause double tap right one for next song double tap left one for either rewind or previous song Can also pick up calls just by tapping Multiple ear co...</td>\n",
       "    </tr>\n",
       "    <tr>\n",
       "      <th>4</th>\n",
       "      <td>Writing this review after using it for  months The build quality and the material are good as per the price The availability of good colors makes it cooler The noise cancellation is not up to mark as mentioned The bass is justified for the price The battery lasts for an average of    days with daily use of  hours  Overall a good product for the price but one can search for better options as per their budget</td>\n",
       "    </tr>\n",
       "  </tbody>\n",
       "</table>\n",
       "</div>"
      ],
      "text/plain": [
       "                                                                                                                                                                                                                                                                                                                                                                                                                                                                                                                                                                                                                                                                                                                                                                                                                           Reviews\n",
       "0  Pros The level of volume it gets to is just awesome it can get incredibly loud so if youre at the gym these are perfect Awesome Bass Noise cancellation is just great if you simply put them on without even any music playing u wont be able to hear things around u very well its great for places like Gym Lovely battery life Ive had them a week and only had to charge the case once that too for just a few minutes And the earbuds themselves leave them in case for just five min and youll be getting battery for a long long while They are very comfortable can be used for long periods of time Affordable The touch controls are very responsive tap to pause double tap right one for next song double tap left one for either rewind or previous song Can also pick up calls just by tapping Multiple ear co...\n",
       "1  So its been a month since I bought it in March  here to give an honest review on boAt Airdopes  Bought this for  INR This review is long and will help you decide whether to buy this or notFeatures of these earbuds ENx technology for better call quality Beast Mode for low latency during gaming boAt Signature Sound for good sound quality with mm dynamic drivers SBC AAC and Codec support available ASAP As Soon As Possible Charge  min   min  hours battery in earbuds   hours with case IPX sweat and water splash resistant Dont immerse in water IWP Insta Waken Pair technology for faster connectivity Touch controls Magnetic snap attach for both earbuds to the charging pins in the caseSo for this price I was not expecting these many features LovelyComing to my experience ENx Technology That wor...\n",
       "2  The boAt Airdopes  Bluetooth Truly Wireless InEar Headphones with H Playtime and Beast Mode have completely transformed my music listening experience These earphones are designed to deliver exceptional sound quality longlasting battery life and a comfortable fit Heres my detailed review of the boAt Airdopes Design and ComfortThe sleek and compact design of the boAt Airdopes  earphones caught my attention right away They are lightweight and come with ergonomic ear tips that fit comfortably in my ears even during extended listening sessions The snug fit ensures excellent noise isolation allowing me to immerse myself fully in the musicSound QualityThe sound quality of the boAt Airdopes  is impressive The earphones produce clear and wellbalanced audio across different genres The bass respo...\n",
       "3  Pros The level of volume it gets to is just awesome it can get incredibly loud so if youre at the gym these are perfect Awesome Bass Noise cancellation is just great if you simply put them on without even any music playing u wont be able to hear things around u very well its great for places like Gym Lovely battery life Ive had them a week and only had to charge the case once that too for just a few minutes And the earbuds themselves leave them in case for just five min and youll be getting battery for a long long while They are very comfortable can be used for long periods of time Affordable The touch controls are very responsive tap to pause double tap right one for next song double tap left one for either rewind or previous song Can also pick up calls just by tapping Multiple ear co...\n",
       "4                                                                                                                                                                                                                                                                                                                                                                                                       Writing this review after using it for  months The build quality and the material are good as per the price The availability of good colors makes it cooler The noise cancellation is not up to mark as mentioned The bass is justified for the price The battery lasts for an average of    days with daily use of  hours  Overall a good product for the price but one can search for better options as per their budget"
      ]
     },
     "execution_count": 63,
     "metadata": {},
     "output_type": "execute_result"
    }
   ],
   "source": [
    "df.head()"
   ]
  },
  {
   "cell_type": "markdown",
   "id": "e0a4709d",
   "metadata": {},
   "source": [
    "#### Make text to lower"
   ]
  },
  {
   "cell_type": "code",
   "execution_count": 64,
   "id": "beb30cd6",
   "metadata": {},
   "outputs": [],
   "source": [
    "df.Reviews=df.Reviews.apply(lambda x: x.lower())"
   ]
  },
  {
   "cell_type": "code",
   "execution_count": 65,
   "id": "978de84c",
   "metadata": {},
   "outputs": [
    {
     "data": {
      "text/html": [
       "<div>\n",
       "<style scoped>\n",
       "    .dataframe tbody tr th:only-of-type {\n",
       "        vertical-align: middle;\n",
       "    }\n",
       "\n",
       "    .dataframe tbody tr th {\n",
       "        vertical-align: top;\n",
       "    }\n",
       "\n",
       "    .dataframe thead th {\n",
       "        text-align: right;\n",
       "    }\n",
       "</style>\n",
       "<table border=\"1\" class=\"dataframe\">\n",
       "  <thead>\n",
       "    <tr style=\"text-align: right;\">\n",
       "      <th></th>\n",
       "      <th>Reviews</th>\n",
       "    </tr>\n",
       "  </thead>\n",
       "  <tbody>\n",
       "    <tr>\n",
       "      <th>0</th>\n",
       "      <td>pros the level of volume it gets to is just awesome it can get incredibly loud so if youre at the gym these are perfect awesome bass noise cancellation is just great if you simply put them on without even any music playing u wont be able to hear things around u very well its great for places like gym lovely battery life ive had them a week and only had to charge the case once that too for just a few minutes and the earbuds themselves leave them in case for just five min and youll be getting battery for a long long while they are very comfortable can be used for long periods of time affordable the touch controls are very responsive tap to pause double tap right one for next song double tap left one for either rewind or previous song can also pick up calls just by tapping multiple ear co...</td>\n",
       "    </tr>\n",
       "    <tr>\n",
       "      <th>1</th>\n",
       "      <td>so its been a month since i bought it in march  here to give an honest review on boat airdopes  bought this for  inr this review is long and will help you decide whether to buy this or notfeatures of these earbuds enx technology for better call quality beast mode for low latency during gaming boat signature sound for good sound quality with mm dynamic drivers sbc aac and codec support available asap as soon as possible charge  min   min  hours battery in earbuds   hours with case ipx sweat and water splash resistant dont immerse in water iwp insta waken pair technology for faster connectivity touch controls magnetic snap attach for both earbuds to the charging pins in the caseso for this price i was not expecting these many features lovelycoming to my experience enx technology that wor...</td>\n",
       "    </tr>\n",
       "    <tr>\n",
       "      <th>2</th>\n",
       "      <td>the boat airdopes  bluetooth truly wireless inear headphones with h playtime and beast mode have completely transformed my music listening experience these earphones are designed to deliver exceptional sound quality longlasting battery life and a comfortable fit heres my detailed review of the boat airdopes design and comfortthe sleek and compact design of the boat airdopes  earphones caught my attention right away they are lightweight and come with ergonomic ear tips that fit comfortably in my ears even during extended listening sessions the snug fit ensures excellent noise isolation allowing me to immerse myself fully in the musicsound qualitythe sound quality of the boat airdopes  is impressive the earphones produce clear and wellbalanced audio across different genres the bass respo...</td>\n",
       "    </tr>\n",
       "    <tr>\n",
       "      <th>3</th>\n",
       "      <td>pros the level of volume it gets to is just awesome it can get incredibly loud so if youre at the gym these are perfect awesome bass noise cancellation is just great if you simply put them on without even any music playing u wont be able to hear things around u very well its great for places like gym lovely battery life ive had them a week and only had to charge the case once that too for just a few minutes and the earbuds themselves leave them in case for just five min and youll be getting battery for a long long while they are very comfortable can be used for long periods of time affordable the touch controls are very responsive tap to pause double tap right one for next song double tap left one for either rewind or previous song can also pick up calls just by tapping multiple ear co...</td>\n",
       "    </tr>\n",
       "    <tr>\n",
       "      <th>4</th>\n",
       "      <td>writing this review after using it for  months the build quality and the material are good as per the price the availability of good colors makes it cooler the noise cancellation is not up to mark as mentioned the bass is justified for the price the battery lasts for an average of    days with daily use of  hours  overall a good product for the price but one can search for better options as per their budget</td>\n",
       "    </tr>\n",
       "  </tbody>\n",
       "</table>\n",
       "</div>"
      ],
      "text/plain": [
       "                                                                                                                                                                                                                                                                                                                                                                                                                                                                                                                                                                                                                                                                                                                                                                                                                           Reviews\n",
       "0  pros the level of volume it gets to is just awesome it can get incredibly loud so if youre at the gym these are perfect awesome bass noise cancellation is just great if you simply put them on without even any music playing u wont be able to hear things around u very well its great for places like gym lovely battery life ive had them a week and only had to charge the case once that too for just a few minutes and the earbuds themselves leave them in case for just five min and youll be getting battery for a long long while they are very comfortable can be used for long periods of time affordable the touch controls are very responsive tap to pause double tap right one for next song double tap left one for either rewind or previous song can also pick up calls just by tapping multiple ear co...\n",
       "1  so its been a month since i bought it in march  here to give an honest review on boat airdopes  bought this for  inr this review is long and will help you decide whether to buy this or notfeatures of these earbuds enx technology for better call quality beast mode for low latency during gaming boat signature sound for good sound quality with mm dynamic drivers sbc aac and codec support available asap as soon as possible charge  min   min  hours battery in earbuds   hours with case ipx sweat and water splash resistant dont immerse in water iwp insta waken pair technology for faster connectivity touch controls magnetic snap attach for both earbuds to the charging pins in the caseso for this price i was not expecting these many features lovelycoming to my experience enx technology that wor...\n",
       "2  the boat airdopes  bluetooth truly wireless inear headphones with h playtime and beast mode have completely transformed my music listening experience these earphones are designed to deliver exceptional sound quality longlasting battery life and a comfortable fit heres my detailed review of the boat airdopes design and comfortthe sleek and compact design of the boat airdopes  earphones caught my attention right away they are lightweight and come with ergonomic ear tips that fit comfortably in my ears even during extended listening sessions the snug fit ensures excellent noise isolation allowing me to immerse myself fully in the musicsound qualitythe sound quality of the boat airdopes  is impressive the earphones produce clear and wellbalanced audio across different genres the bass respo...\n",
       "3  pros the level of volume it gets to is just awesome it can get incredibly loud so if youre at the gym these are perfect awesome bass noise cancellation is just great if you simply put them on without even any music playing u wont be able to hear things around u very well its great for places like gym lovely battery life ive had them a week and only had to charge the case once that too for just a few minutes and the earbuds themselves leave them in case for just five min and youll be getting battery for a long long while they are very comfortable can be used for long periods of time affordable the touch controls are very responsive tap to pause double tap right one for next song double tap left one for either rewind or previous song can also pick up calls just by tapping multiple ear co...\n",
       "4                                                                                                                                                                                                                                                                                                                                                                                                       writing this review after using it for  months the build quality and the material are good as per the price the availability of good colors makes it cooler the noise cancellation is not up to mark as mentioned the bass is justified for the price the battery lasts for an average of    days with daily use of  hours  overall a good product for the price but one can search for better options as per their budget"
      ]
     },
     "execution_count": 65,
     "metadata": {},
     "output_type": "execute_result"
    }
   ],
   "source": [
    "df.head()"
   ]
  },
  {
   "cell_type": "markdown",
   "id": "d12a6198",
   "metadata": {},
   "source": [
    "# import stopwords and stemmer"
   ]
  },
  {
   "cell_type": "code",
   "execution_count": 66,
   "id": "ceb3d181",
   "metadata": {},
   "outputs": [],
   "source": [
    "import nltk  \n",
    "#nltk.download('stopwords') \n",
    "from nltk.corpus import stopwords  \n",
    "from nltk.stem.porter import PorterStemmer "
   ]
  },
  {
   "cell_type": "markdown",
   "id": "91e468cd",
   "metadata": {},
   "source": [
    "# splitting word from line"
   ]
  },
  {
   "cell_type": "code",
   "execution_count": 67,
   "id": "dbaf5465",
   "metadata": {},
   "outputs": [],
   "source": [
    "df.Reviews=df.Reviews.apply(lambda x: x.split())"
   ]
  },
  {
   "cell_type": "code",
   "execution_count": 68,
   "id": "ff61c22e",
   "metadata": {},
   "outputs": [
    {
     "data": {
      "text/html": [
       "<div>\n",
       "<style scoped>\n",
       "    .dataframe tbody tr th:only-of-type {\n",
       "        vertical-align: middle;\n",
       "    }\n",
       "\n",
       "    .dataframe tbody tr th {\n",
       "        vertical-align: top;\n",
       "    }\n",
       "\n",
       "    .dataframe thead th {\n",
       "        text-align: right;\n",
       "    }\n",
       "</style>\n",
       "<table border=\"1\" class=\"dataframe\">\n",
       "  <thead>\n",
       "    <tr style=\"text-align: right;\">\n",
       "      <th></th>\n",
       "      <th>Reviews</th>\n",
       "    </tr>\n",
       "  </thead>\n",
       "  <tbody>\n",
       "    <tr>\n",
       "      <th>0</th>\n",
       "      <td>[pros, the, level, of, volume, it, gets, to, is, just, awesome, it, can, get, incredibly, loud, so, if, youre, at, the, gym, these, are, perfect, awesome, bass, noise, cancellation, is, just, great, if, you, simply, put, them, on, without, even, any, music, playing, u, wont, be, able, to, hear, things, around, u, very, well, its, great, for, places, like, gym, lovely, battery, life, ive, had, them, a, week, and, only, had, to, charge, the, case, once, that, too, for, just, a, few, minutes, and, the, earbuds, themselves, leave, them, in, case, for, just, five, min, and, youll, be, getting, battery, ...]</td>\n",
       "    </tr>\n",
       "    <tr>\n",
       "      <th>1</th>\n",
       "      <td>[so, its, been, a, month, since, i, bought, it, in, march, here, to, give, an, honest, review, on, boat, airdopes, bought, this, for, inr, this, review, is, long, and, will, help, you, decide, whether, to, buy, this, or, notfeatures, of, these, earbuds, enx, technology, for, better, call, quality, beast, mode, for, low, latency, during, gaming, boat, signature, sound, for, good, sound, quality, with, mm, dynamic, drivers, sbc, aac, and, codec, support, available, asap, as, soon, as, possible, charge, min, min, hours, battery, in, earbuds, hours, with, case, ipx, sweat, and, water, splash, resistant, dont, immerse, in, water, iwp, insta, waken, ...]</td>\n",
       "    </tr>\n",
       "    <tr>\n",
       "      <th>2</th>\n",
       "      <td>[the, boat, airdopes, bluetooth, truly, wireless, inear, headphones, with, h, playtime, and, beast, mode, have, completely, transformed, my, music, listening, experience, these, earphones, are, designed, to, deliver, exceptional, sound, quality, longlasting, battery, life, and, a, comfortable, fit, heres, my, detailed, review, of, the, boat, airdopes, design, and, comfortthe, sleek, and, compact, design, of, the, boat, airdopes, earphones, caught, my, attention, right, away, they, are, lightweight, and, come, with, ergonomic, ear, tips, that, fit, comfortably, in, my, ears, even, during, extended, listening, sessions, the, snug, fit, ensures, excellent, noise, isolation, allowing, me, to, immerse, myself, fully, in, the, musicsound, qualitythe, sound, ...]</td>\n",
       "    </tr>\n",
       "    <tr>\n",
       "      <th>3</th>\n",
       "      <td>[pros, the, level, of, volume, it, gets, to, is, just, awesome, it, can, get, incredibly, loud, so, if, youre, at, the, gym, these, are, perfect, awesome, bass, noise, cancellation, is, just, great, if, you, simply, put, them, on, without, even, any, music, playing, u, wont, be, able, to, hear, things, around, u, very, well, its, great, for, places, like, gym, lovely, battery, life, ive, had, them, a, week, and, only, had, to, charge, the, case, once, that, too, for, just, a, few, minutes, and, the, earbuds, themselves, leave, them, in, case, for, just, five, min, and, youll, be, getting, battery, ...]</td>\n",
       "    </tr>\n",
       "    <tr>\n",
       "      <th>4</th>\n",
       "      <td>[writing, this, review, after, using, it, for, months, the, build, quality, and, the, material, are, good, as, per, the, price, the, availability, of, good, colors, makes, it, cooler, the, noise, cancellation, is, not, up, to, mark, as, mentioned, the, bass, is, justified, for, the, price, the, battery, lasts, for, an, average, of, days, with, daily, use, of, hours, overall, a, good, product, for, the, price, but, one, can, search, for, better, options, as, per, their, budget]</td>\n",
       "    </tr>\n",
       "  </tbody>\n",
       "</table>\n",
       "</div>"
      ],
      "text/plain": [
       "                                                                                                                                                                                                                                                                                                                                                                                                                                                                                                                                                                                                                                                                                                                                                                                          Reviews\n",
       "0                                                                                                                                                               [pros, the, level, of, volume, it, gets, to, is, just, awesome, it, can, get, incredibly, loud, so, if, youre, at, the, gym, these, are, perfect, awesome, bass, noise, cancellation, is, just, great, if, you, simply, put, them, on, without, even, any, music, playing, u, wont, be, able, to, hear, things, around, u, very, well, its, great, for, places, like, gym, lovely, battery, life, ive, had, them, a, week, and, only, had, to, charge, the, case, once, that, too, for, just, a, few, minutes, and, the, earbuds, themselves, leave, them, in, case, for, just, five, min, and, youll, be, getting, battery, ...]\n",
       "1                                                                                                                [so, its, been, a, month, since, i, bought, it, in, march, here, to, give, an, honest, review, on, boat, airdopes, bought, this, for, inr, this, review, is, long, and, will, help, you, decide, whether, to, buy, this, or, notfeatures, of, these, earbuds, enx, technology, for, better, call, quality, beast, mode, for, low, latency, during, gaming, boat, signature, sound, for, good, sound, quality, with, mm, dynamic, drivers, sbc, aac, and, codec, support, available, asap, as, soon, as, possible, charge, min, min, hours, battery, in, earbuds, hours, with, case, ipx, sweat, and, water, splash, resistant, dont, immerse, in, water, iwp, insta, waken, ...]\n",
       "2  [the, boat, airdopes, bluetooth, truly, wireless, inear, headphones, with, h, playtime, and, beast, mode, have, completely, transformed, my, music, listening, experience, these, earphones, are, designed, to, deliver, exceptional, sound, quality, longlasting, battery, life, and, a, comfortable, fit, heres, my, detailed, review, of, the, boat, airdopes, design, and, comfortthe, sleek, and, compact, design, of, the, boat, airdopes, earphones, caught, my, attention, right, away, they, are, lightweight, and, come, with, ergonomic, ear, tips, that, fit, comfortably, in, my, ears, even, during, extended, listening, sessions, the, snug, fit, ensures, excellent, noise, isolation, allowing, me, to, immerse, myself, fully, in, the, musicsound, qualitythe, sound, ...]\n",
       "3                                                                                                                                                               [pros, the, level, of, volume, it, gets, to, is, just, awesome, it, can, get, incredibly, loud, so, if, youre, at, the, gym, these, are, perfect, awesome, bass, noise, cancellation, is, just, great, if, you, simply, put, them, on, without, even, any, music, playing, u, wont, be, able, to, hear, things, around, u, very, well, its, great, for, places, like, gym, lovely, battery, life, ive, had, them, a, week, and, only, had, to, charge, the, case, once, that, too, for, just, a, few, minutes, and, the, earbuds, themselves, leave, them, in, case, for, just, five, min, and, youll, be, getting, battery, ...]\n",
       "4                                                                                                                                                                                                                                                                                               [writing, this, review, after, using, it, for, months, the, build, quality, and, the, material, are, good, as, per, the, price, the, availability, of, good, colors, makes, it, cooler, the, noise, cancellation, is, not, up, to, mark, as, mentioned, the, bass, is, justified, for, the, price, the, battery, lasts, for, an, average, of, days, with, daily, use, of, hours, overall, a, good, product, for, the, price, but, one, can, search, for, better, options, as, per, their, budget]"
      ]
     },
     "execution_count": 68,
     "metadata": {},
     "output_type": "execute_result"
    }
   ],
   "source": [
    "df.head()"
   ]
  },
  {
   "cell_type": "markdown",
   "id": "74802a4c",
   "metadata": {},
   "source": [
    "# removing stop words"
   ]
  },
  {
   "cell_type": "code",
   "execution_count": 69,
   "id": "f2e40387",
   "metadata": {},
   "outputs": [],
   "source": [
    "df.Reviews=df.Reviews.apply(lambda x: [word  for word in x if word not in set(stopwords.words('english'))])"
   ]
  },
  {
   "cell_type": "code",
   "execution_count": 70,
   "id": "c3157136",
   "metadata": {},
   "outputs": [
    {
     "data": {
      "text/html": [
       "<div>\n",
       "<style scoped>\n",
       "    .dataframe tbody tr th:only-of-type {\n",
       "        vertical-align: middle;\n",
       "    }\n",
       "\n",
       "    .dataframe tbody tr th {\n",
       "        vertical-align: top;\n",
       "    }\n",
       "\n",
       "    .dataframe thead th {\n",
       "        text-align: right;\n",
       "    }\n",
       "</style>\n",
       "<table border=\"1\" class=\"dataframe\">\n",
       "  <thead>\n",
       "    <tr style=\"text-align: right;\">\n",
       "      <th></th>\n",
       "      <th>Reviews</th>\n",
       "    </tr>\n",
       "  </thead>\n",
       "  <tbody>\n",
       "    <tr>\n",
       "      <th>0</th>\n",
       "      <td>[pros, level, volume, gets, awesome, get, incredibly, loud, youre, gym, perfect, awesome, bass, noise, cancellation, great, simply, put, without, even, music, playing, u, wont, able, hear, things, around, u, well, great, places, like, gym, lovely, battery, life, ive, week, charge, case, minutes, earbuds, leave, case, five, min, youll, getting, battery, long, long, comfortable, used, long, periods, time, affordable, touch, controls, responsive, tap, pause, double, tap, right, one, next, song, double, tap, left, one, either, rewind, previous, song, also, pick, calls, tapping, multiple, ear, coverings, provided, type, c, portcons, sound, quality, bad, anything, slightly, muffled, compared, good, quality, headphones, etc, bass, ...]</td>\n",
       "    </tr>\n",
       "    <tr>\n",
       "      <th>1</th>\n",
       "      <td>[month, since, bought, march, give, honest, review, boat, airdopes, bought, inr, review, long, help, decide, whether, buy, notfeatures, earbuds, enx, technology, better, call, quality, beast, mode, low, latency, gaming, boat, signature, sound, good, sound, quality, mm, dynamic, drivers, sbc, aac, codec, support, available, asap, soon, possible, charge, min, min, hours, battery, earbuds, hours, case, ipx, sweat, water, splash, resistant, dont, immerse, water, iwp, insta, waken, pair, technology, faster, connectivity, touch, controls, magnetic, snap, attach, earbuds, charging, pins, caseso, price, expecting, many, features, lovelycoming, experience, enx, technology, works, call, quality, good, inside, cancels, maximum, noise, environment, including, noise, fans, outdoor, calling, ...]</td>\n",
       "    </tr>\n",
       "    <tr>\n",
       "      <th>2</th>\n",
       "      <td>[boat, airdopes, bluetooth, truly, wireless, inear, headphones, h, playtime, beast, mode, completely, transformed, music, listening, experience, earphones, designed, deliver, exceptional, sound, quality, longlasting, battery, life, comfortable, fit, heres, detailed, review, boat, airdopes, design, comfortthe, sleek, compact, design, boat, airdopes, earphones, caught, attention, right, away, lightweight, come, ergonomic, ear, tips, fit, comfortably, ears, even, extended, listening, sessions, snug, fit, ensures, excellent, noise, isolation, allowing, immerse, fully, musicsound, qualitythe, sound, quality, boat, airdopes, impressive, earphones, produce, clear, wellbalanced, audio, across, different, genres, bass, response, punchy, impactful, adding, depth, favorite, tracks, mids, highs, w...</td>\n",
       "    </tr>\n",
       "    <tr>\n",
       "      <th>3</th>\n",
       "      <td>[pros, level, volume, gets, awesome, get, incredibly, loud, youre, gym, perfect, awesome, bass, noise, cancellation, great, simply, put, without, even, music, playing, u, wont, able, hear, things, around, u, well, great, places, like, gym, lovely, battery, life, ive, week, charge, case, minutes, earbuds, leave, case, five, min, youll, getting, battery, long, long, comfortable, used, long, periods, time, affordable, touch, controls, responsive, tap, pause, double, tap, right, one, next, song, double, tap, left, one, either, rewind, previous, song, also, pick, calls, tapping, multiple, ear, coverings, provided, type, c, portcons, sound, quality, bad, anything, slightly, muffled, compared, good, quality, headphones, etc, bass, ...]</td>\n",
       "    </tr>\n",
       "    <tr>\n",
       "      <th>4</th>\n",
       "      <td>[writing, review, using, months, build, quality, material, good, per, price, availability, good, colors, makes, cooler, noise, cancellation, mark, mentioned, bass, justified, price, battery, lasts, average, days, daily, use, hours, overall, good, product, price, one, search, better, options, per, budget]</td>\n",
       "    </tr>\n",
       "  </tbody>\n",
       "</table>\n",
       "</div>"
      ],
      "text/plain": [
       "                                                                                                                                                                                                                                                                                                                                                                                                                                                                                                                                                                                                                                                                                                                                                                                                                           Reviews\n",
       "0                                                               [pros, level, volume, gets, awesome, get, incredibly, loud, youre, gym, perfect, awesome, bass, noise, cancellation, great, simply, put, without, even, music, playing, u, wont, able, hear, things, around, u, well, great, places, like, gym, lovely, battery, life, ive, week, charge, case, minutes, earbuds, leave, case, five, min, youll, getting, battery, long, long, comfortable, used, long, periods, time, affordable, touch, controls, responsive, tap, pause, double, tap, right, one, next, song, double, tap, left, one, either, rewind, previous, song, also, pick, calls, tapping, multiple, ear, coverings, provided, type, c, portcons, sound, quality, bad, anything, slightly, muffled, compared, good, quality, headphones, etc, bass, ...]\n",
       "1        [month, since, bought, march, give, honest, review, boat, airdopes, bought, inr, review, long, help, decide, whether, buy, notfeatures, earbuds, enx, technology, better, call, quality, beast, mode, low, latency, gaming, boat, signature, sound, good, sound, quality, mm, dynamic, drivers, sbc, aac, codec, support, available, asap, soon, possible, charge, min, min, hours, battery, earbuds, hours, case, ipx, sweat, water, splash, resistant, dont, immerse, water, iwp, insta, waken, pair, technology, faster, connectivity, touch, controls, magnetic, snap, attach, earbuds, charging, pins, caseso, price, expecting, many, features, lovelycoming, experience, enx, technology, works, call, quality, good, inside, cancels, maximum, noise, environment, including, noise, fans, outdoor, calling, ...]\n",
       "2  [boat, airdopes, bluetooth, truly, wireless, inear, headphones, h, playtime, beast, mode, completely, transformed, music, listening, experience, earphones, designed, deliver, exceptional, sound, quality, longlasting, battery, life, comfortable, fit, heres, detailed, review, boat, airdopes, design, comfortthe, sleek, compact, design, boat, airdopes, earphones, caught, attention, right, away, lightweight, come, ergonomic, ear, tips, fit, comfortably, ears, even, extended, listening, sessions, snug, fit, ensures, excellent, noise, isolation, allowing, immerse, fully, musicsound, qualitythe, sound, quality, boat, airdopes, impressive, earphones, produce, clear, wellbalanced, audio, across, different, genres, bass, response, punchy, impactful, adding, depth, favorite, tracks, mids, highs, w...\n",
       "3                                                               [pros, level, volume, gets, awesome, get, incredibly, loud, youre, gym, perfect, awesome, bass, noise, cancellation, great, simply, put, without, even, music, playing, u, wont, able, hear, things, around, u, well, great, places, like, gym, lovely, battery, life, ive, week, charge, case, minutes, earbuds, leave, case, five, min, youll, getting, battery, long, long, comfortable, used, long, periods, time, affordable, touch, controls, responsive, tap, pause, double, tap, right, one, next, song, double, tap, left, one, either, rewind, previous, song, also, pick, calls, tapping, multiple, ear, coverings, provided, type, c, portcons, sound, quality, bad, anything, slightly, muffled, compared, good, quality, headphones, etc, bass, ...]\n",
       "4                                                                                                                                                                                                                                                                                                                                                                                                                                                                                                                [writing, review, using, months, build, quality, material, good, per, price, availability, good, colors, makes, cooler, noise, cancellation, mark, mentioned, bass, justified, price, battery, lasts, average, days, daily, use, hours, overall, good, product, price, one, search, better, options, per, budget]"
      ]
     },
     "execution_count": 70,
     "metadata": {},
     "output_type": "execute_result"
    }
   ],
   "source": [
    "df.head()"
   ]
  },
  {
   "cell_type": "markdown",
   "id": "6b17720c",
   "metadata": {},
   "source": [
    "# stemming"
   ]
  },
  {
   "cell_type": "code",
   "execution_count": 71,
   "id": "f2a77acf",
   "metadata": {},
   "outputs": [],
   "source": [
    "ps = PorterStemmer()  \n",
    "df.Reviews=df.Reviews.apply(lambda x: [ps.stem(word) for word in x])"
   ]
  },
  {
   "cell_type": "code",
   "execution_count": 72,
   "id": "6ad74919",
   "metadata": {},
   "outputs": [
    {
     "data": {
      "text/html": [
       "<div>\n",
       "<style scoped>\n",
       "    .dataframe tbody tr th:only-of-type {\n",
       "        vertical-align: middle;\n",
       "    }\n",
       "\n",
       "    .dataframe tbody tr th {\n",
       "        vertical-align: top;\n",
       "    }\n",
       "\n",
       "    .dataframe thead th {\n",
       "        text-align: right;\n",
       "    }\n",
       "</style>\n",
       "<table border=\"1\" class=\"dataframe\">\n",
       "  <thead>\n",
       "    <tr style=\"text-align: right;\">\n",
       "      <th></th>\n",
       "      <th>Reviews</th>\n",
       "    </tr>\n",
       "  </thead>\n",
       "  <tbody>\n",
       "    <tr>\n",
       "      <th>0</th>\n",
       "      <td>[pro, level, volum, get, awesom, get, incred, loud, your, gym, perfect, awesom, bass, nois, cancel, great, simpli, put, without, even, music, play, u, wont, abl, hear, thing, around, u, well, great, place, like, gym, love, batteri, life, ive, week, charg, case, minut, earbud, leav, case, five, min, youll, get, batteri, long, long, comfort, use, long, period, time, afford, touch, control, respons, tap, paus, doubl, tap, right, one, next, song, doubl, tap, left, one, either, rewind, previou, song, also, pick, call, tap, multipl, ear, cover, provid, type, c, portcon, sound, qualiti, bad, anyth, slightli, muffl, compar, good, qualiti, headphon, etc, bass, ...]</td>\n",
       "    </tr>\n",
       "    <tr>\n",
       "      <th>1</th>\n",
       "      <td>[month, sinc, bought, march, give, honest, review, boat, airdop, bought, inr, review, long, help, decid, whether, buy, notfeatur, earbud, enx, technolog, better, call, qualiti, beast, mode, low, latenc, game, boat, signatur, sound, good, sound, qualiti, mm, dynam, driver, sbc, aac, codec, support, avail, asap, soon, possibl, charg, min, min, hour, batteri, earbud, hour, case, ipx, sweat, water, splash, resist, dont, immers, water, iwp, insta, waken, pair, technolog, faster, connect, touch, control, magnet, snap, attach, earbud, charg, pin, caseso, price, expect, mani, featur, lovelycom, experi, enx, technolog, work, call, qualiti, good, insid, cancel, maximum, nois, environ, includ, nois, fan, outdoor, call, ...]</td>\n",
       "    </tr>\n",
       "    <tr>\n",
       "      <th>2</th>\n",
       "      <td>[boat, airdop, bluetooth, truli, wireless, inear, headphon, h, playtim, beast, mode, complet, transform, music, listen, experi, earphon, design, deliv, except, sound, qualiti, longlast, batteri, life, comfort, fit, here, detail, review, boat, airdop, design, comfortth, sleek, compact, design, boat, airdop, earphon, caught, attent, right, away, lightweight, come, ergonom, ear, tip, fit, comfort, ear, even, extend, listen, session, snug, fit, ensur, excel, nois, isol, allow, immers, fulli, musicsound, qualityth, sound, qualiti, boat, airdop, impress, earphon, produc, clear, wellbalanc, audio, across, differ, genr, bass, respons, punchi, impact, ad, depth, favorit, track, mid, high, welldefin, ensur, pleasant, listen, experiencebeast, modeth, highlight, boat, airdop, beast, ...]</td>\n",
       "    </tr>\n",
       "    <tr>\n",
       "      <th>3</th>\n",
       "      <td>[pro, level, volum, get, awesom, get, incred, loud, your, gym, perfect, awesom, bass, nois, cancel, great, simpli, put, without, even, music, play, u, wont, abl, hear, thing, around, u, well, great, place, like, gym, love, batteri, life, ive, week, charg, case, minut, earbud, leav, case, five, min, youll, get, batteri, long, long, comfort, use, long, period, time, afford, touch, control, respons, tap, paus, doubl, tap, right, one, next, song, doubl, tap, left, one, either, rewind, previou, song, also, pick, call, tap, multipl, ear, cover, provid, type, c, portcon, sound, qualiti, bad, anyth, slightli, muffl, compar, good, qualiti, headphon, etc, bass, ...]</td>\n",
       "    </tr>\n",
       "    <tr>\n",
       "      <th>4</th>\n",
       "      <td>[write, review, use, month, build, qualiti, materi, good, per, price, avail, good, color, make, cooler, nois, cancel, mark, mention, bass, justifi, price, batteri, last, averag, day, daili, use, hour, overal, good, product, price, one, search, better, option, per, budget]</td>\n",
       "    </tr>\n",
       "  </tbody>\n",
       "</table>\n",
       "</div>"
      ],
      "text/plain": [
       "                                                                                                                                                                                                                                                                                                                                                                                                                                                                                                                                                                                                                                                                                                                                                                                                              Reviews\n",
       "0                                                                                                                            [pro, level, volum, get, awesom, get, incred, loud, your, gym, perfect, awesom, bass, nois, cancel, great, simpli, put, without, even, music, play, u, wont, abl, hear, thing, around, u, well, great, place, like, gym, love, batteri, life, ive, week, charg, case, minut, earbud, leav, case, five, min, youll, get, batteri, long, long, comfort, use, long, period, time, afford, touch, control, respons, tap, paus, doubl, tap, right, one, next, song, doubl, tap, left, one, either, rewind, previou, song, also, pick, call, tap, multipl, ear, cover, provid, type, c, portcon, sound, qualiti, bad, anyth, slightli, muffl, compar, good, qualiti, headphon, etc, bass, ...]\n",
       "1                                                                  [month, sinc, bought, march, give, honest, review, boat, airdop, bought, inr, review, long, help, decid, whether, buy, notfeatur, earbud, enx, technolog, better, call, qualiti, beast, mode, low, latenc, game, boat, signatur, sound, good, sound, qualiti, mm, dynam, driver, sbc, aac, codec, support, avail, asap, soon, possibl, charg, min, min, hour, batteri, earbud, hour, case, ipx, sweat, water, splash, resist, dont, immers, water, iwp, insta, waken, pair, technolog, faster, connect, touch, control, magnet, snap, attach, earbud, charg, pin, caseso, price, expect, mani, featur, lovelycom, experi, enx, technolog, work, call, qualiti, good, insid, cancel, maximum, nois, environ, includ, nois, fan, outdoor, call, ...]\n",
       "2  [boat, airdop, bluetooth, truli, wireless, inear, headphon, h, playtim, beast, mode, complet, transform, music, listen, experi, earphon, design, deliv, except, sound, qualiti, longlast, batteri, life, comfort, fit, here, detail, review, boat, airdop, design, comfortth, sleek, compact, design, boat, airdop, earphon, caught, attent, right, away, lightweight, come, ergonom, ear, tip, fit, comfort, ear, even, extend, listen, session, snug, fit, ensur, excel, nois, isol, allow, immers, fulli, musicsound, qualityth, sound, qualiti, boat, airdop, impress, earphon, produc, clear, wellbalanc, audio, across, differ, genr, bass, respons, punchi, impact, ad, depth, favorit, track, mid, high, welldefin, ensur, pleasant, listen, experiencebeast, modeth, highlight, boat, airdop, beast, ...]\n",
       "3                                                                                                                            [pro, level, volum, get, awesom, get, incred, loud, your, gym, perfect, awesom, bass, nois, cancel, great, simpli, put, without, even, music, play, u, wont, abl, hear, thing, around, u, well, great, place, like, gym, love, batteri, life, ive, week, charg, case, minut, earbud, leav, case, five, min, youll, get, batteri, long, long, comfort, use, long, period, time, afford, touch, control, respons, tap, paus, doubl, tap, right, one, next, song, doubl, tap, left, one, either, rewind, previou, song, also, pick, call, tap, multipl, ear, cover, provid, type, c, portcon, sound, qualiti, bad, anyth, slightli, muffl, compar, good, qualiti, headphon, etc, bass, ...]\n",
       "4                                                                                                                                                                                                                                                                                                                                                                                                                                                                                                                                    [write, review, use, month, build, qualiti, materi, good, per, price, avail, good, color, make, cooler, nois, cancel, mark, mention, bass, justifi, price, batteri, last, averag, day, daili, use, hour, overal, good, product, price, one, search, better, option, per, budget]"
      ]
     },
     "execution_count": 72,
     "metadata": {},
     "output_type": "execute_result"
    }
   ],
   "source": [
    "df.head()"
   ]
  },
  {
   "cell_type": "markdown",
   "id": "3700e766",
   "metadata": {},
   "source": [
    "# rejoining"
   ]
  },
  {
   "cell_type": "code",
   "execution_count": 73,
   "id": "9d218fc8",
   "metadata": {},
   "outputs": [],
   "source": [
    "df.Reviews=df.Reviews.apply(lambda x: \" \".join(x))"
   ]
  },
  {
   "cell_type": "code",
   "execution_count": 74,
   "id": "b0a24b68",
   "metadata": {},
   "outputs": [
    {
     "data": {
      "text/html": [
       "<div>\n",
       "<style scoped>\n",
       "    .dataframe tbody tr th:only-of-type {\n",
       "        vertical-align: middle;\n",
       "    }\n",
       "\n",
       "    .dataframe tbody tr th {\n",
       "        vertical-align: top;\n",
       "    }\n",
       "\n",
       "    .dataframe thead th {\n",
       "        text-align: right;\n",
       "    }\n",
       "</style>\n",
       "<table border=\"1\" class=\"dataframe\">\n",
       "  <thead>\n",
       "    <tr style=\"text-align: right;\">\n",
       "      <th></th>\n",
       "      <th>Reviews</th>\n",
       "    </tr>\n",
       "  </thead>\n",
       "  <tbody>\n",
       "    <tr>\n",
       "      <th>0</th>\n",
       "      <td>pro level volum get awesom get incred loud your gym perfect awesom bass nois cancel great simpli put without even music play u wont abl hear thing around u well great place like gym love batteri life ive week charg case minut earbud leav case five min youll get batteri long long comfort use long period time afford touch control respons tap paus doubl tap right one next song doubl tap left one either rewind previou song also pick call tap multipl ear cover provid type c portcon sound qualiti bad anyth slightli muffl compar good qualiti headphon etc bass highlight great music movi game wont get crisp audio connect issu sometim turn bluetooth mani time work occasion daili frequent occurr edit month use frequent issu mic qualiti good use phone reason qualiti realli bad pc sometim whatsapp ...</td>\n",
       "    </tr>\n",
       "    <tr>\n",
       "      <th>1</th>\n",
       "      <td>month sinc bought march give honest review boat airdop bought inr review long help decid whether buy notfeatur earbud enx technolog better call qualiti beast mode low latenc game boat signatur sound good sound qualiti mm dynam driver sbc aac codec support avail asap soon possibl charg min min hour batteri earbud hour case ipx sweat water splash resist dont immers water iwp insta waken pair technolog faster connect touch control magnet snap attach earbud charg pin caseso price expect mani featur lovelycom experi enx technolog work call qualiti good insid cancel maximum nois environ includ nois fan outdoor call much nois yeah may nois cancel synchron even mark use mani time almost felt latenc dialogu person speak video perfectli sync earbud beast mode game havent tri game sound qualiti m...</td>\n",
       "    </tr>\n",
       "    <tr>\n",
       "      <th>2</th>\n",
       "      <td>boat airdop bluetooth truli wireless inear headphon h playtim beast mode complet transform music listen experi earphon design deliv except sound qualiti longlast batteri life comfort fit here detail review boat airdop design comfortth sleek compact design boat airdop earphon caught attent right away lightweight come ergonom ear tip fit comfort ear even extend listen session snug fit ensur excel nois isol allow immers fulli musicsound qualityth sound qualiti boat airdop impress earphon produc clear wellbalanc audio across differ genr bass respons punchi impact ad depth favorit track mid high welldefin ensur pleasant listen experiencebeast modeth highlight boat airdop beast mode featur singl tap activ beast mode enhanc bass intens energet sound output perfect genr like edm hiphop rock po...</td>\n",
       "    </tr>\n",
       "    <tr>\n",
       "      <th>3</th>\n",
       "      <td>pro level volum get awesom get incred loud your gym perfect awesom bass nois cancel great simpli put without even music play u wont abl hear thing around u well great place like gym love batteri life ive week charg case minut earbud leav case five min youll get batteri long long comfort use long period time afford touch control respons tap paus doubl tap right one next song doubl tap left one either rewind previou song also pick call tap multipl ear cover provid type c portcon sound qualiti bad anyth slightli muffl compar good qualiti headphon etc bass highlight great music movi game wont get crisp audio connect issu sometim turn bluetooth mani time work occasion daili frequent occurr edit month use frequent issu mic qualiti good use phone reason qualiti realli bad pc sometim whatsapp ...</td>\n",
       "    </tr>\n",
       "    <tr>\n",
       "      <th>4</th>\n",
       "      <td>write review use month build qualiti materi good per price avail good color make cooler nois cancel mark mention bass justifi price batteri last averag day daili use hour overal good product price one search better option per budget</td>\n",
       "    </tr>\n",
       "  </tbody>\n",
       "</table>\n",
       "</div>"
      ],
      "text/plain": [
       "                                                                                                                                                                                                                                                                                                                                                                                                                                                                                                                                                                                                                                                                                                                                                                                                                           Reviews\n",
       "0  pro level volum get awesom get incred loud your gym perfect awesom bass nois cancel great simpli put without even music play u wont abl hear thing around u well great place like gym love batteri life ive week charg case minut earbud leav case five min youll get batteri long long comfort use long period time afford touch control respons tap paus doubl tap right one next song doubl tap left one either rewind previou song also pick call tap multipl ear cover provid type c portcon sound qualiti bad anyth slightli muffl compar good qualiti headphon etc bass highlight great music movi game wont get crisp audio connect issu sometim turn bluetooth mani time work occasion daili frequent occurr edit month use frequent issu mic qualiti good use phone reason qualiti realli bad pc sometim whatsapp ...\n",
       "1  month sinc bought march give honest review boat airdop bought inr review long help decid whether buy notfeatur earbud enx technolog better call qualiti beast mode low latenc game boat signatur sound good sound qualiti mm dynam driver sbc aac codec support avail asap soon possibl charg min min hour batteri earbud hour case ipx sweat water splash resist dont immers water iwp insta waken pair technolog faster connect touch control magnet snap attach earbud charg pin caseso price expect mani featur lovelycom experi enx technolog work call qualiti good insid cancel maximum nois environ includ nois fan outdoor call much nois yeah may nois cancel synchron even mark use mani time almost felt latenc dialogu person speak video perfectli sync earbud beast mode game havent tri game sound qualiti m...\n",
       "2  boat airdop bluetooth truli wireless inear headphon h playtim beast mode complet transform music listen experi earphon design deliv except sound qualiti longlast batteri life comfort fit here detail review boat airdop design comfortth sleek compact design boat airdop earphon caught attent right away lightweight come ergonom ear tip fit comfort ear even extend listen session snug fit ensur excel nois isol allow immers fulli musicsound qualityth sound qualiti boat airdop impress earphon produc clear wellbalanc audio across differ genr bass respons punchi impact ad depth favorit track mid high welldefin ensur pleasant listen experiencebeast modeth highlight boat airdop beast mode featur singl tap activ beast mode enhanc bass intens energet sound output perfect genr like edm hiphop rock po...\n",
       "3  pro level volum get awesom get incred loud your gym perfect awesom bass nois cancel great simpli put without even music play u wont abl hear thing around u well great place like gym love batteri life ive week charg case minut earbud leav case five min youll get batteri long long comfort use long period time afford touch control respons tap paus doubl tap right one next song doubl tap left one either rewind previou song also pick call tap multipl ear cover provid type c portcon sound qualiti bad anyth slightli muffl compar good qualiti headphon etc bass highlight great music movi game wont get crisp audio connect issu sometim turn bluetooth mani time work occasion daili frequent occurr edit month use frequent issu mic qualiti good use phone reason qualiti realli bad pc sometim whatsapp ...\n",
       "4                                                                                                                                                                                                                                                                                                                                                                                                                                                                                                                                                                                         write review use month build qualiti materi good per price avail good color make cooler nois cancel mark mention bass justifi price batteri last averag day daili use hour overal good product price one search better option per budget"
      ]
     },
     "execution_count": 74,
     "metadata": {},
     "output_type": "execute_result"
    }
   ],
   "source": [
    "df.head()"
   ]
  },
  {
   "cell_type": "markdown",
   "id": "41323896",
   "metadata": {},
   "source": [
    "# Sentiment Analysis"
   ]
  },
  {
   "cell_type": "markdown",
   "id": "83c870ba",
   "metadata": {},
   "source": [
    "# vader"
   ]
  },
  {
   "cell_type": "code",
   "execution_count": 75,
   "id": "92523ec2",
   "metadata": {},
   "outputs": [],
   "source": [
    "#nltk.download('vader_lexicon')"
   ]
  },
  {
   "cell_type": "code",
   "execution_count": 76,
   "id": "01812ed7",
   "metadata": {},
   "outputs": [],
   "source": [
    "from nltk.sentiment import SentimentIntensityAnalyzer\n",
    "si = SentimentIntensityAnalyzer()"
   ]
  },
  {
   "cell_type": "code",
   "execution_count": 77,
   "id": "6d57a6d1",
   "metadata": {},
   "outputs": [],
   "source": [
    "def sentiment_score(text):\n",
    "    score=si.polarity_scores(text)\n",
    "    return score['compound']"
   ]
  },
  {
   "cell_type": "code",
   "execution_count": 78,
   "id": "c67f0cd9",
   "metadata": {},
   "outputs": [],
   "source": [
    "df['sentiment_score'] = df['Reviews'].apply(lambda x:sentiment_score(x))\n"
   ]
  },
  {
   "cell_type": "code",
   "execution_count": 79,
   "id": "c9543494",
   "metadata": {},
   "outputs": [
    {
     "data": {
      "text/html": [
       "<div>\n",
       "<style scoped>\n",
       "    .dataframe tbody tr th:only-of-type {\n",
       "        vertical-align: middle;\n",
       "    }\n",
       "\n",
       "    .dataframe tbody tr th {\n",
       "        vertical-align: top;\n",
       "    }\n",
       "\n",
       "    .dataframe thead th {\n",
       "        text-align: right;\n",
       "    }\n",
       "</style>\n",
       "<table border=\"1\" class=\"dataframe\">\n",
       "  <thead>\n",
       "    <tr style=\"text-align: right;\">\n",
       "      <th></th>\n",
       "      <th>Reviews</th>\n",
       "      <th>sentiment_score</th>\n",
       "    </tr>\n",
       "  </thead>\n",
       "  <tbody>\n",
       "    <tr>\n",
       "      <th>0</th>\n",
       "      <td>pro level volum get awesom get incred loud your gym perfect awesom bass nois cancel great simpli put without even music play u wont abl hear thing around u well great place like gym love batteri life ive week charg case minut earbud leav case five min youll get batteri long long comfort use long period time afford touch control respons tap paus doubl tap right one next song doubl tap left one either rewind previou song also pick call tap multipl ear cover provid type c portcon sound qualiti ...</td>\n",
       "      <td>0.9779</td>\n",
       "    </tr>\n",
       "    <tr>\n",
       "      <th>1</th>\n",
       "      <td>month sinc bought march give honest review boat airdop bought inr review long help decid whether buy notfeatur earbud enx technolog better call qualiti beast mode low latenc game boat signatur sound good sound qualiti mm dynam driver sbc aac codec support avail asap soon possibl charg min min hour batteri earbud hour case ipx sweat water splash resist dont immers water iwp insta waken pair technolog faster connect touch control magnet snap attach earbud charg pin caseso price expect mani fea...</td>\n",
       "      <td>0.9971</td>\n",
       "    </tr>\n",
       "    <tr>\n",
       "      <th>2</th>\n",
       "      <td>boat airdop bluetooth truli wireless inear headphon h playtim beast mode complet transform music listen experi earphon design deliv except sound qualiti longlast batteri life comfort fit here detail review boat airdop design comfortth sleek compact design boat airdop earphon caught attent right away lightweight come ergonom ear tip fit comfort ear even extend listen session snug fit ensur excel nois isol allow immers fulli musicsound qualityth sound qualiti boat airdop impress earphon produc...</td>\n",
       "      <td>0.9952</td>\n",
       "    </tr>\n",
       "    <tr>\n",
       "      <th>3</th>\n",
       "      <td>pro level volum get awesom get incred loud your gym perfect awesom bass nois cancel great simpli put without even music play u wont abl hear thing around u well great place like gym love batteri life ive week charg case minut earbud leav case five min youll get batteri long long comfort use long period time afford touch control respons tap paus doubl tap right one next song doubl tap left one either rewind previou song also pick call tap multipl ear cover provid type c portcon sound qualiti ...</td>\n",
       "      <td>0.9864</td>\n",
       "    </tr>\n",
       "    <tr>\n",
       "      <th>4</th>\n",
       "      <td>write review use month build qualiti materi good per price avail good color make cooler nois cancel mark mention bass justifi price batteri last averag day daili use hour overal good product price one search better option per budget</td>\n",
       "      <td>0.8625</td>\n",
       "    </tr>\n",
       "  </tbody>\n",
       "</table>\n",
       "</div>"
      ],
      "text/plain": [
       "                                                                                                                                                                                                                                                                                                                                                                                                                                                                                                               Reviews  \\\n",
       "0  pro level volum get awesom get incred loud your gym perfect awesom bass nois cancel great simpli put without even music play u wont abl hear thing around u well great place like gym love batteri life ive week charg case minut earbud leav case five min youll get batteri long long comfort use long period time afford touch control respons tap paus doubl tap right one next song doubl tap left one either rewind previou song also pick call tap multipl ear cover provid type c portcon sound qualiti ...   \n",
       "1  month sinc bought march give honest review boat airdop bought inr review long help decid whether buy notfeatur earbud enx technolog better call qualiti beast mode low latenc game boat signatur sound good sound qualiti mm dynam driver sbc aac codec support avail asap soon possibl charg min min hour batteri earbud hour case ipx sweat water splash resist dont immers water iwp insta waken pair technolog faster connect touch control magnet snap attach earbud charg pin caseso price expect mani fea...   \n",
       "2  boat airdop bluetooth truli wireless inear headphon h playtim beast mode complet transform music listen experi earphon design deliv except sound qualiti longlast batteri life comfort fit here detail review boat airdop design comfortth sleek compact design boat airdop earphon caught attent right away lightweight come ergonom ear tip fit comfort ear even extend listen session snug fit ensur excel nois isol allow immers fulli musicsound qualityth sound qualiti boat airdop impress earphon produc...   \n",
       "3  pro level volum get awesom get incred loud your gym perfect awesom bass nois cancel great simpli put without even music play u wont abl hear thing around u well great place like gym love batteri life ive week charg case minut earbud leav case five min youll get batteri long long comfort use long period time afford touch control respons tap paus doubl tap right one next song doubl tap left one either rewind previou song also pick call tap multipl ear cover provid type c portcon sound qualiti ...   \n",
       "4                                                                                                                                                                                                                                                                             write review use month build qualiti materi good per price avail good color make cooler nois cancel mark mention bass justifi price batteri last averag day daili use hour overal good product price one search better option per budget   \n",
       "\n",
       "   sentiment_score  \n",
       "0           0.9779  \n",
       "1           0.9971  \n",
       "2           0.9952  \n",
       "3           0.9864  \n",
       "4           0.8625  "
      ]
     },
     "execution_count": 79,
     "metadata": {},
     "output_type": "execute_result"
    }
   ],
   "source": [
    "pd.set_option('max_colwidth', 500)\n",
    "df.head()"
   ]
  },
  {
   "cell_type": "code",
   "execution_count": 80,
   "id": "48248109",
   "metadata": {},
   "outputs": [],
   "source": [
    "def sentiment_category(score1):\n",
    "    if(score1 > 0.4):\n",
    "        return 'Positive'\n",
    "    elif(score1 < .1):\n",
    "        return 'Negative'\n",
    "    else:\n",
    "        return 'Neutral'"
   ]
  },
  {
   "cell_type": "code",
   "execution_count": 81,
   "id": "0d8eeae4",
   "metadata": {},
   "outputs": [],
   "source": [
    "df['sentiment'] = df['sentiment_score'].apply(lambda x:sentiment_category(x))\n"
   ]
  },
  {
   "cell_type": "code",
   "execution_count": 82,
   "id": "065395a5",
   "metadata": {},
   "outputs": [
    {
     "data": {
      "text/html": [
       "<div>\n",
       "<style scoped>\n",
       "    .dataframe tbody tr th:only-of-type {\n",
       "        vertical-align: middle;\n",
       "    }\n",
       "\n",
       "    .dataframe tbody tr th {\n",
       "        vertical-align: top;\n",
       "    }\n",
       "\n",
       "    .dataframe thead th {\n",
       "        text-align: right;\n",
       "    }\n",
       "</style>\n",
       "<table border=\"1\" class=\"dataframe\">\n",
       "  <thead>\n",
       "    <tr style=\"text-align: right;\">\n",
       "      <th></th>\n",
       "      <th>Reviews</th>\n",
       "      <th>sentiment_score</th>\n",
       "      <th>sentiment</th>\n",
       "    </tr>\n",
       "  </thead>\n",
       "  <tbody>\n",
       "    <tr>\n",
       "      <th>0</th>\n",
       "      <td>pro level volum get awesom get incred loud your gym perfect awesom bass nois cancel great simpli put without even music play u wont abl hear thing around u well great place like gym love batteri life ive week charg case minut earbud leav case five min youll get batteri long long comfort use long period time afford touch control respons tap paus doubl tap right one next song doubl tap left one either rewind previou song also pick call tap multipl ear cover provid type c portcon sound qualiti ...</td>\n",
       "      <td>0.9779</td>\n",
       "      <td>Positive</td>\n",
       "    </tr>\n",
       "    <tr>\n",
       "      <th>1</th>\n",
       "      <td>month sinc bought march give honest review boat airdop bought inr review long help decid whether buy notfeatur earbud enx technolog better call qualiti beast mode low latenc game boat signatur sound good sound qualiti mm dynam driver sbc aac codec support avail asap soon possibl charg min min hour batteri earbud hour case ipx sweat water splash resist dont immers water iwp insta waken pair technolog faster connect touch control magnet snap attach earbud charg pin caseso price expect mani fea...</td>\n",
       "      <td>0.9971</td>\n",
       "      <td>Positive</td>\n",
       "    </tr>\n",
       "    <tr>\n",
       "      <th>2</th>\n",
       "      <td>boat airdop bluetooth truli wireless inear headphon h playtim beast mode complet transform music listen experi earphon design deliv except sound qualiti longlast batteri life comfort fit here detail review boat airdop design comfortth sleek compact design boat airdop earphon caught attent right away lightweight come ergonom ear tip fit comfort ear even extend listen session snug fit ensur excel nois isol allow immers fulli musicsound qualityth sound qualiti boat airdop impress earphon produc...</td>\n",
       "      <td>0.9952</td>\n",
       "      <td>Positive</td>\n",
       "    </tr>\n",
       "    <tr>\n",
       "      <th>3</th>\n",
       "      <td>pro level volum get awesom get incred loud your gym perfect awesom bass nois cancel great simpli put without even music play u wont abl hear thing around u well great place like gym love batteri life ive week charg case minut earbud leav case five min youll get batteri long long comfort use long period time afford touch control respons tap paus doubl tap right one next song doubl tap left one either rewind previou song also pick call tap multipl ear cover provid type c portcon sound qualiti ...</td>\n",
       "      <td>0.9864</td>\n",
       "      <td>Positive</td>\n",
       "    </tr>\n",
       "    <tr>\n",
       "      <th>4</th>\n",
       "      <td>write review use month build qualiti materi good per price avail good color make cooler nois cancel mark mention bass justifi price batteri last averag day daili use hour overal good product price one search better option per budget</td>\n",
       "      <td>0.8625</td>\n",
       "      <td>Positive</td>\n",
       "    </tr>\n",
       "    <tr>\n",
       "      <th>5</th>\n",
       "      <td>buy tw rang rsi bought rs valueformoney productsound qualiti loud good bass come volum decreas automat bass provid vtype sound bass trebl littl boost crispi vocal good mic doesnt catch voic properli even talk loudli connect approx meter noth tw devic batteri hour hour beast mode dont know come beastmodejust tap time left tw activ dont see differ beast mode consum batteri</td>\n",
       "      <td>0.8176</td>\n",
       "      <td>Positive</td>\n",
       "    </tr>\n",
       "    <tr>\n",
       "      <th>6</th>\n",
       "      <td>overal good product good sound qualiti price rang call qualiti ok cannot attend call outsid bu train clear continu place ear may feel pain hour remov time replac overal price rang good dont expect compar k k budget product</td>\n",
       "      <td>0.8481</td>\n",
       "      <td>Positive</td>\n",
       "    </tr>\n",
       "    <tr>\n",
       "      <th>7</th>\n",
       "      <td>think earbud give charg issu put bud case red signal charg show wait charg remov ear bud dont charg anybodi give solut appreci pleas give solut solv problem face</td>\n",
       "      <td>-0.4019</td>\n",
       "      <td>Negative</td>\n",
       "    </tr>\n",
       "    <tr>\n",
       "      <th>8</th>\n",
       "      <td>lag issu sometim game sometim bud suddenli stop work put case turn frustrat import time otherwis product great valu money bought rs feel littl sadist consid week price drop rs okay</td>\n",
       "      <td>0.0772</td>\n",
       "      <td>Negative</td>\n",
       "    </tr>\n",
       "    <tr>\n",
       "      <th>9</th>\n",
       "      <td>worth money gadget sound qualiti bass mark problem hear extern nois kept loud audio batteri life enough light user fit correctli one ear bit loos idk problem ear bud fit</td>\n",
       "      <td>0.0258</td>\n",
       "      <td>Negative</td>\n",
       "    </tr>\n",
       "  </tbody>\n",
       "</table>\n",
       "</div>"
      ],
      "text/plain": [
       "                                                                                                                                                                                                                                                                                                                                                                                                                                                                                                               Reviews  \\\n",
       "0  pro level volum get awesom get incred loud your gym perfect awesom bass nois cancel great simpli put without even music play u wont abl hear thing around u well great place like gym love batteri life ive week charg case minut earbud leav case five min youll get batteri long long comfort use long period time afford touch control respons tap paus doubl tap right one next song doubl tap left one either rewind previou song also pick call tap multipl ear cover provid type c portcon sound qualiti ...   \n",
       "1  month sinc bought march give honest review boat airdop bought inr review long help decid whether buy notfeatur earbud enx technolog better call qualiti beast mode low latenc game boat signatur sound good sound qualiti mm dynam driver sbc aac codec support avail asap soon possibl charg min min hour batteri earbud hour case ipx sweat water splash resist dont immers water iwp insta waken pair technolog faster connect touch control magnet snap attach earbud charg pin caseso price expect mani fea...   \n",
       "2  boat airdop bluetooth truli wireless inear headphon h playtim beast mode complet transform music listen experi earphon design deliv except sound qualiti longlast batteri life comfort fit here detail review boat airdop design comfortth sleek compact design boat airdop earphon caught attent right away lightweight come ergonom ear tip fit comfort ear even extend listen session snug fit ensur excel nois isol allow immers fulli musicsound qualityth sound qualiti boat airdop impress earphon produc...   \n",
       "3  pro level volum get awesom get incred loud your gym perfect awesom bass nois cancel great simpli put without even music play u wont abl hear thing around u well great place like gym love batteri life ive week charg case minut earbud leav case five min youll get batteri long long comfort use long period time afford touch control respons tap paus doubl tap right one next song doubl tap left one either rewind previou song also pick call tap multipl ear cover provid type c portcon sound qualiti ...   \n",
       "4                                                                                                                                                                                                                                                                             write review use month build qualiti materi good per price avail good color make cooler nois cancel mark mention bass justifi price batteri last averag day daili use hour overal good product price one search better option per budget   \n",
       "5                                                                                                                                buy tw rang rsi bought rs valueformoney productsound qualiti loud good bass come volum decreas automat bass provid vtype sound bass trebl littl boost crispi vocal good mic doesnt catch voic properli even talk loudli connect approx meter noth tw devic batteri hour hour beast mode dont know come beastmodejust tap time left tw activ dont see differ beast mode consum batteri   \n",
       "6                                                                                                                                                                                                                                                                                       overal good product good sound qualiti price rang call qualiti ok cannot attend call outsid bu train clear continu place ear may feel pain hour remov time replac overal price rang good dont expect compar k k budget product   \n",
       "7                                                                                                                                                                                                                                                                                                                                                    think earbud give charg issu put bud case red signal charg show wait charg remov ear bud dont charg anybodi give solut appreci pleas give solut solv problem face   \n",
       "8                                                                                                                                                                                                                                                                                                                                 lag issu sometim game sometim bud suddenli stop work put case turn frustrat import time otherwis product great valu money bought rs feel littl sadist consid week price drop rs okay   \n",
       "9                                                                                                                                                                                                                                                                                                                                            worth money gadget sound qualiti bass mark problem hear extern nois kept loud audio batteri life enough light user fit correctli one ear bit loos idk problem ear bud fit   \n",
       "\n",
       "   sentiment_score sentiment  \n",
       "0           0.9779  Positive  \n",
       "1           0.9971  Positive  \n",
       "2           0.9952  Positive  \n",
       "3           0.9864  Positive  \n",
       "4           0.8625  Positive  \n",
       "5           0.8176  Positive  \n",
       "6           0.8481  Positive  \n",
       "7          -0.4019  Negative  \n",
       "8           0.0772  Negative  \n",
       "9           0.0258  Negative  "
      ]
     },
     "execution_count": 82,
     "metadata": {},
     "output_type": "execute_result"
    }
   ],
   "source": [
    "df"
   ]
  },
  {
   "cell_type": "code",
   "execution_count": 83,
   "id": "8a5d275a",
   "metadata": {},
   "outputs": [
    {
     "data": {
      "text/plain": [
       "<AxesSubplot:xlabel='sentiment', ylabel='count'>"
      ]
     },
     "execution_count": 83,
     "metadata": {},
     "output_type": "execute_result"
    },
    {
     "data": {
      "image/png": "[encoded data removed]",
      "text/plain": [
       "<Figure size 640x480 with 1 Axes>"
      ]
     },
     "metadata": {},
     "output_type": "display_data"
    }
   ],
   "source": [
    "sns.countplot(x=df['sentiment'])"
   ]
  },
  {
   "cell_type": "markdown",
   "id": "b54825e1",
   "metadata": {},
   "source": [
    "# inference \n",
    "we can see that out of 10 times 7 times is positive sentiment, 3 times is negative sentiment and no neutral sentiment"
   ]
  },
  {
   "cell_type": "code",
   "execution_count": null,
   "id": "3b6dc55f",
   "metadata": {},
   "outputs": [],
   "source": []
  }
 ],
 "metadata": {
  "kernelspec": {
   "display_name": "Python 3 (ipykernel)",
   "language": "python",
   "name": "python3"
  },
  "language_info": {
   "codemirror_mode": {
    "name": "ipython",
    "version": 3
   },
   "file_extension": ".py",
   "mimetype": "text/x-python",
   "name": "python",
   "nbconvert_exporter": "python",
   "pygments_lexer": "ipython3",
   "version": "3.11.3"
  }
 },
 "nbformat": 4,
 "nbformat_minor": 5
}
