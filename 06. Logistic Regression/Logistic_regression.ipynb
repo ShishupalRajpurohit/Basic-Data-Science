{
 "cells": [
  {
   "cell_type": "markdown",
   "id": "03dc6365",
   "metadata": {},
   "source": [
    "# Problem Statement\n",
    "Output variable -> y\n",
    "\n",
    "\n",
    "y -> Whether the client has subscribed a term deposit or not \n",
    "\n",
    "\n",
    "\n",
    "\n",
    "Binomial (\"yes\" or \"no\")\n"
   ]
  },
  {
   "cell_type": "markdown",
   "id": "b1d240eb",
   "metadata": {},
   "source": [
    "# import libraries"
   ]
  },
  {
   "cell_type": "code",
   "execution_count": 1,
   "id": "a132ecf0",
   "metadata": {},
   "outputs": [],
   "source": [
    "# importing the liabraries\n",
    "import pandas as pd\n",
    "import numpy as np\n",
    "import warnings\n",
    "warnings.filterwarnings('ignore')\n",
    "import matplotlib.pyplot as plt\n",
    "import seaborn as sns\n",
    "from sklearn.linear_model import LogisticRegression\n",
    "from sklearn.model_selection import train_test_split\n",
    "from sklearn.metrics import classification_report\n",
    "from sklearn.metrics import accuracy_score\n",
    "from sklearn.metrics import confusion_matrix\n",
    "from sklearn.metrics import roc_curve\n",
    "from sklearn.metrics import roc_auc_score"
   ]
  },
  {
   "cell_type": "markdown",
   "id": "bca43550",
   "metadata": {},
   "source": [
    "# Importing CSV File"
   ]
  },
  {
   "cell_type": "code",
   "execution_count": 2,
   "id": "5fb83347",
   "metadata": {
    "scrolled": false
   },
   "outputs": [
    {
     "data": {
      "text/html": [
       "<div>\n",
       "<style scoped>\n",
       "    .dataframe tbody tr th:only-of-type {\n",
       "        vertical-align: middle;\n",
       "    }\n",
       "\n",
       "    .dataframe tbody tr th {\n",
       "        vertical-align: top;\n",
       "    }\n",
       "\n",
       "    .dataframe thead th {\n",
       "        text-align: right;\n",
       "    }\n",
       "</style>\n",
       "<table border=\"1\" class=\"dataframe\">\n",
       "  <thead>\n",
       "    <tr style=\"text-align: right;\">\n",
       "      <th></th>\n",
       "      <th>age;\"job\";\"marital\";\"education\";\"default\";\"balance\";\"housing\";\"loan\";\"contact\";\"day\";\"month\";\"duration\";\"campaign\";\"pdays\";\"previous\";\"poutcome\";\"y\"</th>\n",
       "    </tr>\n",
       "  </thead>\n",
       "  <tbody>\n",
       "    <tr>\n",
       "      <th>0</th>\n",
       "      <td>58;\"management\";\"married\";\"tertiary\";\"no\";2143...</td>\n",
       "    </tr>\n",
       "    <tr>\n",
       "      <th>1</th>\n",
       "      <td>44;\"technician\";\"single\";\"secondary\";\"no\";29;\"...</td>\n",
       "    </tr>\n",
       "    <tr>\n",
       "      <th>2</th>\n",
       "      <td>33;\"entrepreneur\";\"married\";\"secondary\";\"no\";2...</td>\n",
       "    </tr>\n",
       "    <tr>\n",
       "      <th>3</th>\n",
       "      <td>47;\"blue-collar\";\"married\";\"unknown\";\"no\";1506...</td>\n",
       "    </tr>\n",
       "    <tr>\n",
       "      <th>4</th>\n",
       "      <td>33;\"unknown\";\"single\";\"unknown\";\"no\";1;\"no\";\"n...</td>\n",
       "    </tr>\n",
       "    <tr>\n",
       "      <th>...</th>\n",
       "      <td>...</td>\n",
       "    </tr>\n",
       "    <tr>\n",
       "      <th>45206</th>\n",
       "      <td>51;\"technician\";\"married\";\"tertiary\";\"no\";825;...</td>\n",
       "    </tr>\n",
       "    <tr>\n",
       "      <th>45207</th>\n",
       "      <td>71;\"retired\";\"divorced\";\"primary\";\"no\";1729;\"n...</td>\n",
       "    </tr>\n",
       "    <tr>\n",
       "      <th>45208</th>\n",
       "      <td>72;\"retired\";\"married\";\"secondary\";\"no\";5715;\"...</td>\n",
       "    </tr>\n",
       "    <tr>\n",
       "      <th>45209</th>\n",
       "      <td>57;\"blue-collar\";\"married\";\"secondary\";\"no\";66...</td>\n",
       "    </tr>\n",
       "    <tr>\n",
       "      <th>45210</th>\n",
       "      <td>37;\"entrepreneur\";\"married\";\"secondary\";\"no\";2...</td>\n",
       "    </tr>\n",
       "  </tbody>\n",
       "</table>\n",
       "<p>45211 rows × 1 columns</p>\n",
       "</div>"
      ],
      "text/plain": [
       "      age;\"job\";\"marital\";\"education\";\"default\";\"balance\";\"housing\";\"loan\";\"contact\";\"day\";\"month\";\"duration\";\"campaign\";\"pdays\";\"previous\";\"poutcome\";\"y\"\n",
       "0      58;\"management\";\"married\";\"tertiary\";\"no\";2143...                                                                                                  \n",
       "1      44;\"technician\";\"single\";\"secondary\";\"no\";29;\"...                                                                                                  \n",
       "2      33;\"entrepreneur\";\"married\";\"secondary\";\"no\";2...                                                                                                  \n",
       "3      47;\"blue-collar\";\"married\";\"unknown\";\"no\";1506...                                                                                                  \n",
       "4      33;\"unknown\";\"single\";\"unknown\";\"no\";1;\"no\";\"n...                                                                                                  \n",
       "...                                                  ...                                                                                                  \n",
       "45206  51;\"technician\";\"married\";\"tertiary\";\"no\";825;...                                                                                                  \n",
       "45207  71;\"retired\";\"divorced\";\"primary\";\"no\";1729;\"n...                                                                                                  \n",
       "45208  72;\"retired\";\"married\";\"secondary\";\"no\";5715;\"...                                                                                                  \n",
       "45209  57;\"blue-collar\";\"married\";\"secondary\";\"no\";66...                                                                                                  \n",
       "45210  37;\"entrepreneur\";\"married\";\"secondary\";\"no\";2...                                                                                                  \n",
       "\n",
       "[45211 rows x 1 columns]"
      ]
     },
     "execution_count": 2,
     "metadata": {},
     "output_type": "execute_result"
    }
   ],
   "source": [
    "pd.read_csv('bank-full.csv')\n",
    "# here dataset is not in tablized form and seperated by ;\n",
    "# so we would use sep=';'"
   ]
  },
  {
   "cell_type": "code",
   "execution_count": 3,
   "id": "50f55642",
   "metadata": {},
   "outputs": [
    {
     "data": {
      "text/html": [
       "<div>\n",
       "<style scoped>\n",
       "    .dataframe tbody tr th:only-of-type {\n",
       "        vertical-align: middle;\n",
       "    }\n",
       "\n",
       "    .dataframe tbody tr th {\n",
       "        vertical-align: top;\n",
       "    }\n",
       "\n",
       "    .dataframe thead th {\n",
       "        text-align: right;\n",
       "    }\n",
       "</style>\n",
       "<table border=\"1\" class=\"dataframe\">\n",
       "  <thead>\n",
       "    <tr style=\"text-align: right;\">\n",
       "      <th></th>\n",
       "      <th>age</th>\n",
       "      <th>job</th>\n",
       "      <th>marital</th>\n",
       "      <th>education</th>\n",
       "      <th>default</th>\n",
       "      <th>balance</th>\n",
       "      <th>housing</th>\n",
       "      <th>loan</th>\n",
       "      <th>contact</th>\n",
       "      <th>day</th>\n",
       "      <th>month</th>\n",
       "      <th>duration</th>\n",
       "      <th>campaign</th>\n",
       "      <th>pdays</th>\n",
       "      <th>previous</th>\n",
       "      <th>poutcome</th>\n",
       "      <th>y</th>\n",
       "    </tr>\n",
       "  </thead>\n",
       "  <tbody>\n",
       "    <tr>\n",
       "      <th>0</th>\n",
       "      <td>58</td>\n",
       "      <td>management</td>\n",
       "      <td>married</td>\n",
       "      <td>tertiary</td>\n",
       "      <td>no</td>\n",
       "      <td>2143</td>\n",
       "      <td>yes</td>\n",
       "      <td>no</td>\n",
       "      <td>unknown</td>\n",
       "      <td>5</td>\n",
       "      <td>may</td>\n",
       "      <td>261</td>\n",
       "      <td>1</td>\n",
       "      <td>-1</td>\n",
       "      <td>0</td>\n",
       "      <td>unknown</td>\n",
       "      <td>no</td>\n",
       "    </tr>\n",
       "    <tr>\n",
       "      <th>1</th>\n",
       "      <td>44</td>\n",
       "      <td>technician</td>\n",
       "      <td>single</td>\n",
       "      <td>secondary</td>\n",
       "      <td>no</td>\n",
       "      <td>29</td>\n",
       "      <td>yes</td>\n",
       "      <td>no</td>\n",
       "      <td>unknown</td>\n",
       "      <td>5</td>\n",
       "      <td>may</td>\n",
       "      <td>151</td>\n",
       "      <td>1</td>\n",
       "      <td>-1</td>\n",
       "      <td>0</td>\n",
       "      <td>unknown</td>\n",
       "      <td>no</td>\n",
       "    </tr>\n",
       "    <tr>\n",
       "      <th>2</th>\n",
       "      <td>33</td>\n",
       "      <td>entrepreneur</td>\n",
       "      <td>married</td>\n",
       "      <td>secondary</td>\n",
       "      <td>no</td>\n",
       "      <td>2</td>\n",
       "      <td>yes</td>\n",
       "      <td>yes</td>\n",
       "      <td>unknown</td>\n",
       "      <td>5</td>\n",
       "      <td>may</td>\n",
       "      <td>76</td>\n",
       "      <td>1</td>\n",
       "      <td>-1</td>\n",
       "      <td>0</td>\n",
       "      <td>unknown</td>\n",
       "      <td>no</td>\n",
       "    </tr>\n",
       "    <tr>\n",
       "      <th>3</th>\n",
       "      <td>47</td>\n",
       "      <td>blue-collar</td>\n",
       "      <td>married</td>\n",
       "      <td>unknown</td>\n",
       "      <td>no</td>\n",
       "      <td>1506</td>\n",
       "      <td>yes</td>\n",
       "      <td>no</td>\n",
       "      <td>unknown</td>\n",
       "      <td>5</td>\n",
       "      <td>may</td>\n",
       "      <td>92</td>\n",
       "      <td>1</td>\n",
       "      <td>-1</td>\n",
       "      <td>0</td>\n",
       "      <td>unknown</td>\n",
       "      <td>no</td>\n",
       "    </tr>\n",
       "    <tr>\n",
       "      <th>4</th>\n",
       "      <td>33</td>\n",
       "      <td>unknown</td>\n",
       "      <td>single</td>\n",
       "      <td>unknown</td>\n",
       "      <td>no</td>\n",
       "      <td>1</td>\n",
       "      <td>no</td>\n",
       "      <td>no</td>\n",
       "      <td>unknown</td>\n",
       "      <td>5</td>\n",
       "      <td>may</td>\n",
       "      <td>198</td>\n",
       "      <td>1</td>\n",
       "      <td>-1</td>\n",
       "      <td>0</td>\n",
       "      <td>unknown</td>\n",
       "      <td>no</td>\n",
       "    </tr>\n",
       "  </tbody>\n",
       "</table>\n",
       "</div>"
      ],
      "text/plain": [
       "   age           job  marital  education default  balance housing loan  \\\n",
       "0   58    management  married   tertiary      no     2143     yes   no   \n",
       "1   44    technician   single  secondary      no       29     yes   no   \n",
       "2   33  entrepreneur  married  secondary      no        2     yes  yes   \n",
       "3   47   blue-collar  married    unknown      no     1506     yes   no   \n",
       "4   33       unknown   single    unknown      no        1      no   no   \n",
       "\n",
       "   contact  day month  duration  campaign  pdays  previous poutcome   y  \n",
       "0  unknown    5   may       261         1     -1         0  unknown  no  \n",
       "1  unknown    5   may       151         1     -1         0  unknown  no  \n",
       "2  unknown    5   may        76         1     -1         0  unknown  no  \n",
       "3  unknown    5   may        92         1     -1         0  unknown  no  \n",
       "4  unknown    5   may       198         1     -1         0  unknown  no  "
      ]
     },
     "execution_count": 3,
     "metadata": {},
     "output_type": "execute_result"
    }
   ],
   "source": [
    "#importing dataset\n",
    "df=pd.read_csv('bank-full.csv',sep=';') \n",
    "# here sep by ; is given because dataset is not in tablized form and seperated by ;\n",
    "df.head()"
   ]
  },
  {
   "cell_type": "markdown",
   "id": "ce14260b",
   "metadata": {},
   "source": [
    "# EDA"
   ]
  },
  {
   "cell_type": "code",
   "execution_count": 4,
   "id": "c3a2751b",
   "metadata": {},
   "outputs": [
    {
     "data": {
      "text/plain": [
       "(45211, 17)"
      ]
     },
     "execution_count": 4,
     "metadata": {},
     "output_type": "execute_result"
    }
   ],
   "source": [
    "# to see the rows and columns\n",
    "df.shape"
   ]
  },
  {
   "cell_type": "code",
   "execution_count": 5,
   "id": "b2b58002",
   "metadata": {},
   "outputs": [
    {
     "data": {
      "text/plain": [
       "0"
      ]
     },
     "execution_count": 5,
     "metadata": {},
     "output_type": "execute_result"
    }
   ],
   "source": [
    "# to see number of the duplicated rows\n",
    "df.duplicated().sum()"
   ]
  },
  {
   "cell_type": "code",
   "execution_count": 6,
   "id": "b25693e8",
   "metadata": {},
   "outputs": [
    {
     "data": {
      "text/plain": [
       "array(['admin.', 'blue-collar', 'entrepreneur', 'housemaid', 'management',\n",
       "       'retired', 'self-employed', 'services', 'student', 'technician',\n",
       "       'unemployed', 'unknown'], dtype=object)"
      ]
     },
     "execution_count": 6,
     "metadata": {},
     "output_type": "execute_result"
    }
   ],
   "source": [
    "# to see the unique variables in the job column\n",
    "np.unique(df.job)"
   ]
  },
  {
   "cell_type": "code",
   "execution_count": 7,
   "id": "6d35385e",
   "metadata": {},
   "outputs": [
    {
     "data": {
      "text/plain": [
       "age          0\n",
       "job          0\n",
       "marital      0\n",
       "education    0\n",
       "default      0\n",
       "balance      0\n",
       "housing      0\n",
       "loan         0\n",
       "contact      0\n",
       "day          0\n",
       "month        0\n",
       "duration     0\n",
       "campaign     0\n",
       "pdays        0\n",
       "previous     0\n",
       "poutcome     0\n",
       "y            0\n",
       "dtype: int64"
      ]
     },
     "execution_count": 7,
     "metadata": {},
     "output_type": "execute_result"
    }
   ],
   "source": [
    "# to see is there any null values in the dataframe\n",
    "df.isnull().sum()"
   ]
  },
  {
   "cell_type": "code",
   "execution_count": 8,
   "id": "ce3b7c8e",
   "metadata": {},
   "outputs": [
    {
     "data": {
      "text/html": [
       "<div>\n",
       "<style scoped>\n",
       "    .dataframe tbody tr th:only-of-type {\n",
       "        vertical-align: middle;\n",
       "    }\n",
       "\n",
       "    .dataframe tbody tr th {\n",
       "        vertical-align: top;\n",
       "    }\n",
       "\n",
       "    .dataframe thead th {\n",
       "        text-align: right;\n",
       "    }\n",
       "</style>\n",
       "<table border=\"1\" class=\"dataframe\">\n",
       "  <thead>\n",
       "    <tr style=\"text-align: right;\">\n",
       "      <th></th>\n",
       "      <th>age</th>\n",
       "      <th>balance</th>\n",
       "      <th>day</th>\n",
       "      <th>duration</th>\n",
       "      <th>campaign</th>\n",
       "      <th>pdays</th>\n",
       "      <th>previous</th>\n",
       "    </tr>\n",
       "  </thead>\n",
       "  <tbody>\n",
       "    <tr>\n",
       "      <th>count</th>\n",
       "      <td>45211.000000</td>\n",
       "      <td>45211.000000</td>\n",
       "      <td>45211.000000</td>\n",
       "      <td>45211.000000</td>\n",
       "      <td>45211.000000</td>\n",
       "      <td>45211.000000</td>\n",
       "      <td>45211.000000</td>\n",
       "    </tr>\n",
       "    <tr>\n",
       "      <th>mean</th>\n",
       "      <td>40.936210</td>\n",
       "      <td>1362.272058</td>\n",
       "      <td>15.806419</td>\n",
       "      <td>258.163080</td>\n",
       "      <td>2.763841</td>\n",
       "      <td>40.197828</td>\n",
       "      <td>0.580323</td>\n",
       "    </tr>\n",
       "    <tr>\n",
       "      <th>std</th>\n",
       "      <td>10.618762</td>\n",
       "      <td>3044.765829</td>\n",
       "      <td>8.322476</td>\n",
       "      <td>257.527812</td>\n",
       "      <td>3.098021</td>\n",
       "      <td>100.128746</td>\n",
       "      <td>2.303441</td>\n",
       "    </tr>\n",
       "    <tr>\n",
       "      <th>min</th>\n",
       "      <td>18.000000</td>\n",
       "      <td>-8019.000000</td>\n",
       "      <td>1.000000</td>\n",
       "      <td>0.000000</td>\n",
       "      <td>1.000000</td>\n",
       "      <td>-1.000000</td>\n",
       "      <td>0.000000</td>\n",
       "    </tr>\n",
       "    <tr>\n",
       "      <th>25%</th>\n",
       "      <td>33.000000</td>\n",
       "      <td>72.000000</td>\n",
       "      <td>8.000000</td>\n",
       "      <td>103.000000</td>\n",
       "      <td>1.000000</td>\n",
       "      <td>-1.000000</td>\n",
       "      <td>0.000000</td>\n",
       "    </tr>\n",
       "    <tr>\n",
       "      <th>50%</th>\n",
       "      <td>39.000000</td>\n",
       "      <td>448.000000</td>\n",
       "      <td>16.000000</td>\n",
       "      <td>180.000000</td>\n",
       "      <td>2.000000</td>\n",
       "      <td>-1.000000</td>\n",
       "      <td>0.000000</td>\n",
       "    </tr>\n",
       "    <tr>\n",
       "      <th>75%</th>\n",
       "      <td>48.000000</td>\n",
       "      <td>1428.000000</td>\n",
       "      <td>21.000000</td>\n",
       "      <td>319.000000</td>\n",
       "      <td>3.000000</td>\n",
       "      <td>-1.000000</td>\n",
       "      <td>0.000000</td>\n",
       "    </tr>\n",
       "    <tr>\n",
       "      <th>max</th>\n",
       "      <td>95.000000</td>\n",
       "      <td>102127.000000</td>\n",
       "      <td>31.000000</td>\n",
       "      <td>4918.000000</td>\n",
       "      <td>63.000000</td>\n",
       "      <td>871.000000</td>\n",
       "      <td>275.000000</td>\n",
       "    </tr>\n",
       "  </tbody>\n",
       "</table>\n",
       "</div>"
      ],
      "text/plain": [
       "                age        balance           day      duration      campaign  \\\n",
       "count  45211.000000   45211.000000  45211.000000  45211.000000  45211.000000   \n",
       "mean      40.936210    1362.272058     15.806419    258.163080      2.763841   \n",
       "std       10.618762    3044.765829      8.322476    257.527812      3.098021   \n",
       "min       18.000000   -8019.000000      1.000000      0.000000      1.000000   \n",
       "25%       33.000000      72.000000      8.000000    103.000000      1.000000   \n",
       "50%       39.000000     448.000000     16.000000    180.000000      2.000000   \n",
       "75%       48.000000    1428.000000     21.000000    319.000000      3.000000   \n",
       "max       95.000000  102127.000000     31.000000   4918.000000     63.000000   \n",
       "\n",
       "              pdays      previous  \n",
       "count  45211.000000  45211.000000  \n",
       "mean      40.197828      0.580323  \n",
       "std      100.128746      2.303441  \n",
       "min       -1.000000      0.000000  \n",
       "25%       -1.000000      0.000000  \n",
       "50%       -1.000000      0.000000  \n",
       "75%       -1.000000      0.000000  \n",
       "max      871.000000    275.000000  "
      ]
     },
     "execution_count": 8,
     "metadata": {},
     "output_type": "execute_result"
    }
   ],
   "source": [
    "# to see the statistical patameters \n",
    "df.describe()"
   ]
  },
  {
   "cell_type": "code",
   "execution_count": 9,
   "id": "cc81aa98",
   "metadata": {},
   "outputs": [
    {
     "name": "stdout",
     "output_type": "stream",
     "text": [
      "<class 'pandas.core.frame.DataFrame'>\n",
      "RangeIndex: 45211 entries, 0 to 45210\n",
      "Data columns (total 17 columns):\n",
      " #   Column     Non-Null Count  Dtype \n",
      "---  ------     --------------  ----- \n",
      " 0   age        45211 non-null  int64 \n",
      " 1   job        45211 non-null  object\n",
      " 2   marital    45211 non-null  object\n",
      " 3   education  45211 non-null  object\n",
      " 4   default    45211 non-null  object\n",
      " 5   balance    45211 non-null  int64 \n",
      " 6   housing    45211 non-null  object\n",
      " 7   loan       45211 non-null  object\n",
      " 8   contact    45211 non-null  object\n",
      " 9   day        45211 non-null  int64 \n",
      " 10  month      45211 non-null  object\n",
      " 11  duration   45211 non-null  int64 \n",
      " 12  campaign   45211 non-null  int64 \n",
      " 13  pdays      45211 non-null  int64 \n",
      " 14  previous   45211 non-null  int64 \n",
      " 15  poutcome   45211 non-null  object\n",
      " 16  y          45211 non-null  object\n",
      "dtypes: int64(7), object(10)\n",
      "memory usage: 5.9+ MB\n"
     ]
    }
   ],
   "source": [
    "# to get the basic information about the dataset\n",
    "df.info()"
   ]
  },
  {
   "cell_type": "code",
   "execution_count": 10,
   "id": "55b9a2b6",
   "metadata": {
    "scrolled": true
   },
   "outputs": [
    {
     "data": {
      "text/plain": [
       "no     44396\n",
       "yes      815\n",
       "Name: default, dtype: int64"
      ]
     },
     "execution_count": 10,
     "metadata": {},
     "output_type": "execute_result"
    }
   ],
   "source": [
    "df['default'].value_counts()"
   ]
  },
  {
   "cell_type": "code",
   "execution_count": 11,
   "id": "380adc5d",
   "metadata": {
    "scrolled": true
   },
   "outputs": [
    {
     "data": {
      "text/plain": [
       "yes    25130\n",
       "no     20081\n",
       "Name: housing, dtype: int64"
      ]
     },
     "execution_count": 11,
     "metadata": {},
     "output_type": "execute_result"
    }
   ],
   "source": [
    "df['housing'].value_counts()"
   ]
  },
  {
   "cell_type": "code",
   "execution_count": 12,
   "id": "6df40e9c",
   "metadata": {
    "scrolled": true
   },
   "outputs": [
    {
     "data": {
      "text/plain": [
       "no     37967\n",
       "yes     7244\n",
       "Name: loan, dtype: int64"
      ]
     },
     "execution_count": 12,
     "metadata": {},
     "output_type": "execute_result"
    }
   ],
   "source": [
    "df['loan'].value_counts()"
   ]
  },
  {
   "cell_type": "code",
   "execution_count": 13,
   "id": "dd40862b",
   "metadata": {
    "scrolled": true
   },
   "outputs": [
    {
     "data": {
      "text/plain": [
       "no     39922\n",
       "yes     5289\n",
       "Name: y, dtype: int64"
      ]
     },
     "execution_count": 13,
     "metadata": {},
     "output_type": "execute_result"
    }
   ],
   "source": [
    "df['y'].value_counts()"
   ]
  },
  {
   "cell_type": "markdown",
   "id": "6df8995e",
   "metadata": {},
   "source": [
    "##### Customizing Hot Encoding (get_dummies) to the  data"
   ]
  },
  {
   "cell_type": "code",
   "execution_count": 14,
   "id": "69d46a36",
   "metadata": {},
   "outputs": [
    {
     "data": {
      "text/html": [
       "<div>\n",
       "<style scoped>\n",
       "    .dataframe tbody tr th:only-of-type {\n",
       "        vertical-align: middle;\n",
       "    }\n",
       "\n",
       "    .dataframe tbody tr th {\n",
       "        vertical-align: top;\n",
       "    }\n",
       "\n",
       "    .dataframe thead th {\n",
       "        text-align: right;\n",
       "    }\n",
       "</style>\n",
       "<table border=\"1\" class=\"dataframe\">\n",
       "  <thead>\n",
       "    <tr style=\"text-align: right;\">\n",
       "      <th></th>\n",
       "      <th>age</th>\n",
       "      <th>default</th>\n",
       "      <th>balance</th>\n",
       "      <th>housing</th>\n",
       "      <th>loan</th>\n",
       "      <th>day</th>\n",
       "      <th>duration</th>\n",
       "      <th>campaign</th>\n",
       "      <th>pdays</th>\n",
       "      <th>previous</th>\n",
       "      <th>...</th>\n",
       "      <th>month_jun</th>\n",
       "      <th>month_mar</th>\n",
       "      <th>month_may</th>\n",
       "      <th>month_nov</th>\n",
       "      <th>month_oct</th>\n",
       "      <th>month_sep</th>\n",
       "      <th>poutcome_failure</th>\n",
       "      <th>poutcome_other</th>\n",
       "      <th>poutcome_success</th>\n",
       "      <th>poutcome_unknown</th>\n",
       "    </tr>\n",
       "  </thead>\n",
       "  <tbody>\n",
       "    <tr>\n",
       "      <th>0</th>\n",
       "      <td>58</td>\n",
       "      <td>no</td>\n",
       "      <td>2143</td>\n",
       "      <td>yes</td>\n",
       "      <td>no</td>\n",
       "      <td>5</td>\n",
       "      <td>261</td>\n",
       "      <td>1</td>\n",
       "      <td>-1</td>\n",
       "      <td>0</td>\n",
       "      <td>...</td>\n",
       "      <td>0</td>\n",
       "      <td>0</td>\n",
       "      <td>1</td>\n",
       "      <td>0</td>\n",
       "      <td>0</td>\n",
       "      <td>0</td>\n",
       "      <td>0</td>\n",
       "      <td>0</td>\n",
       "      <td>0</td>\n",
       "      <td>1</td>\n",
       "    </tr>\n",
       "    <tr>\n",
       "      <th>1</th>\n",
       "      <td>44</td>\n",
       "      <td>no</td>\n",
       "      <td>29</td>\n",
       "      <td>yes</td>\n",
       "      <td>no</td>\n",
       "      <td>5</td>\n",
       "      <td>151</td>\n",
       "      <td>1</td>\n",
       "      <td>-1</td>\n",
       "      <td>0</td>\n",
       "      <td>...</td>\n",
       "      <td>0</td>\n",
       "      <td>0</td>\n",
       "      <td>1</td>\n",
       "      <td>0</td>\n",
       "      <td>0</td>\n",
       "      <td>0</td>\n",
       "      <td>0</td>\n",
       "      <td>0</td>\n",
       "      <td>0</td>\n",
       "      <td>1</td>\n",
       "    </tr>\n",
       "    <tr>\n",
       "      <th>2</th>\n",
       "      <td>33</td>\n",
       "      <td>no</td>\n",
       "      <td>2</td>\n",
       "      <td>yes</td>\n",
       "      <td>yes</td>\n",
       "      <td>5</td>\n",
       "      <td>76</td>\n",
       "      <td>1</td>\n",
       "      <td>-1</td>\n",
       "      <td>0</td>\n",
       "      <td>...</td>\n",
       "      <td>0</td>\n",
       "      <td>0</td>\n",
       "      <td>1</td>\n",
       "      <td>0</td>\n",
       "      <td>0</td>\n",
       "      <td>0</td>\n",
       "      <td>0</td>\n",
       "      <td>0</td>\n",
       "      <td>0</td>\n",
       "      <td>1</td>\n",
       "    </tr>\n",
       "    <tr>\n",
       "      <th>3</th>\n",
       "      <td>47</td>\n",
       "      <td>no</td>\n",
       "      <td>1506</td>\n",
       "      <td>yes</td>\n",
       "      <td>no</td>\n",
       "      <td>5</td>\n",
       "      <td>92</td>\n",
       "      <td>1</td>\n",
       "      <td>-1</td>\n",
       "      <td>0</td>\n",
       "      <td>...</td>\n",
       "      <td>0</td>\n",
       "      <td>0</td>\n",
       "      <td>1</td>\n",
       "      <td>0</td>\n",
       "      <td>0</td>\n",
       "      <td>0</td>\n",
       "      <td>0</td>\n",
       "      <td>0</td>\n",
       "      <td>0</td>\n",
       "      <td>1</td>\n",
       "    </tr>\n",
       "    <tr>\n",
       "      <th>4</th>\n",
       "      <td>33</td>\n",
       "      <td>no</td>\n",
       "      <td>1</td>\n",
       "      <td>no</td>\n",
       "      <td>no</td>\n",
       "      <td>5</td>\n",
       "      <td>198</td>\n",
       "      <td>1</td>\n",
       "      <td>-1</td>\n",
       "      <td>0</td>\n",
       "      <td>...</td>\n",
       "      <td>0</td>\n",
       "      <td>0</td>\n",
       "      <td>1</td>\n",
       "      <td>0</td>\n",
       "      <td>0</td>\n",
       "      <td>0</td>\n",
       "      <td>0</td>\n",
       "      <td>0</td>\n",
       "      <td>0</td>\n",
       "      <td>1</td>\n",
       "    </tr>\n",
       "  </tbody>\n",
       "</table>\n",
       "<p>5 rows × 49 columns</p>\n",
       "</div>"
      ],
      "text/plain": [
       "   age default  balance housing loan  day  duration  campaign  pdays  \\\n",
       "0   58      no     2143     yes   no    5       261         1     -1   \n",
       "1   44      no       29     yes   no    5       151         1     -1   \n",
       "2   33      no        2     yes  yes    5        76         1     -1   \n",
       "3   47      no     1506     yes   no    5        92         1     -1   \n",
       "4   33      no        1      no   no    5       198         1     -1   \n",
       "\n",
       "   previous  ... month_jun  month_mar  month_may  month_nov  month_oct  \\\n",
       "0         0  ...         0          0          1          0          0   \n",
       "1         0  ...         0          0          1          0          0   \n",
       "2         0  ...         0          0          1          0          0   \n",
       "3         0  ...         0          0          1          0          0   \n",
       "4         0  ...         0          0          1          0          0   \n",
       "\n",
       "   month_sep  poutcome_failure  poutcome_other  poutcome_success  \\\n",
       "0          0                 0               0                 0   \n",
       "1          0                 0               0                 0   \n",
       "2          0                 0               0                 0   \n",
       "3          0                 0               0                 0   \n",
       "4          0                 0               0                 0   \n",
       "\n",
       "   poutcome_unknown  \n",
       "0                 1  \n",
       "1                 1  \n",
       "2                 1  \n",
       "3                 1  \n",
       "4                 1  \n",
       "\n",
       "[5 rows x 49 columns]"
      ]
     },
     "execution_count": 14,
     "metadata": {},
     "output_type": "execute_result"
    }
   ],
   "source": [
    "# one hot encoding used to change the chategorical column to the numerical column by making every variable a column\n",
    "df1=pd.get_dummies(df,columns=['job','marital','education','contact','month','poutcome'])\n",
    "# here the default,housing, loan and y columns not taken because they got only two values yes and no\n",
    "df1.head()"
   ]
  },
  {
   "cell_type": "code",
   "execution_count": 15,
   "id": "5e37f865",
   "metadata": {},
   "outputs": [
    {
     "name": "stdout",
     "output_type": "stream",
     "text": [
      "<class 'pandas.core.frame.DataFrame'>\n",
      "RangeIndex: 45211 entries, 0 to 45210\n",
      "Data columns (total 49 columns):\n",
      " #   Column               Non-Null Count  Dtype \n",
      "---  ------               --------------  ----- \n",
      " 0   age                  45211 non-null  int64 \n",
      " 1   default              45211 non-null  object\n",
      " 2   balance              45211 non-null  int64 \n",
      " 3   housing              45211 non-null  object\n",
      " 4   loan                 45211 non-null  object\n",
      " 5   day                  45211 non-null  int64 \n",
      " 6   duration             45211 non-null  int64 \n",
      " 7   campaign             45211 non-null  int64 \n",
      " 8   pdays                45211 non-null  int64 \n",
      " 9   previous             45211 non-null  int64 \n",
      " 10  y                    45211 non-null  object\n",
      " 11  job_admin.           45211 non-null  uint8 \n",
      " 12  job_blue-collar      45211 non-null  uint8 \n",
      " 13  job_entrepreneur     45211 non-null  uint8 \n",
      " 14  job_housemaid        45211 non-null  uint8 \n",
      " 15  job_management       45211 non-null  uint8 \n",
      " 16  job_retired          45211 non-null  uint8 \n",
      " 17  job_self-employed    45211 non-null  uint8 \n",
      " 18  job_services         45211 non-null  uint8 \n",
      " 19  job_student          45211 non-null  uint8 \n",
      " 20  job_technician       45211 non-null  uint8 \n",
      " 21  job_unemployed       45211 non-null  uint8 \n",
      " 22  job_unknown          45211 non-null  uint8 \n",
      " 23  marital_divorced     45211 non-null  uint8 \n",
      " 24  marital_married      45211 non-null  uint8 \n",
      " 25  marital_single       45211 non-null  uint8 \n",
      " 26  education_primary    45211 non-null  uint8 \n",
      " 27  education_secondary  45211 non-null  uint8 \n",
      " 28  education_tertiary   45211 non-null  uint8 \n",
      " 29  education_unknown    45211 non-null  uint8 \n",
      " 30  contact_cellular     45211 non-null  uint8 \n",
      " 31  contact_telephone    45211 non-null  uint8 \n",
      " 32  contact_unknown      45211 non-null  uint8 \n",
      " 33  month_apr            45211 non-null  uint8 \n",
      " 34  month_aug            45211 non-null  uint8 \n",
      " 35  month_dec            45211 non-null  uint8 \n",
      " 36  month_feb            45211 non-null  uint8 \n",
      " 37  month_jan            45211 non-null  uint8 \n",
      " 38  month_jul            45211 non-null  uint8 \n",
      " 39  month_jun            45211 non-null  uint8 \n",
      " 40  month_mar            45211 non-null  uint8 \n",
      " 41  month_may            45211 non-null  uint8 \n",
      " 42  month_nov            45211 non-null  uint8 \n",
      " 43  month_oct            45211 non-null  uint8 \n",
      " 44  month_sep            45211 non-null  uint8 \n",
      " 45  poutcome_failure     45211 non-null  uint8 \n",
      " 46  poutcome_other       45211 non-null  uint8 \n",
      " 47  poutcome_success     45211 non-null  uint8 \n",
      " 48  poutcome_unknown     45211 non-null  uint8 \n",
      "dtypes: int64(7), object(4), uint8(38)\n",
      "memory usage: 5.4+ MB\n"
     ]
    }
   ],
   "source": [
    "# to see the datatypes and other info about new data\n",
    "df1.info()"
   ]
  },
  {
   "cell_type": "markdown",
   "id": "dcae9ce1",
   "metadata": {},
   "source": [
    "##### Customizing binary encoding to data ( for yes and no type data columns)"
   ]
  },
  {
   "cell_type": "code",
   "execution_count": 16,
   "id": "4b9399bd",
   "metadata": {},
   "outputs": [
    {
     "data": {
      "text/html": [
       "<div>\n",
       "<style scoped>\n",
       "    .dataframe tbody tr th:only-of-type {\n",
       "        vertical-align: middle;\n",
       "    }\n",
       "\n",
       "    .dataframe tbody tr th {\n",
       "        vertical-align: top;\n",
       "    }\n",
       "\n",
       "    .dataframe thead th {\n",
       "        text-align: right;\n",
       "    }\n",
       "</style>\n",
       "<table border=\"1\" class=\"dataframe\">\n",
       "  <thead>\n",
       "    <tr style=\"text-align: right;\">\n",
       "      <th></th>\n",
       "      <th>age</th>\n",
       "      <th>default</th>\n",
       "      <th>balance</th>\n",
       "      <th>housing</th>\n",
       "      <th>loan</th>\n",
       "      <th>day</th>\n",
       "      <th>duration</th>\n",
       "      <th>campaign</th>\n",
       "      <th>pdays</th>\n",
       "      <th>previous</th>\n",
       "      <th>...</th>\n",
       "      <th>month_jun</th>\n",
       "      <th>month_mar</th>\n",
       "      <th>month_may</th>\n",
       "      <th>month_nov</th>\n",
       "      <th>month_oct</th>\n",
       "      <th>month_sep</th>\n",
       "      <th>poutcome_failure</th>\n",
       "      <th>poutcome_other</th>\n",
       "      <th>poutcome_success</th>\n",
       "      <th>poutcome_unknown</th>\n",
       "    </tr>\n",
       "  </thead>\n",
       "  <tbody>\n",
       "    <tr>\n",
       "      <th>0</th>\n",
       "      <td>58</td>\n",
       "      <td>0</td>\n",
       "      <td>2143</td>\n",
       "      <td>1</td>\n",
       "      <td>0</td>\n",
       "      <td>5</td>\n",
       "      <td>261</td>\n",
       "      <td>1</td>\n",
       "      <td>-1</td>\n",
       "      <td>0</td>\n",
       "      <td>...</td>\n",
       "      <td>0</td>\n",
       "      <td>0</td>\n",
       "      <td>1</td>\n",
       "      <td>0</td>\n",
       "      <td>0</td>\n",
       "      <td>0</td>\n",
       "      <td>0</td>\n",
       "      <td>0</td>\n",
       "      <td>0</td>\n",
       "      <td>1</td>\n",
       "    </tr>\n",
       "    <tr>\n",
       "      <th>1</th>\n",
       "      <td>44</td>\n",
       "      <td>0</td>\n",
       "      <td>29</td>\n",
       "      <td>1</td>\n",
       "      <td>0</td>\n",
       "      <td>5</td>\n",
       "      <td>151</td>\n",
       "      <td>1</td>\n",
       "      <td>-1</td>\n",
       "      <td>0</td>\n",
       "      <td>...</td>\n",
       "      <td>0</td>\n",
       "      <td>0</td>\n",
       "      <td>1</td>\n",
       "      <td>0</td>\n",
       "      <td>0</td>\n",
       "      <td>0</td>\n",
       "      <td>0</td>\n",
       "      <td>0</td>\n",
       "      <td>0</td>\n",
       "      <td>1</td>\n",
       "    </tr>\n",
       "    <tr>\n",
       "      <th>2</th>\n",
       "      <td>33</td>\n",
       "      <td>0</td>\n",
       "      <td>2</td>\n",
       "      <td>1</td>\n",
       "      <td>1</td>\n",
       "      <td>5</td>\n",
       "      <td>76</td>\n",
       "      <td>1</td>\n",
       "      <td>-1</td>\n",
       "      <td>0</td>\n",
       "      <td>...</td>\n",
       "      <td>0</td>\n",
       "      <td>0</td>\n",
       "      <td>1</td>\n",
       "      <td>0</td>\n",
       "      <td>0</td>\n",
       "      <td>0</td>\n",
       "      <td>0</td>\n",
       "      <td>0</td>\n",
       "      <td>0</td>\n",
       "      <td>1</td>\n",
       "    </tr>\n",
       "    <tr>\n",
       "      <th>3</th>\n",
       "      <td>47</td>\n",
       "      <td>0</td>\n",
       "      <td>1506</td>\n",
       "      <td>1</td>\n",
       "      <td>0</td>\n",
       "      <td>5</td>\n",
       "      <td>92</td>\n",
       "      <td>1</td>\n",
       "      <td>-1</td>\n",
       "      <td>0</td>\n",
       "      <td>...</td>\n",
       "      <td>0</td>\n",
       "      <td>0</td>\n",
       "      <td>1</td>\n",
       "      <td>0</td>\n",
       "      <td>0</td>\n",
       "      <td>0</td>\n",
       "      <td>0</td>\n",
       "      <td>0</td>\n",
       "      <td>0</td>\n",
       "      <td>1</td>\n",
       "    </tr>\n",
       "    <tr>\n",
       "      <th>4</th>\n",
       "      <td>33</td>\n",
       "      <td>0</td>\n",
       "      <td>1</td>\n",
       "      <td>0</td>\n",
       "      <td>0</td>\n",
       "      <td>5</td>\n",
       "      <td>198</td>\n",
       "      <td>1</td>\n",
       "      <td>-1</td>\n",
       "      <td>0</td>\n",
       "      <td>...</td>\n",
       "      <td>0</td>\n",
       "      <td>0</td>\n",
       "      <td>1</td>\n",
       "      <td>0</td>\n",
       "      <td>0</td>\n",
       "      <td>0</td>\n",
       "      <td>0</td>\n",
       "      <td>0</td>\n",
       "      <td>0</td>\n",
       "      <td>1</td>\n",
       "    </tr>\n",
       "  </tbody>\n",
       "</table>\n",
       "<p>5 rows × 49 columns</p>\n",
       "</div>"
      ],
      "text/plain": [
       "   age  default  balance  housing  loan  day  duration  campaign  pdays  \\\n",
       "0   58        0     2143        1     0    5       261         1     -1   \n",
       "1   44        0       29        1     0    5       151         1     -1   \n",
       "2   33        0        2        1     1    5        76         1     -1   \n",
       "3   47        0     1506        1     0    5        92         1     -1   \n",
       "4   33        0        1        0     0    5       198         1     -1   \n",
       "\n",
       "   previous  ...  month_jun  month_mar  month_may  month_nov  month_oct  \\\n",
       "0         0  ...          0          0          1          0          0   \n",
       "1         0  ...          0          0          1          0          0   \n",
       "2         0  ...          0          0          1          0          0   \n",
       "3         0  ...          0          0          1          0          0   \n",
       "4         0  ...          0          0          1          0          0   \n",
       "\n",
       "   month_sep  poutcome_failure  poutcome_other  poutcome_success  \\\n",
       "0          0                 0               0                 0   \n",
       "1          0                 0               0                 0   \n",
       "2          0                 0               0                 0   \n",
       "3          0                 0               0                 0   \n",
       "4          0                 0               0                 0   \n",
       "\n",
       "   poutcome_unknown  \n",
       "0                 1  \n",
       "1                 1  \n",
       "2                 1  \n",
       "3                 1  \n",
       "4                 1  \n",
       "\n",
       "[5 rows x 49 columns]"
      ]
     },
     "execution_count": 16,
     "metadata": {},
     "output_type": "execute_result"
    }
   ],
   "source": [
    "df1['default'] = np.where(df1['default'].str.contains(\"yes\"), 1, 0) \n",
    "#converts the values in the 'default' column of d1 into binary values:\n",
    "#1 if the original value contained \"yes\" and 0 if it didn't\n",
    "df1['housing'] = np.where(df1['housing'].str.contains(\"yes\"), 1, 0)\n",
    "df1['loan'] = np.where(df1['loan'].str.contains(\"yes\"), 1, 0)\n",
    "df1['y'] = np.where(df1['y'].str.contains(\"yes\"), 1, 0)\n",
    "df1.head()"
   ]
  },
  {
   "cell_type": "markdown",
   "id": "a52ec84c",
   "metadata": {},
   "source": [
    "# Visualization"
   ]
  },
  {
   "cell_type": "code",
   "execution_count": 17,
   "id": "fc78caa0",
   "metadata": {},
   "outputs": [
    {
     "data": {
      "image/png": "[encoded data removed]",
      "text/plain": [
       "<Figure size 640x480 with 2 Axes>"
      ]
     },
     "metadata": {},
     "output_type": "display_data"
    }
   ],
   "source": [
    "# heatmap\n",
    "sns.heatmap(df1.corr())\n",
    "plt.show()"
   ]
  },
  {
   "cell_type": "markdown",
   "id": "35fe4ebc",
   "metadata": {},
   "source": [
    "# Building Model"
   ]
  },
  {
   "cell_type": "markdown",
   "id": "b97a7870",
   "metadata": {},
   "source": [
    "### Splitting input variables and output variables"
   ]
  },
  {
   "cell_type": "code",
   "execution_count": 18,
   "id": "f6052f5e",
   "metadata": {},
   "outputs": [
    {
     "data": {
      "text/plain": [
       "Index(['age', 'default', 'balance', 'housing', 'loan', 'day', 'duration',\n",
       "       'campaign', 'pdays', 'previous', 'y', 'job_admin.', 'job_blue-collar',\n",
       "       'job_entrepreneur', 'job_housemaid', 'job_management', 'job_retired',\n",
       "       'job_self-employed', 'job_services', 'job_student', 'job_technician',\n",
       "       'job_unemployed', 'job_unknown', 'marital_divorced', 'marital_married',\n",
       "       'marital_single', 'education_primary', 'education_secondary',\n",
       "       'education_tertiary', 'education_unknown', 'contact_cellular',\n",
       "       'contact_telephone', 'contact_unknown', 'month_apr', 'month_aug',\n",
       "       'month_dec', 'month_feb', 'month_jan', 'month_jul', 'month_jun',\n",
       "       'month_mar', 'month_may', 'month_nov', 'month_oct', 'month_sep',\n",
       "       'poutcome_failure', 'poutcome_other', 'poutcome_success',\n",
       "       'poutcome_unknown'],\n",
       "      dtype='object')"
      ]
     },
     "execution_count": 18,
     "metadata": {},
     "output_type": "execute_result"
    }
   ],
   "source": [
    "# to check the y column location for further use\n",
    "df1.columns "
   ]
  },
  {
   "cell_type": "code",
   "execution_count": 19,
   "id": "411aab03",
   "metadata": {},
   "outputs": [],
   "source": [
    "# as wee can see that the y is at 11th position which means 10th index column"
   ]
  },
  {
   "cell_type": "code",
   "execution_count": 20,
   "id": "fcbe7acf",
   "metadata": {},
   "outputs": [
    {
     "name": "stdout",
     "output_type": "stream",
     "text": [
      "<class 'pandas.core.frame.DataFrame'>\n",
      "RangeIndex: 45211 entries, 0 to 45210\n",
      "Data columns (total 47 columns):\n",
      " #   Column               Non-Null Count  Dtype\n",
      "---  ------               --------------  -----\n",
      " 0   age                  45211 non-null  int64\n",
      " 1   default              45211 non-null  int32\n",
      " 2   balance              45211 non-null  int64\n",
      " 3   housing              45211 non-null  int32\n",
      " 4   loan                 45211 non-null  int32\n",
      " 5   day                  45211 non-null  int64\n",
      " 6   duration             45211 non-null  int64\n",
      " 7   campaign             45211 non-null  int64\n",
      " 8   pdays                45211 non-null  int64\n",
      " 9   previous             45211 non-null  int64\n",
      " 10  job_admin.           45211 non-null  uint8\n",
      " 11  job_blue-collar      45211 non-null  uint8\n",
      " 12  job_entrepreneur     45211 non-null  uint8\n",
      " 13  job_housemaid        45211 non-null  uint8\n",
      " 14  job_management       45211 non-null  uint8\n",
      " 15  job_retired          45211 non-null  uint8\n",
      " 16  job_self-employed    45211 non-null  uint8\n",
      " 17  job_services         45211 non-null  uint8\n",
      " 18  job_student          45211 non-null  uint8\n",
      " 19  job_technician       45211 non-null  uint8\n",
      " 20  job_unemployed       45211 non-null  uint8\n",
      " 21  job_unknown          45211 non-null  uint8\n",
      " 22  marital_divorced     45211 non-null  uint8\n",
      " 23  marital_married      45211 non-null  uint8\n",
      " 24  marital_single       45211 non-null  uint8\n",
      " 25  education_primary    45211 non-null  uint8\n",
      " 26  education_secondary  45211 non-null  uint8\n",
      " 27  education_tertiary   45211 non-null  uint8\n",
      " 28  education_unknown    45211 non-null  uint8\n",
      " 29  contact_cellular     45211 non-null  uint8\n",
      " 30  contact_telephone    45211 non-null  uint8\n",
      " 31  contact_unknown      45211 non-null  uint8\n",
      " 32  month_apr            45211 non-null  uint8\n",
      " 33  month_aug            45211 non-null  uint8\n",
      " 34  month_dec            45211 non-null  uint8\n",
      " 35  month_feb            45211 non-null  uint8\n",
      " 36  month_jan            45211 non-null  uint8\n",
      " 37  month_jul            45211 non-null  uint8\n",
      " 38  month_jun            45211 non-null  uint8\n",
      " 39  month_mar            45211 non-null  uint8\n",
      " 40  month_may            45211 non-null  uint8\n",
      " 41  month_nov            45211 non-null  uint8\n",
      " 42  month_oct            45211 non-null  uint8\n",
      " 43  month_sep            45211 non-null  uint8\n",
      " 44  poutcome_failure     45211 non-null  uint8\n",
      " 45  poutcome_other       45211 non-null  uint8\n",
      " 46  poutcome_success     45211 non-null  uint8\n",
      "dtypes: int32(3), int64(7), uint8(37)\n",
      "memory usage: 4.5 MB\n"
     ]
    }
   ],
   "source": [
    "# giving the data without including the 10th column\n",
    "X=pd.concat([df1.iloc[:,0:10],df1.iloc[:,11:-1]],axis=1)\n",
    "# we can also use X=df1.drop('y',axis=1)\n",
    "X.info()"
   ]
  },
  {
   "cell_type": "code",
   "execution_count": 21,
   "id": "8f4a1274",
   "metadata": {},
   "outputs": [
    {
     "name": "stdout",
     "output_type": "stream",
     "text": [
      "<class 'pandas.core.series.Series'>\n",
      "RangeIndex: 45211 entries, 0 to 45210\n",
      "Series name: y\n",
      "Non-Null Count  Dtype\n",
      "--------------  -----\n",
      "45211 non-null  int32\n",
      "dtypes: int32(1)\n",
      "memory usage: 176.7 KB\n"
     ]
    }
   ],
   "source": [
    "# giving the output column that is y to the Y variable\n",
    "Y=df1.iloc[:,10]\n",
    "# we can also use Y=df1.y\n",
    "Y.info()"
   ]
  },
  {
   "cell_type": "markdown",
   "id": "d45aac4a",
   "metadata": {},
   "source": [
    "##### Splitting Data into train test by train test split"
   ]
  },
  {
   "cell_type": "code",
   "execution_count": 22,
   "id": "abf232bb",
   "metadata": {},
   "outputs": [],
   "source": [
    "#deviding data for training and testing by train test split\n",
    "Xtrain,Xtest,ytrain,ytest=train_test_split(X,Y,test_size=0.30,shuffle=True)"
   ]
  },
  {
   "cell_type": "code",
   "execution_count": 23,
   "id": "ad18c3da",
   "metadata": {},
   "outputs": [],
   "source": [
    "# defining the model\n",
    "model = LogisticRegression()"
   ]
  },
  {
   "cell_type": "code",
   "execution_count": 24,
   "id": "22faae4f",
   "metadata": {},
   "outputs": [],
   "source": [
    "model = model.fit(Xtrain,ytrain)"
   ]
  },
  {
   "cell_type": "markdown",
   "id": "3dc26e83",
   "metadata": {},
   "source": [
    "# Checking the Model Prediction"
   ]
  },
  {
   "cell_type": "markdown",
   "id": "78b28e59",
   "metadata": {},
   "source": [
    "#### Predicting xtest data value to the model"
   ]
  },
  {
   "cell_type": "code",
   "execution_count": 25,
   "id": "62142b95",
   "metadata": {},
   "outputs": [
    {
     "data": {
      "text/plain": [
       "array([0, 0, 0, ..., 0, 0, 0])"
      ]
     },
     "execution_count": 25,
     "metadata": {},
     "output_type": "execute_result"
    }
   ],
   "source": [
    "# to see the y values predicted by model\n",
    "y_predict=model.predict(Xtest)\n",
    "y_predict"
   ]
  },
  {
   "cell_type": "code",
   "execution_count": 26,
   "id": "e31d2163",
   "metadata": {},
   "outputs": [
    {
     "data": {
      "text/html": [
       "<div>\n",
       "<style scoped>\n",
       "    .dataframe tbody tr th:only-of-type {\n",
       "        vertical-align: middle;\n",
       "    }\n",
       "\n",
       "    .dataframe tbody tr th {\n",
       "        vertical-align: top;\n",
       "    }\n",
       "\n",
       "    .dataframe thead th {\n",
       "        text-align: right;\n",
       "    }\n",
       "</style>\n",
       "<table border=\"1\" class=\"dataframe\">\n",
       "  <thead>\n",
       "    <tr style=\"text-align: right;\">\n",
       "      <th></th>\n",
       "      <th>actual</th>\n",
       "      <th>predicted_prob</th>\n",
       "    </tr>\n",
       "  </thead>\n",
       "  <tbody>\n",
       "    <tr>\n",
       "      <th>44781</th>\n",
       "      <td>1</td>\n",
       "      <td>0</td>\n",
       "    </tr>\n",
       "    <tr>\n",
       "      <th>14730</th>\n",
       "      <td>1</td>\n",
       "      <td>0</td>\n",
       "    </tr>\n",
       "    <tr>\n",
       "      <th>40936</th>\n",
       "      <td>0</td>\n",
       "      <td>0</td>\n",
       "    </tr>\n",
       "    <tr>\n",
       "      <th>8597</th>\n",
       "      <td>0</td>\n",
       "      <td>0</td>\n",
       "    </tr>\n",
       "    <tr>\n",
       "      <th>21121</th>\n",
       "      <td>0</td>\n",
       "      <td>0</td>\n",
       "    </tr>\n",
       "    <tr>\n",
       "      <th>...</th>\n",
       "      <td>...</td>\n",
       "      <td>...</td>\n",
       "    </tr>\n",
       "    <tr>\n",
       "      <th>7919</th>\n",
       "      <td>0</td>\n",
       "      <td>0</td>\n",
       "    </tr>\n",
       "    <tr>\n",
       "      <th>37483</th>\n",
       "      <td>0</td>\n",
       "      <td>0</td>\n",
       "    </tr>\n",
       "    <tr>\n",
       "      <th>13488</th>\n",
       "      <td>0</td>\n",
       "      <td>0</td>\n",
       "    </tr>\n",
       "    <tr>\n",
       "      <th>30465</th>\n",
       "      <td>0</td>\n",
       "      <td>0</td>\n",
       "    </tr>\n",
       "    <tr>\n",
       "      <th>24515</th>\n",
       "      <td>0</td>\n",
       "      <td>0</td>\n",
       "    </tr>\n",
       "  </tbody>\n",
       "</table>\n",
       "<p>13564 rows × 2 columns</p>\n",
       "</div>"
      ],
      "text/plain": [
       "       actual  predicted_prob\n",
       "44781       1               0\n",
       "14730       1               0\n",
       "40936       0               0\n",
       "8597        0               0\n",
       "21121       0               0\n",
       "...       ...             ...\n",
       "7919        0               0\n",
       "37483       0               0\n",
       "13488       0               0\n",
       "30465       0               0\n",
       "24515       0               0\n",
       "\n",
       "[13564 rows x 2 columns]"
      ]
     },
     "execution_count": 26,
     "metadata": {},
     "output_type": "execute_result"
    }
   ],
   "source": [
    "# to dividing the values that are actual and predicted\n",
    "y_pred_df1= pd.DataFrame({'actual': ytest,\n",
    "                         'predicted_prob': model.predict(Xtest)})\n",
    "y_pred_df1"
   ]
  },
  {
   "cell_type": "markdown",
   "id": "4a9bf647",
   "metadata": {},
   "source": [
    "# Testing The Model"
   ]
  },
  {
   "cell_type": "code",
   "execution_count": 27,
   "id": "0fa4d891",
   "metadata": {},
   "outputs": [
    {
     "data": {
      "text/plain": [
       "0.892288410498378"
      ]
     },
     "execution_count": 27,
     "metadata": {},
     "output_type": "execute_result"
    }
   ],
   "source": [
    "# Checking accuracy of ytest actual vs ytest prediction\n",
    "accuracy_score(ytest,y_predict)"
   ]
  },
  {
   "cell_type": "markdown",
   "id": "475a054c",
   "metadata": {},
   "source": [
    "# inference\n",
    "The accuracy of 89.37% suggests that the model performs reasonably well in predicting the outcome variable. The error rate, which is equal to 1 minus the accuracy, would be approximately 10.63% (1 - 0.8937). This represents the proportion of instances that the model predicted incorrectly."
   ]
  },
  {
   "cell_type": "code",
   "execution_count": 28,
   "id": "01802dd5",
   "metadata": {},
   "outputs": [
    {
     "data": {
      "text/plain": [
       "array([[11805,   192],\n",
       "       [ 1269,   298]], dtype=int64)"
      ]
     },
     "execution_count": 28,
     "metadata": {},
     "output_type": "execute_result"
    }
   ],
   "source": [
    "# confusion matrix used to see the actual true and false with predicted true and false values\n",
    "confusion_matrix(ytest,y_predict)"
   ]
  },
  {
   "cell_type": "code",
   "execution_count": 29,
   "id": "16991f72",
   "metadata": {},
   "outputs": [
    {
     "data": {
      "image/png": "[encoded data removed]",
      "text/plain": [
       "<Figure size 800x400 with 2 Axes>"
      ]
     },
     "metadata": {},
     "output_type": "display_data"
    }
   ],
   "source": [
    "#Visualizing using Confusion Matrix\n",
    "cm=confusion_matrix(ytest,y_predict)\n",
    "plt.figure(figsize=(8,4))\n",
    "plt.title(\"Confusion Matrix\")\n",
    "sns.heatmap(cm, annot=True,fmt='d', cmap='magma_r')\n",
    "plt.ylabel(\"Actual Values\")\n",
    "plt.xlabel(\"Predicted Values\")\n",
    "plt.savefig('confusion_matrix.png')\n",
    "plt.show()"
   ]
  },
  {
   "cell_type": "code",
   "execution_count": 30,
   "id": "7659859f",
   "metadata": {},
   "outputs": [
    {
     "data": {
      "text/plain": [
       "0.892288410498378"
      ]
     },
     "execution_count": 30,
     "metadata": {},
     "output_type": "execute_result"
    }
   ],
   "source": [
    "model.score(Xtest,ytest)"
   ]
  },
  {
   "cell_type": "code",
   "execution_count": 31,
   "id": "0081d5a8",
   "metadata": {},
   "outputs": [
    {
     "name": "stdout",
     "output_type": "stream",
     "text": [
      "              precision    recall  f1-score   support\n",
      "\n",
      "           0       0.90      0.98      0.94     11997\n",
      "           1       0.61      0.19      0.29      1567\n",
      "\n",
      "    accuracy                           0.89     13564\n",
      "   macro avg       0.76      0.59      0.62     13564\n",
      "weighted avg       0.87      0.89      0.87     13564\n",
      "\n"
     ]
    }
   ],
   "source": [
    "# Classification report\n",
    "print(classification_report(ytest,y_predict))"
   ]
  },
  {
   "cell_type": "markdown",
   "id": "e5711105",
   "metadata": {},
   "source": [
    "# Inference\n",
    "as we can see that the prediction of 0 values precision is very high and recall is also high with the precision with 1 is decent one and as we can see for f1 score as well which is decent."
   ]
  },
  {
   "cell_type": "code",
   "execution_count": 32,
   "id": "4cdbe488",
   "metadata": {
    "scrolled": true
   },
   "outputs": [
    {
     "data": {
      "text/plain": [
       "array([[0.87746493, 0.12253507],\n",
       "       [0.63881301, 0.36118699],\n",
       "       [0.92634642, 0.07365358],\n",
       "       ...,\n",
       "       [0.96044797, 0.03955203],\n",
       "       [0.96171207, 0.03828793],\n",
       "       [0.88831478, 0.11168522]])"
      ]
     },
     "execution_count": 32,
     "metadata": {},
     "output_type": "execute_result"
    }
   ],
   "source": [
    "# to see the prediction probability\n",
    "model.predict_proba(Xtest)"
   ]
  },
  {
   "cell_type": "markdown",
   "id": "e3bfa90d",
   "metadata": {},
   "source": [
    "# Visualization"
   ]
  },
  {
   "cell_type": "code",
   "execution_count": 33,
   "id": "a1415f2e",
   "metadata": {},
   "outputs": [
    {
     "data": {
      "image/png": "[encoded data removed]",
      "text/plain": [
       "<Figure size 640x480 with 1 Axes>"
      ]
     },
     "metadata": {},
     "output_type": "display_data"
    },
    {
     "name": "stdout",
     "output_type": "stream",
     "text": [
      "auc accuracy: 0.5870841513824532\n"
     ]
    }
   ],
   "source": [
    "fpr,tpr,thresholds=roc_curve(Y,model.predict_proba(X)[:,1])\n",
    "plt.plot(fpr,tpr,color='blue')\n",
    "auc=roc_auc_score(ytest,y_predict)\n",
    "\n",
    "plt.plot(fpr,tpr,color='magenta',label='logit model(area  = %0.2f)'%auc)\n",
    "plt.plot([0,1],[0,1],'k--')\n",
    "plt.xlabel('False Positive Rate or [1 - True Negative Rate]')\n",
    "plt.ylabel('True Positive Rate')\n",
    "plt.show()\n",
    "\n",
    "print('auc accuracy:',auc)"
   ]
  },
  {
   "cell_type": "markdown",
   "id": "7d4d9471",
   "metadata": {},
   "source": [
    "# inference\n",
    "Based on the AUC value of 0.5951, you can infer that the logistic regression model has limited discriminatory power in separating the positive and negative classes. It may not be very effective in predicting the outcome variable, and there is room for improvement in the model's performance."
   ]
  }
 ],
 "metadata": {
  "kernelspec": {
   "display_name": "Python 3 (ipykernel)",
   "language": "python",
   "name": "python3"
  },
  "language_info": {
   "codemirror_mode": {
    "name": "ipython",
    "version": 3
   },
   "file_extension": ".py",
   "mimetype": "text/x-python",
   "name": "python",
   "nbconvert_exporter": "python",
   "pygments_lexer": "ipython3",
   "version": "3.11.3"
  }
 },
 "nbformat": 4,
 "nbformat_minor": 5
}
