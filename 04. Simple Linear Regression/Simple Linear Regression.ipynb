{
 "cells": [
  {
   "cell_type": "markdown",
   "id": "a961f9d2",
   "metadata": {},
   "source": [
    "# 1) Delivery_time -> Predict delivery time using sorting time \n",
    "# 2) Salary_hike -> Build a prediction model for Salary_hike\n",
    "\n",
    "                     ------------------------------------------------------------\n",
    "\n",
    "# Build a simple linear regression model by performing EDA and do necessary transformations and select the best model using R or Python."
   ]
  },
  {
   "cell_type": "code",
   "execution_count": 1,
   "id": "92cb535b",
   "metadata": {},
   "outputs": [],
   "source": [
    "#to import the libraries\n",
    "import pandas as pd\n",
    "import numpy as np\n",
    "from sklearn import linear_model\n",
    "import matplotlib.pyplot as plt\n",
    "import seaborn as sns\n",
    "from sklearn.metrics import mean_squared_error,r2_score\n",
    "#to filter the warnings\n",
    "import warnings\n",
    "warnings.filterwarnings('ignore')"
   ]
  },
  {
   "cell_type": "markdown",
   "id": "1fa281ef",
   "metadata": {},
   "source": [
    "# ***"
   ]
  },
  {
   "cell_type": "markdown",
   "id": "83c6af35",
   "metadata": {},
   "source": [
    "# 1) Delivery_time -> Predict delivery time using sorting time"
   ]
  },
  {
   "cell_type": "markdown",
   "id": "d1398f19",
   "metadata": {},
   "source": [
    "# ***"
   ]
  },
  {
   "cell_type": "markdown",
   "id": "5dcb27e4",
   "metadata": {},
   "source": [
    "# EDA & Corelation analysis"
   ]
  },
  {
   "cell_type": "code",
   "execution_count": 2,
   "id": "7a76ef96",
   "metadata": {},
   "outputs": [
    {
     "data": {
      "text/html": [
       "<div>\n",
       "<style scoped>\n",
       "    .dataframe tbody tr th:only-of-type {\n",
       "        vertical-align: middle;\n",
       "    }\n",
       "\n",
       "    .dataframe tbody tr th {\n",
       "        vertical-align: top;\n",
       "    }\n",
       "\n",
       "    .dataframe thead th {\n",
       "        text-align: right;\n",
       "    }\n",
       "</style>\n",
       "<table border=\"1\" class=\"dataframe\">\n",
       "  <thead>\n",
       "    <tr style=\"text-align: right;\">\n",
       "      <th></th>\n",
       "      <th>Delivery Time</th>\n",
       "      <th>Sorting Time</th>\n",
       "    </tr>\n",
       "  </thead>\n",
       "  <tbody>\n",
       "    <tr>\n",
       "      <th>0</th>\n",
       "      <td>21.00</td>\n",
       "      <td>10</td>\n",
       "    </tr>\n",
       "    <tr>\n",
       "      <th>1</th>\n",
       "      <td>13.50</td>\n",
       "      <td>4</td>\n",
       "    </tr>\n",
       "    <tr>\n",
       "      <th>2</th>\n",
       "      <td>19.75</td>\n",
       "      <td>6</td>\n",
       "    </tr>\n",
       "    <tr>\n",
       "      <th>3</th>\n",
       "      <td>24.00</td>\n",
       "      <td>9</td>\n",
       "    </tr>\n",
       "    <tr>\n",
       "      <th>4</th>\n",
       "      <td>29.00</td>\n",
       "      <td>10</td>\n",
       "    </tr>\n",
       "  </tbody>\n",
       "</table>\n",
       "</div>"
      ],
      "text/plain": [
       "   Delivery Time  Sorting Time\n",
       "0          21.00            10\n",
       "1          13.50             4\n",
       "2          19.75             6\n",
       "3          24.00             9\n",
       "4          29.00            10"
      ]
     },
     "execution_count": 2,
     "metadata": {},
     "output_type": "execute_result"
    }
   ],
   "source": [
    "# importing the dataset\n",
    "df1=pd.read_csv('delivery_time.csv')\n",
    "df1.head()"
   ]
  },
  {
   "cell_type": "code",
   "execution_count": 3,
   "id": "1c3a0c55",
   "metadata": {},
   "outputs": [
    {
     "data": {
      "text/plain": [
       "(21, 2)"
      ]
     },
     "execution_count": 3,
     "metadata": {},
     "output_type": "execute_result"
    }
   ],
   "source": [
    "# seeing the shape\n",
    "df1.shape"
   ]
  },
  {
   "cell_type": "code",
   "execution_count": 4,
   "id": "3185280f",
   "metadata": {
    "scrolled": true
   },
   "outputs": [
    {
     "data": {
      "text/html": [
       "<div>\n",
       "<style scoped>\n",
       "    .dataframe tbody tr th:only-of-type {\n",
       "        vertical-align: middle;\n",
       "    }\n",
       "\n",
       "    .dataframe tbody tr th {\n",
       "        vertical-align: top;\n",
       "    }\n",
       "\n",
       "    .dataframe thead th {\n",
       "        text-align: right;\n",
       "    }\n",
       "</style>\n",
       "<table border=\"1\" class=\"dataframe\">\n",
       "  <thead>\n",
       "    <tr style=\"text-align: right;\">\n",
       "      <th></th>\n",
       "      <th>Delivery Time</th>\n",
       "      <th>Sorting Time</th>\n",
       "    </tr>\n",
       "  </thead>\n",
       "  <tbody>\n",
       "    <tr>\n",
       "      <th>count</th>\n",
       "      <td>21.000000</td>\n",
       "      <td>21.000000</td>\n",
       "    </tr>\n",
       "    <tr>\n",
       "      <th>mean</th>\n",
       "      <td>16.790952</td>\n",
       "      <td>6.190476</td>\n",
       "    </tr>\n",
       "    <tr>\n",
       "      <th>std</th>\n",
       "      <td>5.074901</td>\n",
       "      <td>2.542028</td>\n",
       "    </tr>\n",
       "    <tr>\n",
       "      <th>min</th>\n",
       "      <td>8.000000</td>\n",
       "      <td>2.000000</td>\n",
       "    </tr>\n",
       "    <tr>\n",
       "      <th>25%</th>\n",
       "      <td>13.500000</td>\n",
       "      <td>4.000000</td>\n",
       "    </tr>\n",
       "    <tr>\n",
       "      <th>50%</th>\n",
       "      <td>17.830000</td>\n",
       "      <td>6.000000</td>\n",
       "    </tr>\n",
       "    <tr>\n",
       "      <th>75%</th>\n",
       "      <td>19.750000</td>\n",
       "      <td>8.000000</td>\n",
       "    </tr>\n",
       "    <tr>\n",
       "      <th>max</th>\n",
       "      <td>29.000000</td>\n",
       "      <td>10.000000</td>\n",
       "    </tr>\n",
       "  </tbody>\n",
       "</table>\n",
       "</div>"
      ],
      "text/plain": [
       "       Delivery Time  Sorting Time\n",
       "count      21.000000     21.000000\n",
       "mean       16.790952      6.190476\n",
       "std         5.074901      2.542028\n",
       "min         8.000000      2.000000\n",
       "25%        13.500000      4.000000\n",
       "50%        17.830000      6.000000\n",
       "75%        19.750000      8.000000\n",
       "max        29.000000     10.000000"
      ]
     },
     "execution_count": 4,
     "metadata": {},
     "output_type": "execute_result"
    }
   ],
   "source": [
    "#seeing the statsical values of the columns\n",
    "df1.describe()"
   ]
  },
  {
   "cell_type": "code",
   "execution_count": 5,
   "id": "fd07f1c2",
   "metadata": {},
   "outputs": [
    {
     "name": "stdout",
     "output_type": "stream",
     "text": [
      "<class 'pandas.core.frame.DataFrame'>\n",
      "RangeIndex: 21 entries, 0 to 20\n",
      "Data columns (total 2 columns):\n",
      " #   Column         Non-Null Count  Dtype  \n",
      "---  ------         --------------  -----  \n",
      " 0   Delivery Time  21 non-null     float64\n",
      " 1   Sorting Time   21 non-null     int64  \n",
      "dtypes: float64(1), int64(1)\n",
      "memory usage: 468.0 bytes\n"
     ]
    }
   ],
   "source": [
    "# seeing the information about the dataset\n",
    "df1.info()"
   ]
  },
  {
   "cell_type": "code",
   "execution_count": 6,
   "id": "4091554c",
   "metadata": {},
   "outputs": [
    {
     "data": {
      "text/html": [
       "<div>\n",
       "<style scoped>\n",
       "    .dataframe tbody tr th:only-of-type {\n",
       "        vertical-align: middle;\n",
       "    }\n",
       "\n",
       "    .dataframe tbody tr th {\n",
       "        vertical-align: top;\n",
       "    }\n",
       "\n",
       "    .dataframe thead th {\n",
       "        text-align: right;\n",
       "    }\n",
       "</style>\n",
       "<table border=\"1\" class=\"dataframe\">\n",
       "  <thead>\n",
       "    <tr style=\"text-align: right;\">\n",
       "      <th></th>\n",
       "      <th>Delivery Time</th>\n",
       "      <th>Sorting Time</th>\n",
       "    </tr>\n",
       "  </thead>\n",
       "  <tbody>\n",
       "    <tr>\n",
       "      <th>Delivery Time</th>\n",
       "      <td>1.000000</td>\n",
       "      <td>0.825997</td>\n",
       "    </tr>\n",
       "    <tr>\n",
       "      <th>Sorting Time</th>\n",
       "      <td>0.825997</td>\n",
       "      <td>1.000000</td>\n",
       "    </tr>\n",
       "  </tbody>\n",
       "</table>\n",
       "</div>"
      ],
      "text/plain": [
       "               Delivery Time  Sorting Time\n",
       "Delivery Time       1.000000      0.825997\n",
       "Sorting Time        0.825997      1.000000"
      ]
     },
     "execution_count": 6,
     "metadata": {},
     "output_type": "execute_result"
    }
   ],
   "source": [
    "# seeing the correlation between the two datasets\n",
    "df1.corr()"
   ]
  },
  {
   "cell_type": "markdown",
   "id": "b57383c2",
   "metadata": {},
   "source": [
    "# First Model: Direct method (Without any transform)"
   ]
  },
  {
   "cell_type": "code",
   "execution_count": 7,
   "id": "efbd2eb3",
   "metadata": {
    "scrolled": false
   },
   "outputs": [
    {
     "data": {
      "text/html": [
       "<div>\n",
       "<style scoped>\n",
       "    .dataframe tbody tr th:only-of-type {\n",
       "        vertical-align: middle;\n",
       "    }\n",
       "\n",
       "    .dataframe tbody tr th {\n",
       "        vertical-align: top;\n",
       "    }\n",
       "\n",
       "    .dataframe thead th {\n",
       "        text-align: right;\n",
       "    }\n",
       "</style>\n",
       "<table border=\"1\" class=\"dataframe\">\n",
       "  <thead>\n",
       "    <tr style=\"text-align: right;\">\n",
       "      <th></th>\n",
       "      <th>Sorting Time</th>\n",
       "    </tr>\n",
       "  </thead>\n",
       "  <tbody>\n",
       "    <tr>\n",
       "      <th>0</th>\n",
       "      <td>10</td>\n",
       "    </tr>\n",
       "    <tr>\n",
       "      <th>1</th>\n",
       "      <td>4</td>\n",
       "    </tr>\n",
       "    <tr>\n",
       "      <th>2</th>\n",
       "      <td>6</td>\n",
       "    </tr>\n",
       "    <tr>\n",
       "      <th>3</th>\n",
       "      <td>9</td>\n",
       "    </tr>\n",
       "    <tr>\n",
       "      <th>4</th>\n",
       "      <td>10</td>\n",
       "    </tr>\n",
       "  </tbody>\n",
       "</table>\n",
       "</div>"
      ],
      "text/plain": [
       "   Sorting Time\n",
       "0            10\n",
       "1             4\n",
       "2             6\n",
       "3             9\n",
       "4            10"
      ]
     },
     "execution_count": 7,
     "metadata": {},
     "output_type": "execute_result"
    }
   ],
   "source": [
    "# making the input dataset(defining the x)\n",
    "X1=df1.drop('Delivery Time',axis=1)\n",
    "X1.head()"
   ]
  },
  {
   "cell_type": "code",
   "execution_count": 8,
   "id": "6a337f40",
   "metadata": {},
   "outputs": [
    {
     "data": {
      "text/plain": [
       "0    21.00\n",
       "1    13.50\n",
       "2    19.75\n",
       "3    24.00\n",
       "4    29.00\n",
       "Name: Delivery Time, dtype: float64"
      ]
     },
     "execution_count": 8,
     "metadata": {},
     "output_type": "execute_result"
    }
   ],
   "source": [
    "# defining the output dataset (y)\n",
    "y1=df1['Delivery Time']\n",
    "y1.head()"
   ]
  },
  {
   "cell_type": "code",
   "execution_count": 9,
   "id": "44953a45",
   "metadata": {},
   "outputs": [
    {
     "data": {
      "image/png": "[encoded data removed]",
      "text/plain": [
       "<Figure size 500x500 with 6 Axes>"
      ]
     },
     "metadata": {},
     "output_type": "display_data"
    }
   ],
   "source": [
    "# pairplot of the dataset\n",
    "sns.pairplot(df1)\n",
    "plt.show()"
   ]
  },
  {
   "cell_type": "code",
   "execution_count": 10,
   "id": "011a652d",
   "metadata": {
    "scrolled": false
   },
   "outputs": [
    {
     "data": {
      "image/png": "[encoded data removed]",
      "text/plain": [
       "<Figure size 640x480 with 1 Axes>"
      ]
     },
     "metadata": {},
     "output_type": "display_data"
    }
   ],
   "source": [
    "# seeing the scatter plot\n",
    "plt.xlabel('Sorting Time')\n",
    "plt.ylabel('Delivery Time')\n",
    "plt.scatter(X1,y1,color='olive',marker='>')\n",
    "plt.show()"
   ]
  },
  {
   "cell_type": "code",
   "execution_count": 11,
   "id": "d72390b6",
   "metadata": {},
   "outputs": [
    {
     "data": {
      "image/png": "[encoded data removed]",
      "text/plain": [
       "<Figure size 640x480 with 1 Axes>"
      ]
     },
     "metadata": {},
     "output_type": "display_data"
    }
   ],
   "source": [
    "#seeing the best fit line\n",
    "plt.xlabel('Sorting Time')\n",
    "plt.ylabel('Delivery Time')\n",
    "\n",
    "sns.regplot(x=X1,y=y1,color='green')\n",
    "plt.show()"
   ]
  },
  {
   "cell_type": "code",
   "execution_count": 12,
   "id": "ecd50d6f",
   "metadata": {},
   "outputs": [
    {
     "data": {
      "text/html": [
       "<style>#sk-container-id-1 {color: black;background-color: white;}#sk-container-id-1 pre{padding: 0;}#sk-container-id-1 div.sk-toggleable {background-color: white;}#sk-container-id-1 label.sk-toggleable__label {cursor: pointer;display: block;width: 100%;margin-bottom: 0;padding: 0.3em;box-sizing: border-box;text-align: center;}#sk-container-id-1 label.sk-toggleable__label-arrow:before {content: \"▸\";float: left;margin-right: 0.25em;color: #696969;}#sk-container-id-1 label.sk-toggleable__label-arrow:hover:before {color: black;}#sk-container-id-1 div.sk-estimator:hover label.sk-toggleable__label-arrow:before {color: black;}#sk-container-id-1 div.sk-toggleable__content {max-height: 0;max-width: 0;overflow: hidden;text-align: left;background-color: #f0f8ff;}#sk-container-id-1 div.sk-toggleable__content pre {margin: 0.2em;color: black;border-radius: 0.25em;background-color: #f0f8ff;}#sk-container-id-1 input.sk-toggleable__control:checked~div.sk-toggleable__content {max-height: 200px;max-width: 100%;overflow: auto;}#sk-container-id-1 input.sk-toggleable__control:checked~label.sk-toggleable__label-arrow:before {content: \"▾\";}#sk-container-id-1 div.sk-estimator input.sk-toggleable__control:checked~label.sk-toggleable__label {background-color: #d4ebff;}#sk-container-id-1 div.sk-label input.sk-toggleable__control:checked~label.sk-toggleable__label {background-color: #d4ebff;}#sk-container-id-1 input.sk-hidden--visually {border: 0;clip: rect(1px 1px 1px 1px);clip: rect(1px, 1px, 1px, 1px);height: 1px;margin: -1px;overflow: hidden;padding: 0;position: absolute;width: 1px;}#sk-container-id-1 div.sk-estimator {font-family: monospace;background-color: #f0f8ff;border: 1px dotted black;border-radius: 0.25em;box-sizing: border-box;margin-bottom: 0.5em;}#sk-container-id-1 div.sk-estimator:hover {background-color: #d4ebff;}#sk-container-id-1 div.sk-parallel-item::after {content: \"\";width: 100%;border-bottom: 1px solid gray;flex-grow: 1;}#sk-container-id-1 div.sk-label:hover label.sk-toggleable__label {background-color: #d4ebff;}#sk-container-id-1 div.sk-serial::before {content: \"\";position: absolute;border-left: 1px solid gray;box-sizing: border-box;top: 0;bottom: 0;left: 50%;z-index: 0;}#sk-container-id-1 div.sk-serial {display: flex;flex-direction: column;align-items: center;background-color: white;padding-right: 0.2em;padding-left: 0.2em;position: relative;}#sk-container-id-1 div.sk-item {position: relative;z-index: 1;}#sk-container-id-1 div.sk-parallel {display: flex;align-items: stretch;justify-content: center;background-color: white;position: relative;}#sk-container-id-1 div.sk-item::before, #sk-container-id-1 div.sk-parallel-item::before {content: \"\";position: absolute;border-left: 1px solid gray;box-sizing: border-box;top: 0;bottom: 0;left: 50%;z-index: -1;}#sk-container-id-1 div.sk-parallel-item {display: flex;flex-direction: column;z-index: 1;position: relative;background-color: white;}#sk-container-id-1 div.sk-parallel-item:first-child::after {align-self: flex-end;width: 50%;}#sk-container-id-1 div.sk-parallel-item:last-child::after {align-self: flex-start;width: 50%;}#sk-container-id-1 div.sk-parallel-item:only-child::after {width: 0;}#sk-container-id-1 div.sk-dashed-wrapped {border: 1px dashed gray;margin: 0 0.4em 0.5em 0.4em;box-sizing: border-box;padding-bottom: 0.4em;background-color: white;}#sk-container-id-1 div.sk-label label {font-family: monospace;font-weight: bold;display: inline-block;line-height: 1.2em;}#sk-container-id-1 div.sk-label-container {text-align: center;}#sk-container-id-1 div.sk-container {/* jupyter's `normalize.less` sets `[hidden] { display: none; }` but bootstrap.min.css set `[hidden] { display: none !important; }` so we also need the `!important` here to be able to override the default hidden behavior on the sphinx rendered scikit-learn.org. See: https://github.com/scikit-learn/scikit-learn/issues/21755 */display: inline-block !important;position: relative;}#sk-container-id-1 div.sk-text-repr-fallback {display: none;}</style><div id=\"sk-container-id-1\" class=\"sk-top-container\"><div class=\"sk-text-repr-fallback\"><pre>LinearRegression()</pre><b>In a Jupyter environment, please rerun this cell to show the HTML representation or trust the notebook. <br />On GitHub, the HTML representation is unable to render, please try loading this page with nbviewer.org.</b></div><div class=\"sk-container\" hidden><div class=\"sk-item\"><div class=\"sk-estimator sk-toggleable\"><input class=\"sk-toggleable__control sk-hidden--visually\" id=\"sk-estimator-id-1\" type=\"checkbox\" checked><label for=\"sk-estimator-id-1\" class=\"sk-toggleable__label sk-toggleable__label-arrow\">LinearRegression</label><div class=\"sk-toggleable__content\"><pre>LinearRegression()</pre></div></div></div></div></div>"
      ],
      "text/plain": [
       "LinearRegression()"
      ]
     },
     "execution_count": 12,
     "metadata": {},
     "output_type": "execute_result"
    }
   ],
   "source": [
    "#defining the regression model and fitting the model\n",
    "reg= linear_model.LinearRegression()\n",
    "reg.fit(X1,y1)"
   ]
  },
  {
   "cell_type": "code",
   "execution_count": 13,
   "id": "b5f30459",
   "metadata": {},
   "outputs": [
    {
     "data": {
      "text/plain": [
       "array([23.07293294, 13.17881356, 16.47685335, 21.42391304, 23.07293294,\n",
       "       16.47685335, 18.12587325, 11.52979366, 23.07293294, 21.42391304,\n",
       "       19.77489315, 13.17881356, 18.12587325, 11.52979366, 11.52979366,\n",
       "       13.17881356, 16.47685335, 18.12587325,  9.88077377, 18.12587325,\n",
       "       14.82783346])"
      ]
     },
     "execution_count": 13,
     "metadata": {},
     "output_type": "execute_result"
    }
   ],
   "source": [
    "# prediction\n",
    "y1_pred=reg.predict(X1)\n",
    "y1_pred"
   ]
  },
  {
   "cell_type": "code",
   "execution_count": 14,
   "id": "94eff630",
   "metadata": {},
   "outputs": [
    {
     "data": {
      "image/png": "[encoded data removed]",
      "text/plain": [
       "<Figure size 640x480 with 1 Axes>"
      ]
     },
     "metadata": {},
     "output_type": "display_data"
    }
   ],
   "source": [
    "plt.xlabel('Sorting Time')\n",
    "plt.ylabel('Delivery Time')\n",
    "#actual data points\n",
    "plt.scatter(X1,y1,color='red')\n",
    "#predicted data points\n",
    "plt.scatter(X1,y1_pred,color='black',marker='*')\n",
    "#predicted data points on line\n",
    "plt.plot(X1,y1_pred,color='blue')\n",
    "plt.show()"
   ]
  },
  {
   "cell_type": "markdown",
   "id": "55eaf738",
   "metadata": {},
   "source": [
    "# Second model: SquareRoot transform"
   ]
  },
  {
   "cell_type": "code",
   "execution_count": 15,
   "id": "f2ec8cd0",
   "metadata": {},
   "outputs": [],
   "source": [
    "df1_sqrt=np.sqrt(df1)\n",
    "X1_sqrt=np.sqrt(X1)\n",
    "y1_sqrt=np.sqrt(y1)"
   ]
  },
  {
   "cell_type": "code",
   "execution_count": 16,
   "id": "7304734a",
   "metadata": {},
   "outputs": [
    {
     "data": {
      "text/plain": [
       "LinearRegression()"
      ]
     },
     "execution_count": 16,
     "metadata": {},
     "output_type": "execute_result"
    }
   ],
   "source": [
    "reg_sqrt=linear_model.LinearRegression()\n",
    "reg_sqrt.fit(X1_sqrt,y1_sqrt)"
   ]
  },
  {
   "cell_type": "code",
   "execution_count": 17,
   "id": "0555dc4b",
   "metadata": {},
   "outputs": [
    {
     "data": {
      "text/plain": [
       "array([4.78276673, 3.61791244, 4.06839864, 4.62012932, 4.78276673,\n",
       "       4.06839864, 4.2650953 , 3.34936923, 4.78276673, 4.62012932,\n",
       "       4.44817609, 3.61791244, 4.2650953 , 3.34936923, 3.34936923,\n",
       "       3.61791244, 4.06839864, 4.2650953 , 3.03082738, 4.2650953 ,\n",
       "       3.85450375])"
      ]
     },
     "execution_count": 17,
     "metadata": {},
     "output_type": "execute_result"
    }
   ],
   "source": [
    "y1_sqrt_pred=reg_sqrt.predict(X1_sqrt)\n",
    "y1_sqrt_pred"
   ]
  },
  {
   "cell_type": "code",
   "execution_count": 18,
   "id": "dc459717",
   "metadata": {},
   "outputs": [
    {
     "data": {
      "image/png": "[encoded data removed]",
      "text/plain": [
       "<Figure size 640x480 with 1 Axes>"
      ]
     },
     "metadata": {},
     "output_type": "display_data"
    }
   ],
   "source": [
    "plt.xlabel('Sorting Time_sqrt')\n",
    "plt.ylabel('Delivery Time_sqrt')\n",
    "#actual data points\n",
    "plt.scatter(X1_sqrt,y1_sqrt,color='orange')\n",
    "#predicted data points\n",
    "plt.scatter(X1_sqrt,y1_sqrt_pred,color='green',marker='<')\n",
    "#predicted data points on line\n",
    "plt.plot(X1_sqrt,y1_sqrt_pred,color='blue')\n",
    "plt.show()"
   ]
  },
  {
   "cell_type": "markdown",
   "id": "9909f461",
   "metadata": {},
   "source": [
    "# Third method: Square Transform"
   ]
  },
  {
   "cell_type": "code",
   "execution_count": 19,
   "id": "cb29faff",
   "metadata": {},
   "outputs": [],
   "source": [
    "df1_sq=np.square(df1)\n",
    "X1_sq=np.square(X1)\n",
    "y1_sq=np.square(y1)"
   ]
  },
  {
   "cell_type": "code",
   "execution_count": 20,
   "id": "13ed4e90",
   "metadata": {},
   "outputs": [
    {
     "data": {
      "text/plain": [
       "LinearRegression()"
      ]
     },
     "execution_count": 20,
     "metadata": {},
     "output_type": "execute_result"
    }
   ],
   "source": [
    "reg_sq=linear_model.LinearRegression()\n",
    "reg_sq.fit(X1_sq,y1_sq)"
   ]
  },
  {
   "cell_type": "code",
   "execution_count": 21,
   "id": "a15b46d0",
   "metadata": {},
   "outputs": [
    {
     "data": {
      "text/plain": [
       "array([546.54224645, 183.33683107, 269.81431092, 464.38864059,\n",
       "       546.54224645, 269.81431092, 326.02467282, 153.06971312,\n",
       "       546.54224645, 464.38864059, 390.88278271, 183.33683107,\n",
       "       326.02467282, 153.06971312, 153.06971312, 183.33683107,\n",
       "       269.81431092, 326.02467282, 131.45034315, 326.02467282,\n",
       "       222.251697  ])"
      ]
     },
     "execution_count": 21,
     "metadata": {},
     "output_type": "execute_result"
    }
   ],
   "source": [
    "y1_sq_pred=reg_sq.predict(X1_sq)\n",
    "y1_sq_pred"
   ]
  },
  {
   "cell_type": "code",
   "execution_count": 22,
   "id": "d1f40d7a",
   "metadata": {},
   "outputs": [
    {
     "data": {
      "image/png": "[encoded data removed]",
      "text/plain": [
       "<Figure size 640x480 with 1 Axes>"
      ]
     },
     "metadata": {},
     "output_type": "display_data"
    }
   ],
   "source": [
    "plt.xlabel('Sorting Time_sq')\n",
    "plt.ylabel('Delivery Time_sq')\n",
    "#actual data points\n",
    "plt.scatter(X1_sq,y1_sq,color='brown')\n",
    "#predicted data points\n",
    "plt.scatter(X1_sq,y1_sq_pred,color='black',marker='*')\n",
    "#predicted data points on line\n",
    "plt.plot(X1_sq,y1_sq_pred,color='red')\n",
    "plt.show()"
   ]
  },
  {
   "cell_type": "markdown",
   "id": "aa22981c",
   "metadata": {},
   "source": [
    "# Fourth Model: CubeRoot transform"
   ]
  },
  {
   "cell_type": "code",
   "execution_count": 23,
   "id": "e54816d5",
   "metadata": {},
   "outputs": [],
   "source": [
    "df1_cbrt=np.cbrt(df1)\n",
    "X1_cbrt=np.cbrt(X1)\n",
    "y1_cbrt=np.cbrt(y1)"
   ]
  },
  {
   "cell_type": "code",
   "execution_count": 24,
   "id": "cb80cb1d",
   "metadata": {},
   "outputs": [
    {
     "data": {
      "text/plain": [
       "LinearRegression()"
      ]
     },
     "execution_count": 24,
     "metadata": {},
     "output_type": "execute_result"
    }
   ],
   "source": [
    "reg_cbrt=linear_model.LinearRegression()\n",
    "reg_cbrt.fit(X1_cbrt,y1_cbrt)"
   ]
  },
  {
   "cell_type": "code",
   "execution_count": 25,
   "id": "dcf06045",
   "metadata": {},
   "outputs": [
    {
     "data": {
      "text/plain": [
       "array([2.83532857, 2.35585357, 2.55010091, 2.77245861, 2.83532857,\n",
       "       2.55010091, 2.63111689, 2.23311569, 2.83532857, 2.77245861,\n",
       "       2.70474095, 2.35585357, 2.63111689, 2.23311569, 2.23311569,\n",
       "       2.35585357, 2.55010091, 2.63111689, 2.07894148, 2.63111689,\n",
       "       2.45950103])"
      ]
     },
     "execution_count": 25,
     "metadata": {},
     "output_type": "execute_result"
    }
   ],
   "source": [
    "y1_cbrt_pred=reg_cbrt.predict(X1_cbrt)\n",
    "y1_cbrt_pred"
   ]
  },
  {
   "cell_type": "code",
   "execution_count": 26,
   "id": "27e7b9b2",
   "metadata": {},
   "outputs": [
    {
     "data": {
      "image/png": "[encoded data removed]",
      "text/plain": [
       "<Figure size 640x480 with 1 Axes>"
      ]
     },
     "metadata": {},
     "output_type": "display_data"
    }
   ],
   "source": [
    "plt.xlabel('Sorting Time_cbrt')\n",
    "plt.ylabel('Delivery Time_cbrt')\n",
    "#actual data points\n",
    "plt.scatter(X1_cbrt,y1_cbrt,color='cyan')\n",
    "#predicted data points\n",
    "plt.scatter(X1_cbrt,y1_cbrt_pred,color='magenta',marker='<')\n",
    "#predicted data points on line\n",
    "plt.plot(X1_cbrt,y1_cbrt_pred,color='blue')\n",
    "plt.show()"
   ]
  },
  {
   "cell_type": "markdown",
   "id": "9bd88255",
   "metadata": {},
   "source": [
    "# Fifth model: Logarithmic Transform"
   ]
  },
  {
   "cell_type": "code",
   "execution_count": 27,
   "id": "ad158e90",
   "metadata": {},
   "outputs": [],
   "source": [
    "df1_log=np.log(df1)\n",
    "X1_log=np.log(X1)\n",
    "y1_log=np.log(y1)"
   ]
  },
  {
   "cell_type": "code",
   "execution_count": 28,
   "id": "47da09eb",
   "metadata": {},
   "outputs": [
    {
     "data": {
      "text/plain": [
       "LinearRegression()"
      ]
     },
     "execution_count": 28,
     "metadata": {},
     "output_type": "execute_result"
    }
   ],
   "source": [
    "reg_log=linear_model.LinearRegression()\n",
    "reg_log.fit(X1_log,y1_log)"
   ]
  },
  {
   "cell_type": "code",
   "execution_count": 29,
   "id": "c0f2f01a",
   "metadata": {},
   "outputs": [
    {
     "data": {
      "text/plain": [
       "array([3.1178331 , 2.57032892, 2.81260338, 3.05487783, 3.1178331 ,\n",
       "       2.81260338, 2.90471185, 2.39843246, 3.1178331 , 3.05487783,\n",
       "       2.98449984, 2.57032892, 2.90471185, 2.39843246, 2.39843246,\n",
       "       2.57032892, 2.81260338, 2.90471185, 2.15615801, 2.90471185,\n",
       "       2.70366218])"
      ]
     },
     "execution_count": 29,
     "metadata": {},
     "output_type": "execute_result"
    }
   ],
   "source": [
    "y1_log_pred=reg_log.predict(X1_log)\n",
    "y1_log_pred"
   ]
  },
  {
   "cell_type": "code",
   "execution_count": 30,
   "id": "ec4bbda6",
   "metadata": {},
   "outputs": [
    {
     "data": {
      "image/png": "[encoded data removed]",
      "text/plain": [
       "<Figure size 640x480 with 1 Axes>"
      ]
     },
     "metadata": {},
     "output_type": "display_data"
    }
   ],
   "source": [
    "plt.xlabel('Sorting Time_log')\n",
    "plt.ylabel('Delivery Time_log')\n",
    "#actual data points\n",
    "plt.scatter(X1_log,y1_log,color='black')\n",
    "#predicted data points\n",
    "plt.scatter(X1_log,y1_log_pred,color='orange',marker='d')\n",
    "#predicted data points on line\n",
    "plt.plot(X1_log,y1_log_pred,color='blue')\n",
    "plt.show()"
   ]
  },
  {
   "cell_type": "markdown",
   "id": "8af79875",
   "metadata": {},
   "source": [
    "# Comparision of models with Root MSE and R2 Score"
   ]
  },
  {
   "cell_type": "code",
   "execution_count": 31,
   "id": "641c9ede",
   "metadata": {},
   "outputs": [
    {
     "name": "stdout",
     "output_type": "stream",
     "text": [
      "RMSE1=  2.7916503270617654 \n",
      "RMSE1_sqrt=  0.3179102135134033 \n",
      "RMSE1_sq=  113.92204355522601 \n",
      "RMSE1_cbrt=  0.13007091801887052 \n",
      "RMSE1_log= 0.14823312083501494\n"
     ]
    }
   ],
   "source": [
    "#Root Mean squared error calculation\n",
    "RMSE1=np.sqrt(mean_squared_error(y1,y1_pred))\n",
    "RMSE1_sqrt=np.sqrt(mean_squared_error(y1_sqrt,y1_sqrt_pred))\n",
    "RMSE1_sq=np.sqrt(mean_squared_error(y1_sq,y1_sq_pred))\n",
    "RMSE1_cbrt=np.sqrt(mean_squared_error(y1_cbrt,y1_cbrt_pred))\n",
    "RMSE1_log=np.sqrt(mean_squared_error(y1_log,y1_log_pred))\n",
    "print('RMSE1= ',RMSE1,'\\nRMSE1_sqrt= ',RMSE1_sqrt,'\\nRMSE1_sq= ',RMSE1_sq,'\\nRMSE1_cbrt= ',RMSE1_cbrt,'\\nRMSE1_log=',RMSE1_log)"
   ]
  },
  {
   "cell_type": "code",
   "execution_count": 32,
   "id": "f98f9637",
   "metadata": {},
   "outputs": [
    {
     "name": "stdout",
     "output_type": "stream",
     "text": [
      "R2SC1=  0.6822714748417231 \n",
      "R2SC1_sqrt=  0.7292011987544664 \n",
      "R2SC1_sq=  0.5881883446986836 \n",
      "R2SC1_cbrt=  0.744116757756627 \n",
      "R2SC1_log= 0.77216134926874\n"
     ]
    }
   ],
   "source": [
    "# R2 Score Calculation\n",
    "R2SC1=r2_score(y1,y1_pred)\n",
    "R2SC1_sqrt=r2_score(y1_sqrt,y1_sqrt_pred)\n",
    "R2SC1_sq=r2_score(y1_sq,y1_sq_pred)\n",
    "R2SC1_cbrt=r2_score(y1_cbrt,y1_cbrt_pred)\n",
    "R2SC1_log=r2_score(y1_log,y1_log_pred)\n",
    "print('R2SC1= ',R2SC1,'\\nR2SC1_sqrt= ',R2SC1_sqrt,'\\nR2SC1_sq= ',R2SC1_sq,'\\nR2SC1_cbrt= ',R2SC1_cbrt,'\\nR2SC1_log=',R2SC1_log)"
   ]
  },
  {
   "cell_type": "markdown",
   "id": "45b95413",
   "metadata": {},
   "source": [
    "# Conclusion:"
   ]
  },
  {
   "cell_type": "markdown",
   "id": "6dd6ea2d",
   "metadata": {},
   "source": [
    "# We can clearly see that the R2 Score of the \"logarithmic transformed model\" is the heighest so its the Best model here. "
   ]
  },
  {
   "cell_type": "markdown",
   "id": "da7b11b4",
   "metadata": {},
   "source": [
    "# ***"
   ]
  },
  {
   "cell_type": "markdown",
   "id": "d0c18fc8",
   "metadata": {},
   "source": [
    "# 2) Salary_hike -> Build a prediction model for Salary_hike"
   ]
  },
  {
   "cell_type": "markdown",
   "id": "bdbc8fdc",
   "metadata": {},
   "source": [
    "# ***"
   ]
  },
  {
   "cell_type": "code",
   "execution_count": 33,
   "id": "03054a58",
   "metadata": {},
   "outputs": [
    {
     "data": {
      "text/html": [
       "<div>\n",
       "<style scoped>\n",
       "    .dataframe tbody tr th:only-of-type {\n",
       "        vertical-align: middle;\n",
       "    }\n",
       "\n",
       "    .dataframe tbody tr th {\n",
       "        vertical-align: top;\n",
       "    }\n",
       "\n",
       "    .dataframe thead th {\n",
       "        text-align: right;\n",
       "    }\n",
       "</style>\n",
       "<table border=\"1\" class=\"dataframe\">\n",
       "  <thead>\n",
       "    <tr style=\"text-align: right;\">\n",
       "      <th></th>\n",
       "      <th>YearsExperience</th>\n",
       "      <th>Salary</th>\n",
       "    </tr>\n",
       "  </thead>\n",
       "  <tbody>\n",
       "    <tr>\n",
       "      <th>0</th>\n",
       "      <td>1.1</td>\n",
       "      <td>39343.0</td>\n",
       "    </tr>\n",
       "    <tr>\n",
       "      <th>1</th>\n",
       "      <td>1.3</td>\n",
       "      <td>46205.0</td>\n",
       "    </tr>\n",
       "    <tr>\n",
       "      <th>2</th>\n",
       "      <td>1.5</td>\n",
       "      <td>37731.0</td>\n",
       "    </tr>\n",
       "    <tr>\n",
       "      <th>3</th>\n",
       "      <td>2.0</td>\n",
       "      <td>43525.0</td>\n",
       "    </tr>\n",
       "    <tr>\n",
       "      <th>4</th>\n",
       "      <td>2.2</td>\n",
       "      <td>39891.0</td>\n",
       "    </tr>\n",
       "  </tbody>\n",
       "</table>\n",
       "</div>"
      ],
      "text/plain": [
       "   YearsExperience   Salary\n",
       "0              1.1  39343.0\n",
       "1              1.3  46205.0\n",
       "2              1.5  37731.0\n",
       "3              2.0  43525.0\n",
       "4              2.2  39891.0"
      ]
     },
     "execution_count": 33,
     "metadata": {},
     "output_type": "execute_result"
    }
   ],
   "source": [
    "df2=pd.read_csv('Salary_Data.csv')\n",
    "df2.head()"
   ]
  },
  {
   "cell_type": "markdown",
   "id": "d0abe732",
   "metadata": {},
   "source": [
    "# EDA and corelation analysis"
   ]
  },
  {
   "cell_type": "code",
   "execution_count": 34,
   "id": "81a10b6c",
   "metadata": {},
   "outputs": [
    {
     "data": {
      "text/plain": [
       "(30, 2)"
      ]
     },
     "execution_count": 34,
     "metadata": {},
     "output_type": "execute_result"
    }
   ],
   "source": [
    "df2.shape"
   ]
  },
  {
   "cell_type": "code",
   "execution_count": 35,
   "id": "f1fa35bc",
   "metadata": {},
   "outputs": [
    {
     "data": {
      "text/plain": [
       "YearsExperience    0\n",
       "Salary             0\n",
       "dtype: int64"
      ]
     },
     "execution_count": 35,
     "metadata": {},
     "output_type": "execute_result"
    }
   ],
   "source": [
    "df2.isnull().sum()"
   ]
  },
  {
   "cell_type": "code",
   "execution_count": 36,
   "id": "38141e7d",
   "metadata": {},
   "outputs": [
    {
     "data": {
      "text/plain": [
       "0"
      ]
     },
     "execution_count": 36,
     "metadata": {},
     "output_type": "execute_result"
    }
   ],
   "source": [
    "df2.duplicated().sum()"
   ]
  },
  {
   "cell_type": "code",
   "execution_count": 37,
   "id": "69d44a3b",
   "metadata": {},
   "outputs": [
    {
     "data": {
      "text/html": [
       "<div>\n",
       "<style scoped>\n",
       "    .dataframe tbody tr th:only-of-type {\n",
       "        vertical-align: middle;\n",
       "    }\n",
       "\n",
       "    .dataframe tbody tr th {\n",
       "        vertical-align: top;\n",
       "    }\n",
       "\n",
       "    .dataframe thead th {\n",
       "        text-align: right;\n",
       "    }\n",
       "</style>\n",
       "<table border=\"1\" class=\"dataframe\">\n",
       "  <thead>\n",
       "    <tr style=\"text-align: right;\">\n",
       "      <th></th>\n",
       "      <th>YearsExperience</th>\n",
       "      <th>Salary</th>\n",
       "    </tr>\n",
       "  </thead>\n",
       "  <tbody>\n",
       "    <tr>\n",
       "      <th>YearsExperience</th>\n",
       "      <td>1.000000</td>\n",
       "      <td>0.978242</td>\n",
       "    </tr>\n",
       "    <tr>\n",
       "      <th>Salary</th>\n",
       "      <td>0.978242</td>\n",
       "      <td>1.000000</td>\n",
       "    </tr>\n",
       "  </tbody>\n",
       "</table>\n",
       "</div>"
      ],
      "text/plain": [
       "                 YearsExperience    Salary\n",
       "YearsExperience         1.000000  0.978242\n",
       "Salary                  0.978242  1.000000"
      ]
     },
     "execution_count": 37,
     "metadata": {},
     "output_type": "execute_result"
    }
   ],
   "source": [
    "df2.corr()"
   ]
  },
  {
   "cell_type": "markdown",
   "id": "35575e97",
   "metadata": {},
   "source": [
    "# First Model: Direct method (Without any changes)"
   ]
  },
  {
   "cell_type": "code",
   "execution_count": 38,
   "id": "fda6d05f",
   "metadata": {},
   "outputs": [
    {
     "data": {
      "text/html": [
       "<div>\n",
       "<style scoped>\n",
       "    .dataframe tbody tr th:only-of-type {\n",
       "        vertical-align: middle;\n",
       "    }\n",
       "\n",
       "    .dataframe tbody tr th {\n",
       "        vertical-align: top;\n",
       "    }\n",
       "\n",
       "    .dataframe thead th {\n",
       "        text-align: right;\n",
       "    }\n",
       "</style>\n",
       "<table border=\"1\" class=\"dataframe\">\n",
       "  <thead>\n",
       "    <tr style=\"text-align: right;\">\n",
       "      <th></th>\n",
       "      <th>YearsExperience</th>\n",
       "    </tr>\n",
       "  </thead>\n",
       "  <tbody>\n",
       "    <tr>\n",
       "      <th>0</th>\n",
       "      <td>1.1</td>\n",
       "    </tr>\n",
       "    <tr>\n",
       "      <th>1</th>\n",
       "      <td>1.3</td>\n",
       "    </tr>\n",
       "    <tr>\n",
       "      <th>2</th>\n",
       "      <td>1.5</td>\n",
       "    </tr>\n",
       "    <tr>\n",
       "      <th>3</th>\n",
       "      <td>2.0</td>\n",
       "    </tr>\n",
       "    <tr>\n",
       "      <th>4</th>\n",
       "      <td>2.2</td>\n",
       "    </tr>\n",
       "  </tbody>\n",
       "</table>\n",
       "</div>"
      ],
      "text/plain": [
       "   YearsExperience\n",
       "0              1.1\n",
       "1              1.3\n",
       "2              1.5\n",
       "3              2.0\n",
       "4              2.2"
      ]
     },
     "execution_count": 38,
     "metadata": {},
     "output_type": "execute_result"
    }
   ],
   "source": [
    "X2=df2[['YearsExperience']]\n",
    "X2.head()"
   ]
  },
  {
   "cell_type": "code",
   "execution_count": 39,
   "id": "07ff3d3d",
   "metadata": {},
   "outputs": [
    {
     "data": {
      "text/plain": [
       "0    39343.0\n",
       "1    46205.0\n",
       "2    37731.0\n",
       "3    43525.0\n",
       "4    39891.0\n",
       "Name: Salary, dtype: float64"
      ]
     },
     "execution_count": 39,
     "metadata": {},
     "output_type": "execute_result"
    }
   ],
   "source": [
    "y2=df2.Salary\n",
    "y2.head()"
   ]
  },
  {
   "cell_type": "code",
   "execution_count": 40,
   "id": "8390a135",
   "metadata": {},
   "outputs": [
    {
     "data": {
      "image/png": "[encoded data removed]",
      "text/plain": [
       "<Figure size 640x480 with 1 Axes>"
      ]
     },
     "metadata": {},
     "output_type": "display_data"
    }
   ],
   "source": [
    "plt.xlabel('Years of Experience')\n",
    "plt.ylabel('Salary')\n",
    "plt.scatter(X2,y2,color='m',marker='p')\n",
    "plt.show()"
   ]
  },
  {
   "cell_type": "code",
   "execution_count": 41,
   "id": "658a1ff9",
   "metadata": {},
   "outputs": [
    {
     "data": {
      "image/png": "[encoded data removed]",
      "text/plain": [
       "<Figure size 640x480 with 1 Axes>"
      ]
     },
     "metadata": {},
     "output_type": "display_data"
    }
   ],
   "source": [
    "sns.regplot(X2,y2,marker='h')\n",
    "plt.show()"
   ]
  },
  {
   "cell_type": "code",
   "execution_count": 42,
   "id": "30515e90",
   "metadata": {},
   "outputs": [
    {
     "data": {
      "text/plain": [
       "LinearRegression()"
      ]
     },
     "execution_count": 42,
     "metadata": {},
     "output_type": "execute_result"
    }
   ],
   "source": [
    "reg=linear_model.LinearRegression()\n",
    "reg.fit(X2,y2)"
   ]
  },
  {
   "cell_type": "code",
   "execution_count": 43,
   "id": "64938ab1",
   "metadata": {},
   "outputs": [
    {
     "data": {
      "text/plain": [
       "array([ 36187.15875227,  38077.15121656,  39967.14368085,  44692.12484158,\n",
       "        46582.11730587,  53197.09093089,  54142.08716303,  56032.07962732,\n",
       "        56032.07962732,  60757.06078805,  62647.05325234,  63592.04948449,\n",
       "        63592.04948449,  64537.04571663,  68317.03064522,  72097.0155738 ,\n",
       "        73987.00803809,  75877.00050238,  81546.97789525,  82491.9741274 ,\n",
       "        90051.94398456,  92886.932681  , 100446.90253816, 103281.8912346 ,\n",
       "       108006.87239533, 110841.86109176, 115566.84225249, 116511.83848464,\n",
       "       123126.81210966, 125016.80457395])"
      ]
     },
     "execution_count": 43,
     "metadata": {},
     "output_type": "execute_result"
    }
   ],
   "source": [
    "y2_pred=reg.predict(X2)\n",
    "y2_pred"
   ]
  },
  {
   "cell_type": "code",
   "execution_count": 44,
   "id": "d326f7be",
   "metadata": {},
   "outputs": [
    {
     "data": {
      "image/png": "[encoded data removed]",
      "text/plain": [
       "<Figure size 640x480 with 1 Axes>"
      ]
     },
     "metadata": {},
     "output_type": "display_data"
    }
   ],
   "source": [
    "plt.scatter(X2,y2,color='olive',marker='*')\n",
    "plt.scatter(X2,y2_pred,color='r',marker='<')\n",
    "plt.plot(X2,y2_pred,color='black')\n",
    "plt.show()"
   ]
  },
  {
   "cell_type": "markdown",
   "id": "9a3cd61e",
   "metadata": {},
   "source": [
    "# Second Model: Min Max Transformation"
   ]
  },
  {
   "cell_type": "code",
   "execution_count": 45,
   "id": "6e3c7493",
   "metadata": {},
   "outputs": [],
   "source": [
    "#Normalization function\n",
    "# use of sklearn library norm\n",
    "def norm_func(i):\n",
    "    x=(i-i.min())/(i.max()-i.min())\n",
    "    return x"
   ]
  },
  {
   "cell_type": "code",
   "execution_count": 46,
   "id": "fd728cc8",
   "metadata": {},
   "outputs": [
    {
     "data": {
      "text/html": [
       "<div>\n",
       "<style scoped>\n",
       "    .dataframe tbody tr th:only-of-type {\n",
       "        vertical-align: middle;\n",
       "    }\n",
       "\n",
       "    .dataframe tbody tr th {\n",
       "        vertical-align: top;\n",
       "    }\n",
       "\n",
       "    .dataframe thead th {\n",
       "        text-align: right;\n",
       "    }\n",
       "</style>\n",
       "<table border=\"1\" class=\"dataframe\">\n",
       "  <thead>\n",
       "    <tr style=\"text-align: right;\">\n",
       "      <th></th>\n",
       "      <th>YearsExperience</th>\n",
       "      <th>Salary</th>\n",
       "    </tr>\n",
       "  </thead>\n",
       "  <tbody>\n",
       "    <tr>\n",
       "      <th>0</th>\n",
       "      <td>0.000000</td>\n",
       "      <td>0.019041</td>\n",
       "    </tr>\n",
       "    <tr>\n",
       "      <th>1</th>\n",
       "      <td>0.021277</td>\n",
       "      <td>0.100094</td>\n",
       "    </tr>\n",
       "    <tr>\n",
       "      <th>2</th>\n",
       "      <td>0.042553</td>\n",
       "      <td>0.000000</td>\n",
       "    </tr>\n",
       "    <tr>\n",
       "      <th>3</th>\n",
       "      <td>0.095745</td>\n",
       "      <td>0.068438</td>\n",
       "    </tr>\n",
       "    <tr>\n",
       "      <th>4</th>\n",
       "      <td>0.117021</td>\n",
       "      <td>0.025514</td>\n",
       "    </tr>\n",
       "  </tbody>\n",
       "</table>\n",
       "</div>"
      ],
      "text/plain": [
       "   YearsExperience    Salary\n",
       "0         0.000000  0.019041\n",
       "1         0.021277  0.100094\n",
       "2         0.042553  0.000000\n",
       "3         0.095745  0.068438\n",
       "4         0.117021  0.025514"
      ]
     },
     "execution_count": 46,
     "metadata": {},
     "output_type": "execute_result"
    }
   ],
   "source": [
    "df2_norm=norm_func(df2)\n",
    "df2_norm.head()"
   ]
  },
  {
   "cell_type": "code",
   "execution_count": 47,
   "id": "53c81406",
   "metadata": {},
   "outputs": [],
   "source": [
    "X2_norm=df2_norm[['YearsExperience']]\n",
    "y2_norm=df2_norm['Salary']"
   ]
  },
  {
   "cell_type": "code",
   "execution_count": 48,
   "id": "8790039e",
   "metadata": {},
   "outputs": [
    {
     "data": {
      "text/plain": [
       "LinearRegression()"
      ]
     },
     "execution_count": 48,
     "metadata": {},
     "output_type": "execute_result"
    }
   ],
   "source": [
    "reg_norm=linear_model.LinearRegression()\n",
    "reg_norm.fit(X2_norm,y2_norm)"
   ]
  },
  {
   "cell_type": "code",
   "execution_count": 49,
   "id": "5af44105",
   "metadata": {},
   "outputs": [
    {
     "data": {
      "text/plain": [
       "array([-0.01823578,  0.00408872,  0.02641323,  0.08222448,  0.10454899,\n",
       "        0.18268475,  0.193847  ,  0.21617151,  0.21617151,  0.27198276,\n",
       "        0.29430727,  0.30546952,  0.30546952,  0.31663177,  0.36128078,\n",
       "        0.40592978,  0.42825429,  0.45057879,  0.5175523 ,  0.52871455,\n",
       "        0.61801257,  0.65149932,  0.74079734,  0.77428409,  0.83009535,\n",
       "        0.86358211,  0.91939336,  0.93055562,  1.00869138,  1.03101588])"
      ]
     },
     "execution_count": 49,
     "metadata": {},
     "output_type": "execute_result"
    }
   ],
   "source": [
    "y2_norm_pred=reg_norm.predict(X2_norm)\n",
    "y2_norm_pred"
   ]
  },
  {
   "cell_type": "markdown",
   "id": "2c89537f",
   "metadata": {},
   "source": [
    "# Third Model: Logarithmic Transform "
   ]
  },
  {
   "cell_type": "code",
   "execution_count": 50,
   "id": "7e33a04e",
   "metadata": {},
   "outputs": [],
   "source": [
    "df2_log=np.log(df2)\n",
    "X2_log=np.log(X2)\n",
    "y2_log=np.log(y2)"
   ]
  },
  {
   "cell_type": "code",
   "execution_count": 51,
   "id": "3e661c7c",
   "metadata": {},
   "outputs": [
    {
     "data": {
      "text/plain": [
       "LinearRegression()"
      ]
     },
     "execution_count": 51,
     "metadata": {},
     "output_type": "execute_result"
    }
   ],
   "source": [
    "reg_log=linear_model.LinearRegression()\n",
    "reg_log.fit(X2_log,y2_log)"
   ]
  },
  {
   "cell_type": "code",
   "execution_count": 52,
   "id": "2f3f1085",
   "metadata": {},
   "outputs": [
    {
     "data": {
      "text/plain": [
       "array([10.38161597, 10.47551521, 10.55595059, 10.71765347, 10.77122626,\n",
       "       10.9265052 , 10.94556088, 10.98183726, 10.98183726, 11.06344245,\n",
       "       11.09303291, 11.10726376, 11.10726376, 11.1211432 , 11.17346829,\n",
       "       11.22133455, 11.2438211 , 11.26544256, 11.32572408, 11.33517117,\n",
       "       11.40552398, 11.42979057, 11.48980366, 11.51075349, 11.5440229 ,\n",
       "       11.56307858, 11.59346916, 11.59935496, 11.63891522, 11.64972496])"
      ]
     },
     "execution_count": 52,
     "metadata": {},
     "output_type": "execute_result"
    }
   ],
   "source": [
    "y2_log_pred=reg_log.predict(X2_log)\n",
    "y2_log_pred"
   ]
  },
  {
   "cell_type": "markdown",
   "id": "1d17038a",
   "metadata": {},
   "source": [
    "# Comparision of models with Root MSE and R2 Score"
   ]
  },
  {
   "cell_type": "code",
   "execution_count": 53,
   "id": "2c45219e",
   "metadata": {},
   "outputs": [
    {
     "name": "stdout",
     "output_type": "stream",
     "text": [
      "RMSE2=  5592.043608760662 \n",
      "RMSE2_norm=  0.06605296017907702 \n",
      "RMSE2_log= 0.11163070330504787\n"
     ]
    }
   ],
   "source": [
    "#Root Mean squared error calculation\n",
    "RMSE2=np.sqrt(mean_squared_error(y2,y2_pred))\n",
    "RMSE2_norm=np.sqrt(mean_squared_error(y2_norm,y2_norm_pred))\n",
    "RMSE2_log=np.sqrt(mean_squared_error(y2_log,y2_log_pred))\n",
    "print('RMSE2= ',RMSE2,'\\nRMSE2_norm= ',RMSE2_norm,'\\nRMSE2_log=',RMSE2_log)"
   ]
  },
  {
   "cell_type": "code",
   "execution_count": 54,
   "id": "163695d1",
   "metadata": {},
   "outputs": [
    {
     "name": "stdout",
     "output_type": "stream",
     "text": [
      "R2SC2=  0.9569566641435086 \n",
      "R2SC2_norm=  0.9569566641435086 \n",
      "R2SC2_log= 0.9052150725817151\n"
     ]
    }
   ],
   "source": [
    "# R2 Score Calculation\n",
    "R2SC2=r2_score(y2,y2_pred)\n",
    "R2SC2_norm=r2_score(y2_norm,y2_norm_pred)\n",
    "R2SC2_log=r2_score(y2_log,y2_log_pred)\n",
    "print('R2SC2= ',R2SC2,'\\nR2SC2_norm= ',R2SC2_norm,'\\nR2SC2_log=',R2SC2_log)"
   ]
  },
  {
   "cell_type": "markdown",
   "id": "7843fac9",
   "metadata": {},
   "source": [
    "# Conclusion:"
   ]
  },
  {
   "cell_type": "markdown",
   "id": "aa9033ca",
   "metadata": {},
   "source": [
    "# We can clearly see that the R2 Score of the \"1st model (Without any changes)  and the logarithmic transformed model\" are the heighest so both of them are Best models here. "
   ]
  }
 ],
 "metadata": {
  "kernelspec": {
   "display_name": "Python 3 (ipykernel)",
   "language": "python",
   "name": "python3"
  },
  "language_info": {
   "codemirror_mode": {
    "name": "ipython",
    "version": 3
   },
   "file_extension": ".py",
   "mimetype": "text/x-python",
   "name": "python",
   "nbconvert_exporter": "python",
   "pygments_lexer": "ipython3",
   "version": "3.11.3"
  }
 },
 "nbformat": 4,
 "nbformat_minor": 5
}
